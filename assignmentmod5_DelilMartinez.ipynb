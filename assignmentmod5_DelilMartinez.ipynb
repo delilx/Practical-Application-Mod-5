{
  "cells": [
    {
      "cell_type": "markdown",
      "metadata": {
        "id": "CcUT6Fon_qRE"
      },
      "source": [
        "### Required Assignment 5.1: Will the Customer Accept the Coupon?\n",
        "\n",
        "**Context**\n",
        "\n",
        "Imagine driving through town and a coupon is delivered to your cell phone for a restaurant near where you are driving. Would you accept that coupon and take a short detour to the restaurant? Would you accept the coupon but use it on a subsequent trip? Would you ignore the coupon entirely? What if the coupon was for a bar instead of a restaurant? What about a coffee house? Would you accept a bar coupon with a minor passenger in the car? What about if it was just you and your partner in the car? Would weather impact the rate of acceptance? What about the time of day?\n",
        "\n",
        "Obviously, proximity to the business is a factor on whether the coupon is delivered to the driver or not, but what are the factors that determine whether a driver accepts the coupon once it is delivered to them? How would you determine whether a driver is likely to accept a coupon?\n",
        "\n",
        "**Overview**\n",
        "\n",
        "The goal of this project is to use what you know about visualizations and probability distributions to distinguish between customers who accepted a driving coupon versus those that did not.\n",
        "\n",
        "**Data**\n",
        "\n",
        "This data comes to us from the UCI Machine Learning repository and was collected via a survey on Amazon Mechanical Turk. The survey describes different driving scenarios including the destination, current time, weather, passenger, etc., and then ask the person whether he will accept the coupon if he is the driver. Answers that the user will drive there ‘right away’ or ‘later before the coupon expires’ are labeled as ‘Y = 1’ and answers ‘no, I do not want the coupon’ are labeled as ‘Y = 0’.  There are five different types of coupons -- less expensive restaurants (under \\$20), coffee houses, carry out & take away, bar, and more expensive restaurants (\\$20 - $50)."
      ]
    },
    {
      "cell_type": "markdown",
      "metadata": {
        "id": "1wORvMBJ_qRF"
      },
      "source": [
        "**Deliverables**\n",
        "\n",
        "Your final product should be a brief report that highlights the differences between customers who did and did not accept the coupons.  To explore the data you will utilize your knowledge of plotting, statistical summaries, and visualization using Python. You will publish your findings in a public facing github repository as your first portfolio piece.\n",
        "\n",
        "\n",
        "\n"
      ]
    },
    {
      "cell_type": "markdown",
      "metadata": {
        "id": "pG6_Ym6q_qRG"
      },
      "source": [
        "### Data Description\n",
        "Keep in mind that these values mentioned below are average values.\n",
        "\n",
        "The attributes of this data set include:\n",
        "1. User attributes\n",
        "    -  Gender: male, female\n",
        "    -  Age: below 21, 21 to 25, 26 to 30, etc.\n",
        "    -  Marital Status: single, married partner, unmarried partner, or widowed\n",
        "    -  Number of children: 0, 1, or more than 1\n",
        "    -  Education: high school, bachelors degree, associates degree, or graduate degree\n",
        "    -  Occupation: architecture & engineering, business & financial, etc.\n",
        "    -  Annual income: less than \\\\$12500, \\\\$12500 - \\\\$24999, \\\\$25000 - \\\\$37499, etc.\n",
        "    -  Number of times that he/she goes to a bar: 0, less than 1, 1 to 3, 4 to 8 or greater than 8\n",
        "    -  Number of times that he/she buys takeaway food: 0, less than 1, 1 to 3, 4 to 8 or greater\n",
        "    than 8\n",
        "    -  Number of times that he/she goes to a coffee house: 0, less than 1, 1 to 3, 4 to 8 or\n",
        "    greater than 8\n",
        "    -  Number of times that he/she eats at a restaurant with average expense less than \\\\$20 per\n",
        "    person: 0, less than 1, 1 to 3, 4 to 8 or greater than 8\n",
        "    -  Number of times that he/she goes to a bar: 0, less than 1, 1 to 3, 4 to 8 or greater than 8\n",
        "    \n",
        "\n",
        "2. Contextual attributes\n",
        "    - Driving destination: home, work, or no urgent destination\n",
        "    - Location of user, coupon and destination: we provide a map to show the geographical\n",
        "    location of the user, destination, and the venue, and we mark the distance between each\n",
        "    two places with time of driving. The user can see whether the venue is in the same\n",
        "    direction as the destination.\n",
        "    - Weather: sunny, rainy, or snowy\n",
        "    - Temperature: 30F, 55F, or 80F\n",
        "    - Time: 10AM, 2PM, or 6PM\n",
        "    - Passenger: alone, partner, kid(s), or friend(s)\n",
        "\n",
        "\n",
        "3. Coupon attributes\n",
        "    - time before it expires: 2 hours or one day"
      ]
    },
    {
      "cell_type": "code",
      "source": [
        "##For Google Colab only\n",
        "\n",
        "#from google.colab import drive\n",
        "#drive.mount('/content/drive')"
      ],
      "metadata": {
        "colab": {
          "base_uri": "https://localhost:8080/"
        },
        "id": "-SLGjZlJ5w2b",
        "outputId": "238209e2-9e12-427d-bd2e-3228761ff672"
      },
      "execution_count": 174,
      "outputs": [
        {
          "output_type": "stream",
          "name": "stdout",
          "text": [
            "Drive already mounted at /content/drive; to attempt to forcibly remount, call drive.mount(\"/content/drive\", force_remount=True).\n"
          ]
        }
      ]
    },
    {
      "cell_type": "code",
      "execution_count": 175,
      "metadata": {
        "id": "dzNoP3o__qRG"
      },
      "outputs": [],
      "source": [
        "import matplotlib.pyplot as plt\n",
        "import seaborn as sns\n",
        "import pandas as pd\n",
        "import numpy as np"
      ]
    },
    {
      "cell_type": "markdown",
      "metadata": {
        "id": "Ct8pI1uE_qRG"
      },
      "source": [
        "### Problems\n",
        "\n",
        "Use the prompts below to get started with your data analysis.  \n",
        "\n",
        "1. Read in the `coupons.csv` file.\n",
        "\n",
        "\n"
      ]
    },
    {
      "cell_type": "code",
      "execution_count": 176,
      "metadata": {
        "id": "X0vbffYg_qRH"
      },
      "outputs": [],
      "source": [
        "#data = pd.read_csv('/content/drive/My Drive/Berkeley/data/coupons.csv')\n",
        "data = pd.read_csv('coupons.csv')"
      ]
    },
    {
      "cell_type": "code",
      "source": [
        "data.info()"
      ],
      "metadata": {
        "colab": {
          "base_uri": "https://localhost:8080/"
        },
        "id": "oOzhfuBvo0y0",
        "outputId": "7b448828-8b56-4a9b-f049-30b56e843e74"
      },
      "execution_count": 177,
      "outputs": [
        {
          "output_type": "stream",
          "name": "stdout",
          "text": [
            "<class 'pandas.core.frame.DataFrame'>\n",
            "RangeIndex: 12684 entries, 0 to 12683\n",
            "Data columns (total 26 columns):\n",
            " #   Column                Non-Null Count  Dtype \n",
            "---  ------                --------------  ----- \n",
            " 0   destination           12684 non-null  object\n",
            " 1   passanger             12684 non-null  object\n",
            " 2   weather               12684 non-null  object\n",
            " 3   temperature           12684 non-null  int64 \n",
            " 4   time                  12684 non-null  object\n",
            " 5   coupon                12684 non-null  object\n",
            " 6   expiration            12684 non-null  object\n",
            " 7   gender                12684 non-null  object\n",
            " 8   age                   12684 non-null  object\n",
            " 9   maritalStatus         12684 non-null  object\n",
            " 10  has_children          12684 non-null  int64 \n",
            " 11  education             12684 non-null  object\n",
            " 12  occupation            12684 non-null  object\n",
            " 13  income                12684 non-null  object\n",
            " 14  car                   108 non-null    object\n",
            " 15  Bar                   12577 non-null  object\n",
            " 16  CoffeeHouse           12467 non-null  object\n",
            " 17  CarryAway             12533 non-null  object\n",
            " 18  RestaurantLessThan20  12554 non-null  object\n",
            " 19  Restaurant20To50      12495 non-null  object\n",
            " 20  toCoupon_GEQ5min      12684 non-null  int64 \n",
            " 21  toCoupon_GEQ15min     12684 non-null  int64 \n",
            " 22  toCoupon_GEQ25min     12684 non-null  int64 \n",
            " 23  direction_same        12684 non-null  int64 \n",
            " 24  direction_opp         12684 non-null  int64 \n",
            " 25  Y                     12684 non-null  int64 \n",
            "dtypes: int64(8), object(18)\n",
            "memory usage: 2.5+ MB\n"
          ]
        }
      ]
    },
    {
      "cell_type": "code",
      "source": [
        "#Rename to fix the name of \"passenger\" column\n",
        "data.rename(columns = {'passanger': 'passenger'}, inplace = True)"
      ],
      "metadata": {
        "id": "SZZCN28Bo7VB"
      },
      "execution_count": 178,
      "outputs": []
    },
    {
      "cell_type": "code",
      "source": [
        "data.head()"
      ],
      "metadata": {
        "id": "F6rC3xvio7QU",
        "colab": {
          "base_uri": "https://localhost:8080/",
          "height": 342
        },
        "outputId": "b2d29e4d-8f34-41a2-e24c-90609dbf58a6"
      },
      "execution_count": 179,
      "outputs": [
        {
          "output_type": "execute_result",
          "data": {
            "text/plain": [
              "       destination  passenger weather  temperature  time  \\\n",
              "0  No Urgent Place      Alone   Sunny           55   2PM   \n",
              "1  No Urgent Place  Friend(s)   Sunny           80  10AM   \n",
              "2  No Urgent Place  Friend(s)   Sunny           80  10AM   \n",
              "3  No Urgent Place  Friend(s)   Sunny           80   2PM   \n",
              "4  No Urgent Place  Friend(s)   Sunny           80   2PM   \n",
              "\n",
              "                  coupon expiration  gender age      maritalStatus  ...  \\\n",
              "0        Restaurant(<20)         1d  Female  21  Unmarried partner  ...   \n",
              "1           Coffee House         2h  Female  21  Unmarried partner  ...   \n",
              "2  Carry out & Take away         2h  Female  21  Unmarried partner  ...   \n",
              "3           Coffee House         2h  Female  21  Unmarried partner  ...   \n",
              "4           Coffee House         1d  Female  21  Unmarried partner  ...   \n",
              "\n",
              "   CoffeeHouse CarryAway RestaurantLessThan20 Restaurant20To50  \\\n",
              "0        never       NaN                  4~8              1~3   \n",
              "1        never       NaN                  4~8              1~3   \n",
              "2        never       NaN                  4~8              1~3   \n",
              "3        never       NaN                  4~8              1~3   \n",
              "4        never       NaN                  4~8              1~3   \n",
              "\n",
              "  toCoupon_GEQ5min toCoupon_GEQ15min toCoupon_GEQ25min direction_same  \\\n",
              "0                1                 0                 0              0   \n",
              "1                1                 0                 0              0   \n",
              "2                1                 1                 0              0   \n",
              "3                1                 1                 0              0   \n",
              "4                1                 1                 0              0   \n",
              "\n",
              "  direction_opp  Y  \n",
              "0             1  1  \n",
              "1             1  0  \n",
              "2             1  1  \n",
              "3             1  0  \n",
              "4             1  0  \n",
              "\n",
              "[5 rows x 26 columns]"
            ],
            "text/html": [
              "\n",
              "  <div id=\"df-336f32b7-19e0-4514-a1a6-67c3f7d51a3b\" class=\"colab-df-container\">\n",
              "    <div>\n",
              "<style scoped>\n",
              "    .dataframe tbody tr th:only-of-type {\n",
              "        vertical-align: middle;\n",
              "    }\n",
              "\n",
              "    .dataframe tbody tr th {\n",
              "        vertical-align: top;\n",
              "    }\n",
              "\n",
              "    .dataframe thead th {\n",
              "        text-align: right;\n",
              "    }\n",
              "</style>\n",
              "<table border=\"1\" class=\"dataframe\">\n",
              "  <thead>\n",
              "    <tr style=\"text-align: right;\">\n",
              "      <th></th>\n",
              "      <th>destination</th>\n",
              "      <th>passenger</th>\n",
              "      <th>weather</th>\n",
              "      <th>temperature</th>\n",
              "      <th>time</th>\n",
              "      <th>coupon</th>\n",
              "      <th>expiration</th>\n",
              "      <th>gender</th>\n",
              "      <th>age</th>\n",
              "      <th>maritalStatus</th>\n",
              "      <th>...</th>\n",
              "      <th>CoffeeHouse</th>\n",
              "      <th>CarryAway</th>\n",
              "      <th>RestaurantLessThan20</th>\n",
              "      <th>Restaurant20To50</th>\n",
              "      <th>toCoupon_GEQ5min</th>\n",
              "      <th>toCoupon_GEQ15min</th>\n",
              "      <th>toCoupon_GEQ25min</th>\n",
              "      <th>direction_same</th>\n",
              "      <th>direction_opp</th>\n",
              "      <th>Y</th>\n",
              "    </tr>\n",
              "  </thead>\n",
              "  <tbody>\n",
              "    <tr>\n",
              "      <th>0</th>\n",
              "      <td>No Urgent Place</td>\n",
              "      <td>Alone</td>\n",
              "      <td>Sunny</td>\n",
              "      <td>55</td>\n",
              "      <td>2PM</td>\n",
              "      <td>Restaurant(&lt;20)</td>\n",
              "      <td>1d</td>\n",
              "      <td>Female</td>\n",
              "      <td>21</td>\n",
              "      <td>Unmarried partner</td>\n",
              "      <td>...</td>\n",
              "      <td>never</td>\n",
              "      <td>NaN</td>\n",
              "      <td>4~8</td>\n",
              "      <td>1~3</td>\n",
              "      <td>1</td>\n",
              "      <td>0</td>\n",
              "      <td>0</td>\n",
              "      <td>0</td>\n",
              "      <td>1</td>\n",
              "      <td>1</td>\n",
              "    </tr>\n",
              "    <tr>\n",
              "      <th>1</th>\n",
              "      <td>No Urgent Place</td>\n",
              "      <td>Friend(s)</td>\n",
              "      <td>Sunny</td>\n",
              "      <td>80</td>\n",
              "      <td>10AM</td>\n",
              "      <td>Coffee House</td>\n",
              "      <td>2h</td>\n",
              "      <td>Female</td>\n",
              "      <td>21</td>\n",
              "      <td>Unmarried partner</td>\n",
              "      <td>...</td>\n",
              "      <td>never</td>\n",
              "      <td>NaN</td>\n",
              "      <td>4~8</td>\n",
              "      <td>1~3</td>\n",
              "      <td>1</td>\n",
              "      <td>0</td>\n",
              "      <td>0</td>\n",
              "      <td>0</td>\n",
              "      <td>1</td>\n",
              "      <td>0</td>\n",
              "    </tr>\n",
              "    <tr>\n",
              "      <th>2</th>\n",
              "      <td>No Urgent Place</td>\n",
              "      <td>Friend(s)</td>\n",
              "      <td>Sunny</td>\n",
              "      <td>80</td>\n",
              "      <td>10AM</td>\n",
              "      <td>Carry out &amp; Take away</td>\n",
              "      <td>2h</td>\n",
              "      <td>Female</td>\n",
              "      <td>21</td>\n",
              "      <td>Unmarried partner</td>\n",
              "      <td>...</td>\n",
              "      <td>never</td>\n",
              "      <td>NaN</td>\n",
              "      <td>4~8</td>\n",
              "      <td>1~3</td>\n",
              "      <td>1</td>\n",
              "      <td>1</td>\n",
              "      <td>0</td>\n",
              "      <td>0</td>\n",
              "      <td>1</td>\n",
              "      <td>1</td>\n",
              "    </tr>\n",
              "    <tr>\n",
              "      <th>3</th>\n",
              "      <td>No Urgent Place</td>\n",
              "      <td>Friend(s)</td>\n",
              "      <td>Sunny</td>\n",
              "      <td>80</td>\n",
              "      <td>2PM</td>\n",
              "      <td>Coffee House</td>\n",
              "      <td>2h</td>\n",
              "      <td>Female</td>\n",
              "      <td>21</td>\n",
              "      <td>Unmarried partner</td>\n",
              "      <td>...</td>\n",
              "      <td>never</td>\n",
              "      <td>NaN</td>\n",
              "      <td>4~8</td>\n",
              "      <td>1~3</td>\n",
              "      <td>1</td>\n",
              "      <td>1</td>\n",
              "      <td>0</td>\n",
              "      <td>0</td>\n",
              "      <td>1</td>\n",
              "      <td>0</td>\n",
              "    </tr>\n",
              "    <tr>\n",
              "      <th>4</th>\n",
              "      <td>No Urgent Place</td>\n",
              "      <td>Friend(s)</td>\n",
              "      <td>Sunny</td>\n",
              "      <td>80</td>\n",
              "      <td>2PM</td>\n",
              "      <td>Coffee House</td>\n",
              "      <td>1d</td>\n",
              "      <td>Female</td>\n",
              "      <td>21</td>\n",
              "      <td>Unmarried partner</td>\n",
              "      <td>...</td>\n",
              "      <td>never</td>\n",
              "      <td>NaN</td>\n",
              "      <td>4~8</td>\n",
              "      <td>1~3</td>\n",
              "      <td>1</td>\n",
              "      <td>1</td>\n",
              "      <td>0</td>\n",
              "      <td>0</td>\n",
              "      <td>1</td>\n",
              "      <td>0</td>\n",
              "    </tr>\n",
              "  </tbody>\n",
              "</table>\n",
              "<p>5 rows × 26 columns</p>\n",
              "</div>\n",
              "    <div class=\"colab-df-buttons\">\n",
              "\n",
              "  <div class=\"colab-df-container\">\n",
              "    <button class=\"colab-df-convert\" onclick=\"convertToInteractive('df-336f32b7-19e0-4514-a1a6-67c3f7d51a3b')\"\n",
              "            title=\"Convert this dataframe to an interactive table.\"\n",
              "            style=\"display:none;\">\n",
              "\n",
              "  <svg xmlns=\"http://www.w3.org/2000/svg\" height=\"24px\" viewBox=\"0 -960 960 960\">\n",
              "    <path d=\"M120-120v-720h720v720H120Zm60-500h600v-160H180v160Zm220 220h160v-160H400v160Zm0 220h160v-160H400v160ZM180-400h160v-160H180v160Zm440 0h160v-160H620v160ZM180-180h160v-160H180v160Zm440 0h160v-160H620v160Z\"/>\n",
              "  </svg>\n",
              "    </button>\n",
              "\n",
              "  <style>\n",
              "    .colab-df-container {\n",
              "      display:flex;\n",
              "      gap: 12px;\n",
              "    }\n",
              "\n",
              "    .colab-df-convert {\n",
              "      background-color: #E8F0FE;\n",
              "      border: none;\n",
              "      border-radius: 50%;\n",
              "      cursor: pointer;\n",
              "      display: none;\n",
              "      fill: #1967D2;\n",
              "      height: 32px;\n",
              "      padding: 0 0 0 0;\n",
              "      width: 32px;\n",
              "    }\n",
              "\n",
              "    .colab-df-convert:hover {\n",
              "      background-color: #E2EBFA;\n",
              "      box-shadow: 0px 1px 2px rgba(60, 64, 67, 0.3), 0px 1px 3px 1px rgba(60, 64, 67, 0.15);\n",
              "      fill: #174EA6;\n",
              "    }\n",
              "\n",
              "    .colab-df-buttons div {\n",
              "      margin-bottom: 4px;\n",
              "    }\n",
              "\n",
              "    [theme=dark] .colab-df-convert {\n",
              "      background-color: #3B4455;\n",
              "      fill: #D2E3FC;\n",
              "    }\n",
              "\n",
              "    [theme=dark] .colab-df-convert:hover {\n",
              "      background-color: #434B5C;\n",
              "      box-shadow: 0px 1px 3px 1px rgba(0, 0, 0, 0.15);\n",
              "      filter: drop-shadow(0px 1px 2px rgba(0, 0, 0, 0.3));\n",
              "      fill: #FFFFFF;\n",
              "    }\n",
              "  </style>\n",
              "\n",
              "    <script>\n",
              "      const buttonEl =\n",
              "        document.querySelector('#df-336f32b7-19e0-4514-a1a6-67c3f7d51a3b button.colab-df-convert');\n",
              "      buttonEl.style.display =\n",
              "        google.colab.kernel.accessAllowed ? 'block' : 'none';\n",
              "\n",
              "      async function convertToInteractive(key) {\n",
              "        const element = document.querySelector('#df-336f32b7-19e0-4514-a1a6-67c3f7d51a3b');\n",
              "        const dataTable =\n",
              "          await google.colab.kernel.invokeFunction('convertToInteractive',\n",
              "                                                    [key], {});\n",
              "        if (!dataTable) return;\n",
              "\n",
              "        const docLinkHtml = 'Like what you see? Visit the ' +\n",
              "          '<a target=\"_blank\" href=https://colab.research.google.com/notebooks/data_table.ipynb>data table notebook</a>'\n",
              "          + ' to learn more about interactive tables.';\n",
              "        element.innerHTML = '';\n",
              "        dataTable['output_type'] = 'display_data';\n",
              "        await google.colab.output.renderOutput(dataTable, element);\n",
              "        const docLink = document.createElement('div');\n",
              "        docLink.innerHTML = docLinkHtml;\n",
              "        element.appendChild(docLink);\n",
              "      }\n",
              "    </script>\n",
              "  </div>\n",
              "\n",
              "\n",
              "<div id=\"df-ed0ac1e8-0415-4656-a8ba-e3c1069c68eb\">\n",
              "  <button class=\"colab-df-quickchart\" onclick=\"quickchart('df-ed0ac1e8-0415-4656-a8ba-e3c1069c68eb')\"\n",
              "            title=\"Suggest charts\"\n",
              "            style=\"display:none;\">\n",
              "\n",
              "<svg xmlns=\"http://www.w3.org/2000/svg\" height=\"24px\"viewBox=\"0 0 24 24\"\n",
              "     width=\"24px\">\n",
              "    <g>\n",
              "        <path d=\"M19 3H5c-1.1 0-2 .9-2 2v14c0 1.1.9 2 2 2h14c1.1 0 2-.9 2-2V5c0-1.1-.9-2-2-2zM9 17H7v-7h2v7zm4 0h-2V7h2v10zm4 0h-2v-4h2v4z\"/>\n",
              "    </g>\n",
              "</svg>\n",
              "  </button>\n",
              "\n",
              "<style>\n",
              "  .colab-df-quickchart {\n",
              "      --bg-color: #E8F0FE;\n",
              "      --fill-color: #1967D2;\n",
              "      --hover-bg-color: #E2EBFA;\n",
              "      --hover-fill-color: #174EA6;\n",
              "      --disabled-fill-color: #AAA;\n",
              "      --disabled-bg-color: #DDD;\n",
              "  }\n",
              "\n",
              "  [theme=dark] .colab-df-quickchart {\n",
              "      --bg-color: #3B4455;\n",
              "      --fill-color: #D2E3FC;\n",
              "      --hover-bg-color: #434B5C;\n",
              "      --hover-fill-color: #FFFFFF;\n",
              "      --disabled-bg-color: #3B4455;\n",
              "      --disabled-fill-color: #666;\n",
              "  }\n",
              "\n",
              "  .colab-df-quickchart {\n",
              "    background-color: var(--bg-color);\n",
              "    border: none;\n",
              "    border-radius: 50%;\n",
              "    cursor: pointer;\n",
              "    display: none;\n",
              "    fill: var(--fill-color);\n",
              "    height: 32px;\n",
              "    padding: 0;\n",
              "    width: 32px;\n",
              "  }\n",
              "\n",
              "  .colab-df-quickchart:hover {\n",
              "    background-color: var(--hover-bg-color);\n",
              "    box-shadow: 0 1px 2px rgba(60, 64, 67, 0.3), 0 1px 3px 1px rgba(60, 64, 67, 0.15);\n",
              "    fill: var(--button-hover-fill-color);\n",
              "  }\n",
              "\n",
              "  .colab-df-quickchart-complete:disabled,\n",
              "  .colab-df-quickchart-complete:disabled:hover {\n",
              "    background-color: var(--disabled-bg-color);\n",
              "    fill: var(--disabled-fill-color);\n",
              "    box-shadow: none;\n",
              "  }\n",
              "\n",
              "  .colab-df-spinner {\n",
              "    border: 2px solid var(--fill-color);\n",
              "    border-color: transparent;\n",
              "    border-bottom-color: var(--fill-color);\n",
              "    animation:\n",
              "      spin 1s steps(1) infinite;\n",
              "  }\n",
              "\n",
              "  @keyframes spin {\n",
              "    0% {\n",
              "      border-color: transparent;\n",
              "      border-bottom-color: var(--fill-color);\n",
              "      border-left-color: var(--fill-color);\n",
              "    }\n",
              "    20% {\n",
              "      border-color: transparent;\n",
              "      border-left-color: var(--fill-color);\n",
              "      border-top-color: var(--fill-color);\n",
              "    }\n",
              "    30% {\n",
              "      border-color: transparent;\n",
              "      border-left-color: var(--fill-color);\n",
              "      border-top-color: var(--fill-color);\n",
              "      border-right-color: var(--fill-color);\n",
              "    }\n",
              "    40% {\n",
              "      border-color: transparent;\n",
              "      border-right-color: var(--fill-color);\n",
              "      border-top-color: var(--fill-color);\n",
              "    }\n",
              "    60% {\n",
              "      border-color: transparent;\n",
              "      border-right-color: var(--fill-color);\n",
              "    }\n",
              "    80% {\n",
              "      border-color: transparent;\n",
              "      border-right-color: var(--fill-color);\n",
              "      border-bottom-color: var(--fill-color);\n",
              "    }\n",
              "    90% {\n",
              "      border-color: transparent;\n",
              "      border-bottom-color: var(--fill-color);\n",
              "    }\n",
              "  }\n",
              "</style>\n",
              "\n",
              "  <script>\n",
              "    async function quickchart(key) {\n",
              "      const quickchartButtonEl =\n",
              "        document.querySelector('#' + key + ' button');\n",
              "      quickchartButtonEl.disabled = true;  // To prevent multiple clicks.\n",
              "      quickchartButtonEl.classList.add('colab-df-spinner');\n",
              "      try {\n",
              "        const charts = await google.colab.kernel.invokeFunction(\n",
              "            'suggestCharts', [key], {});\n",
              "      } catch (error) {\n",
              "        console.error('Error during call to suggestCharts:', error);\n",
              "      }\n",
              "      quickchartButtonEl.classList.remove('colab-df-spinner');\n",
              "      quickchartButtonEl.classList.add('colab-df-quickchart-complete');\n",
              "    }\n",
              "    (() => {\n",
              "      let quickchartButtonEl =\n",
              "        document.querySelector('#df-ed0ac1e8-0415-4656-a8ba-e3c1069c68eb button');\n",
              "      quickchartButtonEl.style.display =\n",
              "        google.colab.kernel.accessAllowed ? 'block' : 'none';\n",
              "    })();\n",
              "  </script>\n",
              "</div>\n",
              "\n",
              "    </div>\n",
              "  </div>\n"
            ],
            "application/vnd.google.colaboratory.intrinsic+json": {
              "type": "dataframe",
              "variable_name": "data"
            }
          },
          "metadata": {},
          "execution_count": 179
        }
      ]
    },
    {
      "cell_type": "code",
      "source": [],
      "metadata": {
        "id": "hfybMHNpo7Kp"
      },
      "execution_count": null,
      "outputs": []
    },
    {
      "cell_type": "markdown",
      "metadata": {
        "id": "GcDs78ZH_qRH"
      },
      "source": [
        "2. Investigate the dataset for missing or problematic data."
      ]
    },
    {
      "cell_type": "code",
      "source": [
        "missingdata = data.isnull().sum()\n",
        "missingdata"
      ],
      "metadata": {
        "colab": {
          "base_uri": "https://localhost:8080/",
          "height": 899
        },
        "id": "6bdMLUYdwKUZ",
        "outputId": "78e7ba19-04b3-407c-ba16-b3c867b8398e"
      },
      "execution_count": 180,
      "outputs": [
        {
          "output_type": "execute_result",
          "data": {
            "text/plain": [
              "destination                 0\n",
              "passenger                   0\n",
              "weather                     0\n",
              "temperature                 0\n",
              "time                        0\n",
              "coupon                      0\n",
              "expiration                  0\n",
              "gender                      0\n",
              "age                         0\n",
              "maritalStatus               0\n",
              "has_children                0\n",
              "education                   0\n",
              "occupation                  0\n",
              "income                      0\n",
              "car                     12576\n",
              "Bar                       107\n",
              "CoffeeHouse               217\n",
              "CarryAway                 151\n",
              "RestaurantLessThan20      130\n",
              "Restaurant20To50          189\n",
              "toCoupon_GEQ5min            0\n",
              "toCoupon_GEQ15min           0\n",
              "toCoupon_GEQ25min           0\n",
              "direction_same              0\n",
              "direction_opp               0\n",
              "Y                           0\n",
              "dtype: int64"
            ],
            "text/html": [
              "<div>\n",
              "<style scoped>\n",
              "    .dataframe tbody tr th:only-of-type {\n",
              "        vertical-align: middle;\n",
              "    }\n",
              "\n",
              "    .dataframe tbody tr th {\n",
              "        vertical-align: top;\n",
              "    }\n",
              "\n",
              "    .dataframe thead th {\n",
              "        text-align: right;\n",
              "    }\n",
              "</style>\n",
              "<table border=\"1\" class=\"dataframe\">\n",
              "  <thead>\n",
              "    <tr style=\"text-align: right;\">\n",
              "      <th></th>\n",
              "      <th>0</th>\n",
              "    </tr>\n",
              "  </thead>\n",
              "  <tbody>\n",
              "    <tr>\n",
              "      <th>destination</th>\n",
              "      <td>0</td>\n",
              "    </tr>\n",
              "    <tr>\n",
              "      <th>passenger</th>\n",
              "      <td>0</td>\n",
              "    </tr>\n",
              "    <tr>\n",
              "      <th>weather</th>\n",
              "      <td>0</td>\n",
              "    </tr>\n",
              "    <tr>\n",
              "      <th>temperature</th>\n",
              "      <td>0</td>\n",
              "    </tr>\n",
              "    <tr>\n",
              "      <th>time</th>\n",
              "      <td>0</td>\n",
              "    </tr>\n",
              "    <tr>\n",
              "      <th>coupon</th>\n",
              "      <td>0</td>\n",
              "    </tr>\n",
              "    <tr>\n",
              "      <th>expiration</th>\n",
              "      <td>0</td>\n",
              "    </tr>\n",
              "    <tr>\n",
              "      <th>gender</th>\n",
              "      <td>0</td>\n",
              "    </tr>\n",
              "    <tr>\n",
              "      <th>age</th>\n",
              "      <td>0</td>\n",
              "    </tr>\n",
              "    <tr>\n",
              "      <th>maritalStatus</th>\n",
              "      <td>0</td>\n",
              "    </tr>\n",
              "    <tr>\n",
              "      <th>has_children</th>\n",
              "      <td>0</td>\n",
              "    </tr>\n",
              "    <tr>\n",
              "      <th>education</th>\n",
              "      <td>0</td>\n",
              "    </tr>\n",
              "    <tr>\n",
              "      <th>occupation</th>\n",
              "      <td>0</td>\n",
              "    </tr>\n",
              "    <tr>\n",
              "      <th>income</th>\n",
              "      <td>0</td>\n",
              "    </tr>\n",
              "    <tr>\n",
              "      <th>car</th>\n",
              "      <td>12576</td>\n",
              "    </tr>\n",
              "    <tr>\n",
              "      <th>Bar</th>\n",
              "      <td>107</td>\n",
              "    </tr>\n",
              "    <tr>\n",
              "      <th>CoffeeHouse</th>\n",
              "      <td>217</td>\n",
              "    </tr>\n",
              "    <tr>\n",
              "      <th>CarryAway</th>\n",
              "      <td>151</td>\n",
              "    </tr>\n",
              "    <tr>\n",
              "      <th>RestaurantLessThan20</th>\n",
              "      <td>130</td>\n",
              "    </tr>\n",
              "    <tr>\n",
              "      <th>Restaurant20To50</th>\n",
              "      <td>189</td>\n",
              "    </tr>\n",
              "    <tr>\n",
              "      <th>toCoupon_GEQ5min</th>\n",
              "      <td>0</td>\n",
              "    </tr>\n",
              "    <tr>\n",
              "      <th>toCoupon_GEQ15min</th>\n",
              "      <td>0</td>\n",
              "    </tr>\n",
              "    <tr>\n",
              "      <th>toCoupon_GEQ25min</th>\n",
              "      <td>0</td>\n",
              "    </tr>\n",
              "    <tr>\n",
              "      <th>direction_same</th>\n",
              "      <td>0</td>\n",
              "    </tr>\n",
              "    <tr>\n",
              "      <th>direction_opp</th>\n",
              "      <td>0</td>\n",
              "    </tr>\n",
              "    <tr>\n",
              "      <th>Y</th>\n",
              "      <td>0</td>\n",
              "    </tr>\n",
              "  </tbody>\n",
              "</table>\n",
              "</div><br><label><b>dtype:</b> int64</label>"
            ]
          },
          "metadata": {},
          "execution_count": 180
        }
      ]
    },
    {
      "cell_type": "code",
      "execution_count": 181,
      "metadata": {
        "id": "6CwL6oWj_qRH",
        "colab": {
          "base_uri": "https://localhost:8080/"
        },
        "outputId": "63d14a94-9383-423d-b0f4-0b49649bc256"
      },
      "outputs": [
        {
          "output_type": "stream",
          "name": "stdout",
          "text": [
            "destination              0.000000\n",
            "passenger                0.000000\n",
            "weather                  0.000000\n",
            "temperature              0.000000\n",
            "time                     0.000000\n",
            "coupon                   0.000000\n",
            "expiration               0.000000\n",
            "gender                   0.000000\n",
            "age                      0.000000\n",
            "maritalStatus            0.000000\n",
            "has_children             0.000000\n",
            "education                0.000000\n",
            "occupation               0.000000\n",
            "income                   0.000000\n",
            "car                     99.148534\n",
            "Bar                      0.843582\n",
            "CoffeeHouse              1.710817\n",
            "CarryAway                1.190476\n",
            "RestaurantLessThan20     1.024913\n",
            "Restaurant20To50         1.490066\n",
            "toCoupon_GEQ5min         0.000000\n",
            "toCoupon_GEQ15min        0.000000\n",
            "toCoupon_GEQ25min        0.000000\n",
            "direction_same           0.000000\n",
            "direction_opp            0.000000\n",
            "Y                        0.000000\n",
            "dtype: float64\n"
          ]
        }
      ],
      "source": [
        "# Missing Values Percentage per Column\n",
        "print(missingdata*100/data.shape[0])"
      ]
    },
    {
      "cell_type": "markdown",
      "source": [
        "Clearly, the variable 'car' seems problematic as it has so many missing values."
      ],
      "metadata": {
        "id": "z6ofANbLrSWs"
      }
    },
    {
      "cell_type": "code",
      "source": [
        "#Explore the observations with 'car' information (12576 out of 12684 values are missing, so only 108 values!)\n",
        "carsubset = data.dropna(subset = 'car')\n",
        "#carsubset.info()\n",
        "carsubset['Y'].value_counts(normalize = True).sort_index()"
      ],
      "metadata": {
        "colab": {
          "base_uri": "https://localhost:8080/",
          "height": 178
        },
        "id": "rmDscEAHo7Bp",
        "outputId": "78823479-e062-4fcd-df50-3862494520ea"
      },
      "execution_count": 182,
      "outputs": [
        {
          "output_type": "execute_result",
          "data": {
            "text/plain": [
              "Y\n",
              "0    0.425926\n",
              "1    0.574074\n",
              "Name: proportion, dtype: float64"
            ],
            "text/html": [
              "<div>\n",
              "<style scoped>\n",
              "    .dataframe tbody tr th:only-of-type {\n",
              "        vertical-align: middle;\n",
              "    }\n",
              "\n",
              "    .dataframe tbody tr th {\n",
              "        vertical-align: top;\n",
              "    }\n",
              "\n",
              "    .dataframe thead th {\n",
              "        text-align: right;\n",
              "    }\n",
              "</style>\n",
              "<table border=\"1\" class=\"dataframe\">\n",
              "  <thead>\n",
              "    <tr style=\"text-align: right;\">\n",
              "      <th></th>\n",
              "      <th>proportion</th>\n",
              "    </tr>\n",
              "    <tr>\n",
              "      <th>Y</th>\n",
              "      <th></th>\n",
              "    </tr>\n",
              "  </thead>\n",
              "  <tbody>\n",
              "    <tr>\n",
              "      <th>0</th>\n",
              "      <td>0.425926</td>\n",
              "    </tr>\n",
              "    <tr>\n",
              "      <th>1</th>\n",
              "      <td>0.574074</td>\n",
              "    </tr>\n",
              "  </tbody>\n",
              "</table>\n",
              "</div><br><label><b>dtype:</b> float64</label>"
            ]
          },
          "metadata": {},
          "execution_count": 182
        }
      ]
    },
    {
      "cell_type": "code",
      "source": [
        "explore = pd.crosstab(carsubset['car'],carsubset['Y'],\n",
        "                      normalize = 'index')\n",
        "print(explore)"
      ],
      "metadata": {
        "colab": {
          "base_uri": "https://localhost:8080/"
        },
        "id": "Hp865Onto61X",
        "outputId": "eff31fd2-1ad6-444b-e178-8bc2dd6e4ea0"
      },
      "execution_count": 183,
      "outputs": [
        {
          "output_type": "stream",
          "name": "stdout",
          "text": [
            "Y                                                0         1\n",
            "car                                                         \n",
            "Car that is too old to install Onstar :D  0.190476  0.809524\n",
            "Mazda5                                    0.272727  0.727273\n",
            "Scooter and motorcycle                    0.500000  0.500000\n",
            "crossover                                 0.619048  0.380952\n",
            "do not drive                              0.545455  0.454545\n"
          ]
        }
      ]
    },
    {
      "cell_type": "code",
      "source": [],
      "metadata": {
        "id": "zF-MuR_Y4hLi"
      },
      "execution_count": null,
      "outputs": []
    },
    {
      "cell_type": "markdown",
      "metadata": {
        "id": "bSdVSpYB_qRH"
      },
      "source": [
        "3. Decide what to do about your missing data -- drop, replace, other..."
      ]
    },
    {
      "cell_type": "markdown",
      "source": [
        "Although there is a bit of interesting diversity in the coupon acceptance rate according to the values of this 'car' variable, less than 1\\% of observations are available; hence, I am deciding to drop this variable for the rest of the analysis."
      ],
      "metadata": {
        "id": "ZMDQNLPeVSG8"
      }
    },
    {
      "cell_type": "code",
      "execution_count": 184,
      "metadata": {
        "id": "tyvoAC5F_qRI",
        "colab": {
          "base_uri": "https://localhost:8080/"
        },
        "outputId": "89e0a286-3899-4bbb-b740-01cbe96574fe"
      },
      "outputs": [
        {
          "output_type": "stream",
          "name": "stdout",
          "text": [
            "<class 'pandas.core.frame.DataFrame'>\n",
            "RangeIndex: 12684 entries, 0 to 12683\n",
            "Data columns (total 25 columns):\n",
            " #   Column                Non-Null Count  Dtype \n",
            "---  ------                --------------  ----- \n",
            " 0   destination           12684 non-null  object\n",
            " 1   passenger             12684 non-null  object\n",
            " 2   weather               12684 non-null  object\n",
            " 3   temperature           12684 non-null  int64 \n",
            " 4   time                  12684 non-null  object\n",
            " 5   coupon                12684 non-null  object\n",
            " 6   expiration            12684 non-null  object\n",
            " 7   gender                12684 non-null  object\n",
            " 8   age                   12684 non-null  object\n",
            " 9   maritalStatus         12684 non-null  object\n",
            " 10  has_children          12684 non-null  int64 \n",
            " 11  education             12684 non-null  object\n",
            " 12  occupation            12684 non-null  object\n",
            " 13  income                12684 non-null  object\n",
            " 14  Bar                   12577 non-null  object\n",
            " 15  CoffeeHouse           12467 non-null  object\n",
            " 16  CarryAway             12533 non-null  object\n",
            " 17  RestaurantLessThan20  12554 non-null  object\n",
            " 18  Restaurant20To50      12495 non-null  object\n",
            " 19  toCoupon_GEQ5min      12684 non-null  int64 \n",
            " 20  toCoupon_GEQ15min     12684 non-null  int64 \n",
            " 21  toCoupon_GEQ25min     12684 non-null  int64 \n",
            " 22  direction_same        12684 non-null  int64 \n",
            " 23  direction_opp         12684 non-null  int64 \n",
            " 24  Y                     12684 non-null  int64 \n",
            "dtypes: int64(8), object(17)\n",
            "memory usage: 2.4+ MB\n"
          ]
        }
      ],
      "source": [
        "#Will drop the 'car' variable, as it has over 99% of values missing\n",
        "data = data.drop('car', axis=1)\n",
        "data.info()"
      ]
    },
    {
      "cell_type": "code",
      "source": [
        "# Review remaining missing values\n",
        "missingdata = data.isnull().sum()\n",
        "missingdata"
      ],
      "metadata": {
        "colab": {
          "base_uri": "https://localhost:8080/",
          "height": 867
        },
        "id": "AIKMfZTaydWd",
        "outputId": "ebd6dfb9-38c4-4347-b725-d571072e7bfc"
      },
      "execution_count": 185,
      "outputs": [
        {
          "output_type": "execute_result",
          "data": {
            "text/plain": [
              "destination               0\n",
              "passenger                 0\n",
              "weather                   0\n",
              "temperature               0\n",
              "time                      0\n",
              "coupon                    0\n",
              "expiration                0\n",
              "gender                    0\n",
              "age                       0\n",
              "maritalStatus             0\n",
              "has_children              0\n",
              "education                 0\n",
              "occupation                0\n",
              "income                    0\n",
              "Bar                     107\n",
              "CoffeeHouse             217\n",
              "CarryAway               151\n",
              "RestaurantLessThan20    130\n",
              "Restaurant20To50        189\n",
              "toCoupon_GEQ5min          0\n",
              "toCoupon_GEQ15min         0\n",
              "toCoupon_GEQ25min         0\n",
              "direction_same            0\n",
              "direction_opp             0\n",
              "Y                         0\n",
              "dtype: int64"
            ],
            "text/html": [
              "<div>\n",
              "<style scoped>\n",
              "    .dataframe tbody tr th:only-of-type {\n",
              "        vertical-align: middle;\n",
              "    }\n",
              "\n",
              "    .dataframe tbody tr th {\n",
              "        vertical-align: top;\n",
              "    }\n",
              "\n",
              "    .dataframe thead th {\n",
              "        text-align: right;\n",
              "    }\n",
              "</style>\n",
              "<table border=\"1\" class=\"dataframe\">\n",
              "  <thead>\n",
              "    <tr style=\"text-align: right;\">\n",
              "      <th></th>\n",
              "      <th>0</th>\n",
              "    </tr>\n",
              "  </thead>\n",
              "  <tbody>\n",
              "    <tr>\n",
              "      <th>destination</th>\n",
              "      <td>0</td>\n",
              "    </tr>\n",
              "    <tr>\n",
              "      <th>passenger</th>\n",
              "      <td>0</td>\n",
              "    </tr>\n",
              "    <tr>\n",
              "      <th>weather</th>\n",
              "      <td>0</td>\n",
              "    </tr>\n",
              "    <tr>\n",
              "      <th>temperature</th>\n",
              "      <td>0</td>\n",
              "    </tr>\n",
              "    <tr>\n",
              "      <th>time</th>\n",
              "      <td>0</td>\n",
              "    </tr>\n",
              "    <tr>\n",
              "      <th>coupon</th>\n",
              "      <td>0</td>\n",
              "    </tr>\n",
              "    <tr>\n",
              "      <th>expiration</th>\n",
              "      <td>0</td>\n",
              "    </tr>\n",
              "    <tr>\n",
              "      <th>gender</th>\n",
              "      <td>0</td>\n",
              "    </tr>\n",
              "    <tr>\n",
              "      <th>age</th>\n",
              "      <td>0</td>\n",
              "    </tr>\n",
              "    <tr>\n",
              "      <th>maritalStatus</th>\n",
              "      <td>0</td>\n",
              "    </tr>\n",
              "    <tr>\n",
              "      <th>has_children</th>\n",
              "      <td>0</td>\n",
              "    </tr>\n",
              "    <tr>\n",
              "      <th>education</th>\n",
              "      <td>0</td>\n",
              "    </tr>\n",
              "    <tr>\n",
              "      <th>occupation</th>\n",
              "      <td>0</td>\n",
              "    </tr>\n",
              "    <tr>\n",
              "      <th>income</th>\n",
              "      <td>0</td>\n",
              "    </tr>\n",
              "    <tr>\n",
              "      <th>Bar</th>\n",
              "      <td>107</td>\n",
              "    </tr>\n",
              "    <tr>\n",
              "      <th>CoffeeHouse</th>\n",
              "      <td>217</td>\n",
              "    </tr>\n",
              "    <tr>\n",
              "      <th>CarryAway</th>\n",
              "      <td>151</td>\n",
              "    </tr>\n",
              "    <tr>\n",
              "      <th>RestaurantLessThan20</th>\n",
              "      <td>130</td>\n",
              "    </tr>\n",
              "    <tr>\n",
              "      <th>Restaurant20To50</th>\n",
              "      <td>189</td>\n",
              "    </tr>\n",
              "    <tr>\n",
              "      <th>toCoupon_GEQ5min</th>\n",
              "      <td>0</td>\n",
              "    </tr>\n",
              "    <tr>\n",
              "      <th>toCoupon_GEQ15min</th>\n",
              "      <td>0</td>\n",
              "    </tr>\n",
              "    <tr>\n",
              "      <th>toCoupon_GEQ25min</th>\n",
              "      <td>0</td>\n",
              "    </tr>\n",
              "    <tr>\n",
              "      <th>direction_same</th>\n",
              "      <td>0</td>\n",
              "    </tr>\n",
              "    <tr>\n",
              "      <th>direction_opp</th>\n",
              "      <td>0</td>\n",
              "    </tr>\n",
              "    <tr>\n",
              "      <th>Y</th>\n",
              "      <td>0</td>\n",
              "    </tr>\n",
              "  </tbody>\n",
              "</table>\n",
              "</div><br><label><b>dtype:</b> int64</label>"
            ]
          },
          "metadata": {},
          "execution_count": 185
        }
      ]
    },
    {
      "cell_type": "markdown",
      "source": [
        "#### What to do with the observations with missing values (in the remaining variables)?\n",
        "Imputation could be done; a simplistic approach could assign a label of \"never\" to every missing value, but I feel a sophisticated analysis would be needed in order to do a better job assigning values (labels). All missing values are variables that reflect how often the user goes to the different categories of establishments offering the coupons -- possible values are labels such as \"never\", \"1\\~3\", etc. An appropriate decision rule ought to take into account the information contained in the rest of the variables.\n",
        "\n",
        "For this project, I am taking the simplest route and dropping all the rows with missing values (these represent less than 5\\% of the total number of observations)."
      ],
      "metadata": {
        "id": "9Z8u0DCbRoaT"
      }
    },
    {
      "cell_type": "code",
      "source": [
        "#Eliminate rows with missing values\n",
        "cleandata = data.dropna()\n",
        "cleandata.info()"
      ],
      "metadata": {
        "colab": {
          "base_uri": "https://localhost:8080/"
        },
        "id": "SM36gyPWDiKz",
        "outputId": "810ddfc3-4311-4f68-cd94-fa8bd3fed851"
      },
      "execution_count": 186,
      "outputs": [
        {
          "output_type": "stream",
          "name": "stdout",
          "text": [
            "<class 'pandas.core.frame.DataFrame'>\n",
            "Index: 12079 entries, 22 to 12683\n",
            "Data columns (total 25 columns):\n",
            " #   Column                Non-Null Count  Dtype \n",
            "---  ------                --------------  ----- \n",
            " 0   destination           12079 non-null  object\n",
            " 1   passenger             12079 non-null  object\n",
            " 2   weather               12079 non-null  object\n",
            " 3   temperature           12079 non-null  int64 \n",
            " 4   time                  12079 non-null  object\n",
            " 5   coupon                12079 non-null  object\n",
            " 6   expiration            12079 non-null  object\n",
            " 7   gender                12079 non-null  object\n",
            " 8   age                   12079 non-null  object\n",
            " 9   maritalStatus         12079 non-null  object\n",
            " 10  has_children          12079 non-null  int64 \n",
            " 11  education             12079 non-null  object\n",
            " 12  occupation            12079 non-null  object\n",
            " 13  income                12079 non-null  object\n",
            " 14  Bar                   12079 non-null  object\n",
            " 15  CoffeeHouse           12079 non-null  object\n",
            " 16  CarryAway             12079 non-null  object\n",
            " 17  RestaurantLessThan20  12079 non-null  object\n",
            " 18  Restaurant20To50      12079 non-null  object\n",
            " 19  toCoupon_GEQ5min      12079 non-null  int64 \n",
            " 20  toCoupon_GEQ15min     12079 non-null  int64 \n",
            " 21  toCoupon_GEQ25min     12079 non-null  int64 \n",
            " 22  direction_same        12079 non-null  int64 \n",
            " 23  direction_opp         12079 non-null  int64 \n",
            " 24  Y                     12079 non-null  int64 \n",
            "dtypes: int64(8), object(17)\n",
            "memory usage: 2.4+ MB\n"
          ]
        }
      ]
    },
    {
      "cell_type": "code",
      "source": [],
      "metadata": {
        "id": "Cgtl78etHXHy"
      },
      "execution_count": null,
      "outputs": []
    },
    {
      "cell_type": "markdown",
      "metadata": {
        "id": "YE6oJbXd_qRI"
      },
      "source": [
        "4. What proportion of the total observations chose to accept the coupon?\n",
        "\n"
      ]
    },
    {
      "cell_type": "code",
      "execution_count": 201,
      "metadata": {
        "id": "86GGqBTv_qRI",
        "colab": {
          "base_uri": "https://localhost:8080/",
          "height": 178
        },
        "outputId": "23299909-6898-4c03-8066-7a02f55a8d1b"
      },
      "outputs": [
        {
          "output_type": "execute_result",
          "data": {
            "text/plain": [
              "Y\n",
              "0    0.430665\n",
              "1    0.569335\n",
              "Name: count, dtype: float64"
            ],
            "text/html": [
              "<div>\n",
              "<style scoped>\n",
              "    .dataframe tbody tr th:only-of-type {\n",
              "        vertical-align: middle;\n",
              "    }\n",
              "\n",
              "    .dataframe tbody tr th {\n",
              "        vertical-align: top;\n",
              "    }\n",
              "\n",
              "    .dataframe thead th {\n",
              "        text-align: right;\n",
              "    }\n",
              "</style>\n",
              "<table border=\"1\" class=\"dataframe\">\n",
              "  <thead>\n",
              "    <tr style=\"text-align: right;\">\n",
              "      <th></th>\n",
              "      <th>count</th>\n",
              "    </tr>\n",
              "    <tr>\n",
              "      <th>Y</th>\n",
              "      <th></th>\n",
              "    </tr>\n",
              "  </thead>\n",
              "  <tbody>\n",
              "    <tr>\n",
              "      <th>0</th>\n",
              "      <td>0.430665</td>\n",
              "    </tr>\n",
              "    <tr>\n",
              "      <th>1</th>\n",
              "      <td>0.569335</td>\n",
              "    </tr>\n",
              "  </tbody>\n",
              "</table>\n",
              "</div><br><label><b>dtype:</b> float64</label>"
            ]
          },
          "metadata": {},
          "execution_count": 201
        }
      ],
      "source": [
        "couponsuccess = cleandata['Y'].value_counts().sort_index()/cleandata.shape[0]\n",
        "couponsuccess"
      ]
    },
    {
      "cell_type": "code",
      "source": [
        "couponsuccess.plot.bar()\n",
        "plt.title ('Overall Coupon Success Rate')\n",
        "plt.xticks([0,1],[\"Y = 0 (Coupon \\n not accepted)\", \"Y = 1 (Coupon \\n accepted)\"], rotation = 45)\n",
        "plt.grid(True)\n",
        "plt.annotate('Coupon acceptance rate \\n       = 56.9335%', xy = (1,0.57), xytext = (1.2,0.61),\n",
        "             arrowprops = dict(facecolor = 'red', shrink = 0.01))\n",
        "plt.xlabel('')\n",
        "plt.ylabel('Proportion')\n",
        "\n",
        "plt.savefig('overallcouponsuccessrate.png',bbox_inches = 'tight')\n",
        "plt.show() #plot.show should come after saving the figure, or the plot will be empty"
      ],
      "metadata": {
        "colab": {
          "base_uri": "https://localhost:8080/",
          "height": 546
        },
        "id": "jocmcHneN6eK",
        "outputId": "10ce5a95-df25-4994-9e83-96ccd2cfb21b"
      },
      "execution_count": 198,
      "outputs": [
        {
          "output_type": "display_data",
          "data": {
            "text/plain": [
              "<Figure size 640x480 with 1 Axes>"
            ],
            "image/png": "[encoded data removed]"
          },
          "metadata": {}
        }
      ]
    },
    {
      "cell_type": "code",
      "source": [],
      "metadata": {
        "id": "DCtJh1yCN6lD"
      },
      "execution_count": null,
      "outputs": []
    },
    {
      "cell_type": "markdown",
      "metadata": {
        "id": "vflz0DoE_qRI"
      },
      "source": [
        "5. Use a bar plot to visualize the `coupon` column."
      ]
    },
    {
      "cell_type": "code",
      "source": [
        "#Frequency table\n",
        "cleandata['coupon'].value_counts(normalize = True)"
      ],
      "metadata": {
        "colab": {
          "base_uri": "https://localhost:8080/",
          "height": 272
        },
        "id": "-dhs4GYUTbOr",
        "outputId": "cdceaec3-8dd1-4f6d-c6b4-06b3f295331e"
      },
      "execution_count": 203,
      "outputs": [
        {
          "output_type": "execute_result",
          "data": {
            "text/plain": [
              "coupon\n",
              "Coffee House             0.315920\n",
              "Restaurant(<20)          0.219637\n",
              "Carry out & Take away    0.188757\n",
              "Bar                      0.158374\n",
              "Restaurant(20-50)        0.117311\n",
              "Name: proportion, dtype: float64"
            ],
            "text/html": [
              "<div>\n",
              "<style scoped>\n",
              "    .dataframe tbody tr th:only-of-type {\n",
              "        vertical-align: middle;\n",
              "    }\n",
              "\n",
              "    .dataframe tbody tr th {\n",
              "        vertical-align: top;\n",
              "    }\n",
              "\n",
              "    .dataframe thead th {\n",
              "        text-align: right;\n",
              "    }\n",
              "</style>\n",
              "<table border=\"1\" class=\"dataframe\">\n",
              "  <thead>\n",
              "    <tr style=\"text-align: right;\">\n",
              "      <th></th>\n",
              "      <th>proportion</th>\n",
              "    </tr>\n",
              "    <tr>\n",
              "      <th>coupon</th>\n",
              "      <th></th>\n",
              "    </tr>\n",
              "  </thead>\n",
              "  <tbody>\n",
              "    <tr>\n",
              "      <th>Coffee House</th>\n",
              "      <td>0.315920</td>\n",
              "    </tr>\n",
              "    <tr>\n",
              "      <th>Restaurant(&lt;20)</th>\n",
              "      <td>0.219637</td>\n",
              "    </tr>\n",
              "    <tr>\n",
              "      <th>Carry out &amp; Take away</th>\n",
              "      <td>0.188757</td>\n",
              "    </tr>\n",
              "    <tr>\n",
              "      <th>Bar</th>\n",
              "      <td>0.158374</td>\n",
              "    </tr>\n",
              "    <tr>\n",
              "      <th>Restaurant(20-50)</th>\n",
              "      <td>0.117311</td>\n",
              "    </tr>\n",
              "  </tbody>\n",
              "</table>\n",
              "</div><br><label><b>dtype:</b> float64</label>"
            ]
          },
          "metadata": {},
          "execution_count": 203
        }
      ]
    },
    {
      "cell_type": "code",
      "source": [
        "#Pareto chart (since categories are sorted in descending frequency order)\n",
        "cleandata['coupon'].value_counts().plot.bar()\n",
        "plt.title(\"Types of coupons (Pareto Chart)\")\n",
        "plt.xlabel('')\n",
        "plt.xticks(rotation = 35)\n",
        "plt.ylabel('Frequency')\n",
        "plt.savefig('coupontypes_Pareto.png',bbox_inches = 'tight')\n",
        "plt.show()"
      ],
      "metadata": {
        "colab": {
          "base_uri": "https://localhost:8080/",
          "height": 540
        },
        "id": "gxJYsITjn3Pg",
        "outputId": "50b383d6-8c2c-4e77-f815-587abdf3bde4"
      },
      "execution_count": 17,
      "outputs": [
        {
          "output_type": "display_data",
          "data": {
            "text/plain": [
              "<Figure size 640x480 with 1 Axes>"
            ],
            "image/png": "[encoded data removed]"
          },
          "metadata": {}
        }
      ]
    },
    {
      "cell_type": "code",
      "source": [
        "# Chart presented as relative frequency\n",
        "(cleandata['coupon'].value_counts()/cleandata.shape[0]).sort_index().plot.bar()\n",
        "plt.title('Types of Coupons')\n",
        "plt.xlabel('')\n",
        "plt.ylabel('Relative frequency')\n",
        "plt.grid(axis = 'y')\n",
        "plt.savefig('coupontypes_barchart.png',bbox_inches = 'tight')\n",
        "plt.show()"
      ],
      "metadata": {
        "colab": {
          "base_uri": "https://localhost:8080/",
          "height": 595
        },
        "id": "TJqH8-04oSdK",
        "outputId": "6e336a88-9b3f-4f15-9717-b23d22658191"
      },
      "execution_count": 36,
      "outputs": [
        {
          "output_type": "display_data",
          "data": {
            "text/plain": [
              "<Figure size 640x480 with 1 Axes>"
            ],
            "image/png": "[encoded data removed]"
          },
          "metadata": {}
        }
      ]
    },
    {
      "cell_type": "markdown",
      "source": [
        "The highest proportion of coupons offered corresponds to coffee houses, whereas the lowest proportion corresponds to the expensive restaurants (those with average expense per person between \\$20 and \\$50)."
      ],
      "metadata": {
        "id": "aSgWLcMkxXnc"
      }
    },
    {
      "cell_type": "code",
      "source": [
        "#Examine coupon acceptance rates by type of coupon\n",
        "acc_rate = cleandata.groupby('coupon')['Y'].mean().reset_index(name = 'coupon_acceptance_rate')\n",
        "acc_rate"
      ],
      "metadata": {
        "colab": {
          "base_uri": "https://localhost:8080/",
          "height": 206
        },
        "id": "V9TgCOKXZRDW",
        "outputId": "0b940039-c842-4b87-93da-03c44e7a72f1"
      },
      "execution_count": 158,
      "outputs": [
        {
          "output_type": "execute_result",
          "data": {
            "text/plain": [
              "                  coupon  coupon_acceptance_rate\n",
              "0                    Bar                0.411918\n",
              "1  Carry out & Take away                0.737719\n",
              "2           Coffee House                0.496331\n",
              "3      Restaurant(20-50)                0.446013\n",
              "4        Restaurant(<20)                0.709009"
            ],
            "text/html": [
              "\n",
              "  <div id=\"df-7be36698-3de7-4796-a0a3-47bdd275ac83\" class=\"colab-df-container\">\n",
              "    <div>\n",
              "<style scoped>\n",
              "    .dataframe tbody tr th:only-of-type {\n",
              "        vertical-align: middle;\n",
              "    }\n",
              "\n",
              "    .dataframe tbody tr th {\n",
              "        vertical-align: top;\n",
              "    }\n",
              "\n",
              "    .dataframe thead th {\n",
              "        text-align: right;\n",
              "    }\n",
              "</style>\n",
              "<table border=\"1\" class=\"dataframe\">\n",
              "  <thead>\n",
              "    <tr style=\"text-align: right;\">\n",
              "      <th></th>\n",
              "      <th>coupon</th>\n",
              "      <th>coupon_acceptance_rate</th>\n",
              "    </tr>\n",
              "  </thead>\n",
              "  <tbody>\n",
              "    <tr>\n",
              "      <th>0</th>\n",
              "      <td>Bar</td>\n",
              "      <td>0.411918</td>\n",
              "    </tr>\n",
              "    <tr>\n",
              "      <th>1</th>\n",
              "      <td>Carry out &amp; Take away</td>\n",
              "      <td>0.737719</td>\n",
              "    </tr>\n",
              "    <tr>\n",
              "      <th>2</th>\n",
              "      <td>Coffee House</td>\n",
              "      <td>0.496331</td>\n",
              "    </tr>\n",
              "    <tr>\n",
              "      <th>3</th>\n",
              "      <td>Restaurant(20-50)</td>\n",
              "      <td>0.446013</td>\n",
              "    </tr>\n",
              "    <tr>\n",
              "      <th>4</th>\n",
              "      <td>Restaurant(&lt;20)</td>\n",
              "      <td>0.709009</td>\n",
              "    </tr>\n",
              "  </tbody>\n",
              "</table>\n",
              "</div>\n",
              "    <div class=\"colab-df-buttons\">\n",
              "\n",
              "  <div class=\"colab-df-container\">\n",
              "    <button class=\"colab-df-convert\" onclick=\"convertToInteractive('df-7be36698-3de7-4796-a0a3-47bdd275ac83')\"\n",
              "            title=\"Convert this dataframe to an interactive table.\"\n",
              "            style=\"display:none;\">\n",
              "\n",
              "  <svg xmlns=\"http://www.w3.org/2000/svg\" height=\"24px\" viewBox=\"0 -960 960 960\">\n",
              "    <path d=\"M120-120v-720h720v720H120Zm60-500h600v-160H180v160Zm220 220h160v-160H400v160Zm0 220h160v-160H400v160ZM180-400h160v-160H180v160Zm440 0h160v-160H620v160ZM180-180h160v-160H180v160Zm440 0h160v-160H620v160Z\"/>\n",
              "  </svg>\n",
              "    </button>\n",
              "\n",
              "  <style>\n",
              "    .colab-df-container {\n",
              "      display:flex;\n",
              "      gap: 12px;\n",
              "    }\n",
              "\n",
              "    .colab-df-convert {\n",
              "      background-color: #E8F0FE;\n",
              "      border: none;\n",
              "      border-radius: 50%;\n",
              "      cursor: pointer;\n",
              "      display: none;\n",
              "      fill: #1967D2;\n",
              "      height: 32px;\n",
              "      padding: 0 0 0 0;\n",
              "      width: 32px;\n",
              "    }\n",
              "\n",
              "    .colab-df-convert:hover {\n",
              "      background-color: #E2EBFA;\n",
              "      box-shadow: 0px 1px 2px rgba(60, 64, 67, 0.3), 0px 1px 3px 1px rgba(60, 64, 67, 0.15);\n",
              "      fill: #174EA6;\n",
              "    }\n",
              "\n",
              "    .colab-df-buttons div {\n",
              "      margin-bottom: 4px;\n",
              "    }\n",
              "\n",
              "    [theme=dark] .colab-df-convert {\n",
              "      background-color: #3B4455;\n",
              "      fill: #D2E3FC;\n",
              "    }\n",
              "\n",
              "    [theme=dark] .colab-df-convert:hover {\n",
              "      background-color: #434B5C;\n",
              "      box-shadow: 0px 1px 3px 1px rgba(0, 0, 0, 0.15);\n",
              "      filter: drop-shadow(0px 1px 2px rgba(0, 0, 0, 0.3));\n",
              "      fill: #FFFFFF;\n",
              "    }\n",
              "  </style>\n",
              "\n",
              "    <script>\n",
              "      const buttonEl =\n",
              "        document.querySelector('#df-7be36698-3de7-4796-a0a3-47bdd275ac83 button.colab-df-convert');\n",
              "      buttonEl.style.display =\n",
              "        google.colab.kernel.accessAllowed ? 'block' : 'none';\n",
              "\n",
              "      async function convertToInteractive(key) {\n",
              "        const element = document.querySelector('#df-7be36698-3de7-4796-a0a3-47bdd275ac83');\n",
              "        const dataTable =\n",
              "          await google.colab.kernel.invokeFunction('convertToInteractive',\n",
              "                                                    [key], {});\n",
              "        if (!dataTable) return;\n",
              "\n",
              "        const docLinkHtml = 'Like what you see? Visit the ' +\n",
              "          '<a target=\"_blank\" href=https://colab.research.google.com/notebooks/data_table.ipynb>data table notebook</a>'\n",
              "          + ' to learn more about interactive tables.';\n",
              "        element.innerHTML = '';\n",
              "        dataTable['output_type'] = 'display_data';\n",
              "        await google.colab.output.renderOutput(dataTable, element);\n",
              "        const docLink = document.createElement('div');\n",
              "        docLink.innerHTML = docLinkHtml;\n",
              "        element.appendChild(docLink);\n",
              "      }\n",
              "    </script>\n",
              "  </div>\n",
              "\n",
              "\n",
              "<div id=\"df-95bf0182-8372-43a7-89cb-7d6d868fa5bb\">\n",
              "  <button class=\"colab-df-quickchart\" onclick=\"quickchart('df-95bf0182-8372-43a7-89cb-7d6d868fa5bb')\"\n",
              "            title=\"Suggest charts\"\n",
              "            style=\"display:none;\">\n",
              "\n",
              "<svg xmlns=\"http://www.w3.org/2000/svg\" height=\"24px\"viewBox=\"0 0 24 24\"\n",
              "     width=\"24px\">\n",
              "    <g>\n",
              "        <path d=\"M19 3H5c-1.1 0-2 .9-2 2v14c0 1.1.9 2 2 2h14c1.1 0 2-.9 2-2V5c0-1.1-.9-2-2-2zM9 17H7v-7h2v7zm4 0h-2V7h2v10zm4 0h-2v-4h2v4z\"/>\n",
              "    </g>\n",
              "</svg>\n",
              "  </button>\n",
              "\n",
              "<style>\n",
              "  .colab-df-quickchart {\n",
              "      --bg-color: #E8F0FE;\n",
              "      --fill-color: #1967D2;\n",
              "      --hover-bg-color: #E2EBFA;\n",
              "      --hover-fill-color: #174EA6;\n",
              "      --disabled-fill-color: #AAA;\n",
              "      --disabled-bg-color: #DDD;\n",
              "  }\n",
              "\n",
              "  [theme=dark] .colab-df-quickchart {\n",
              "      --bg-color: #3B4455;\n",
              "      --fill-color: #D2E3FC;\n",
              "      --hover-bg-color: #434B5C;\n",
              "      --hover-fill-color: #FFFFFF;\n",
              "      --disabled-bg-color: #3B4455;\n",
              "      --disabled-fill-color: #666;\n",
              "  }\n",
              "\n",
              "  .colab-df-quickchart {\n",
              "    background-color: var(--bg-color);\n",
              "    border: none;\n",
              "    border-radius: 50%;\n",
              "    cursor: pointer;\n",
              "    display: none;\n",
              "    fill: var(--fill-color);\n",
              "    height: 32px;\n",
              "    padding: 0;\n",
              "    width: 32px;\n",
              "  }\n",
              "\n",
              "  .colab-df-quickchart:hover {\n",
              "    background-color: var(--hover-bg-color);\n",
              "    box-shadow: 0 1px 2px rgba(60, 64, 67, 0.3), 0 1px 3px 1px rgba(60, 64, 67, 0.15);\n",
              "    fill: var(--button-hover-fill-color);\n",
              "  }\n",
              "\n",
              "  .colab-df-quickchart-complete:disabled,\n",
              "  .colab-df-quickchart-complete:disabled:hover {\n",
              "    background-color: var(--disabled-bg-color);\n",
              "    fill: var(--disabled-fill-color);\n",
              "    box-shadow: none;\n",
              "  }\n",
              "\n",
              "  .colab-df-spinner {\n",
              "    border: 2px solid var(--fill-color);\n",
              "    border-color: transparent;\n",
              "    border-bottom-color: var(--fill-color);\n",
              "    animation:\n",
              "      spin 1s steps(1) infinite;\n",
              "  }\n",
              "\n",
              "  @keyframes spin {\n",
              "    0% {\n",
              "      border-color: transparent;\n",
              "      border-bottom-color: var(--fill-color);\n",
              "      border-left-color: var(--fill-color);\n",
              "    }\n",
              "    20% {\n",
              "      border-color: transparent;\n",
              "      border-left-color: var(--fill-color);\n",
              "      border-top-color: var(--fill-color);\n",
              "    }\n",
              "    30% {\n",
              "      border-color: transparent;\n",
              "      border-left-color: var(--fill-color);\n",
              "      border-top-color: var(--fill-color);\n",
              "      border-right-color: var(--fill-color);\n",
              "    }\n",
              "    40% {\n",
              "      border-color: transparent;\n",
              "      border-right-color: var(--fill-color);\n",
              "      border-top-color: var(--fill-color);\n",
              "    }\n",
              "    60% {\n",
              "      border-color: transparent;\n",
              "      border-right-color: var(--fill-color);\n",
              "    }\n",
              "    80% {\n",
              "      border-color: transparent;\n",
              "      border-right-color: var(--fill-color);\n",
              "      border-bottom-color: var(--fill-color);\n",
              "    }\n",
              "    90% {\n",
              "      border-color: transparent;\n",
              "      border-bottom-color: var(--fill-color);\n",
              "    }\n",
              "  }\n",
              "</style>\n",
              "\n",
              "  <script>\n",
              "    async function quickchart(key) {\n",
              "      const quickchartButtonEl =\n",
              "        document.querySelector('#' + key + ' button');\n",
              "      quickchartButtonEl.disabled = true;  // To prevent multiple clicks.\n",
              "      quickchartButtonEl.classList.add('colab-df-spinner');\n",
              "      try {\n",
              "        const charts = await google.colab.kernel.invokeFunction(\n",
              "            'suggestCharts', [key], {});\n",
              "      } catch (error) {\n",
              "        console.error('Error during call to suggestCharts:', error);\n",
              "      }\n",
              "      quickchartButtonEl.classList.remove('colab-df-spinner');\n",
              "      quickchartButtonEl.classList.add('colab-df-quickchart-complete');\n",
              "    }\n",
              "    (() => {\n",
              "      let quickchartButtonEl =\n",
              "        document.querySelector('#df-95bf0182-8372-43a7-89cb-7d6d868fa5bb button');\n",
              "      quickchartButtonEl.style.display =\n",
              "        google.colab.kernel.accessAllowed ? 'block' : 'none';\n",
              "    })();\n",
              "  </script>\n",
              "</div>\n",
              "\n",
              "  <div id=\"id_5ef34be7-8c5d-48ff-857a-38a402544ee5\">\n",
              "    <style>\n",
              "      .colab-df-generate {\n",
              "        background-color: #E8F0FE;\n",
              "        border: none;\n",
              "        border-radius: 50%;\n",
              "        cursor: pointer;\n",
              "        display: none;\n",
              "        fill: #1967D2;\n",
              "        height: 32px;\n",
              "        padding: 0 0 0 0;\n",
              "        width: 32px;\n",
              "      }\n",
              "\n",
              "      .colab-df-generate:hover {\n",
              "        background-color: #E2EBFA;\n",
              "        box-shadow: 0px 1px 2px rgba(60, 64, 67, 0.3), 0px 1px 3px 1px rgba(60, 64, 67, 0.15);\n",
              "        fill: #174EA6;\n",
              "      }\n",
              "\n",
              "      [theme=dark] .colab-df-generate {\n",
              "        background-color: #3B4455;\n",
              "        fill: #D2E3FC;\n",
              "      }\n",
              "\n",
              "      [theme=dark] .colab-df-generate:hover {\n",
              "        background-color: #434B5C;\n",
              "        box-shadow: 0px 1px 3px 1px rgba(0, 0, 0, 0.15);\n",
              "        filter: drop-shadow(0px 1px 2px rgba(0, 0, 0, 0.3));\n",
              "        fill: #FFFFFF;\n",
              "      }\n",
              "    </style>\n",
              "    <button class=\"colab-df-generate\" onclick=\"generateWithVariable('acc_rate')\"\n",
              "            title=\"Generate code using this dataframe.\"\n",
              "            style=\"display:none;\">\n",
              "\n",
              "  <svg xmlns=\"http://www.w3.org/2000/svg\" height=\"24px\"viewBox=\"0 0 24 24\"\n",
              "       width=\"24px\">\n",
              "    <path d=\"M7,19H8.4L18.45,9,17,7.55,7,17.6ZM5,21V16.75L18.45,3.32a2,2,0,0,1,2.83,0l1.4,1.43a1.91,1.91,0,0,1,.58,1.4,1.91,1.91,0,0,1-.58,1.4L9.25,21ZM18.45,9,17,7.55Zm-12,3A5.31,5.31,0,0,0,4.9,8.1,5.31,5.31,0,0,0,1,6.5,5.31,5.31,0,0,0,4.9,4.9,5.31,5.31,0,0,0,6.5,1,5.31,5.31,0,0,0,8.1,4.9,5.31,5.31,0,0,0,12,6.5,5.46,5.46,0,0,0,6.5,12Z\"/>\n",
              "  </svg>\n",
              "    </button>\n",
              "    <script>\n",
              "      (() => {\n",
              "      const buttonEl =\n",
              "        document.querySelector('#id_5ef34be7-8c5d-48ff-857a-38a402544ee5 button.colab-df-generate');\n",
              "      buttonEl.style.display =\n",
              "        google.colab.kernel.accessAllowed ? 'block' : 'none';\n",
              "\n",
              "      buttonEl.onclick = () => {\n",
              "        google.colab.notebook.generateWithVariable('acc_rate');\n",
              "      }\n",
              "      })();\n",
              "    </script>\n",
              "  </div>\n",
              "\n",
              "    </div>\n",
              "  </div>\n"
            ],
            "application/vnd.google.colaboratory.intrinsic+json": {
              "type": "dataframe",
              "variable_name": "acc_rate",
              "summary": "{\n  \"name\": \"acc_rate\",\n  \"rows\": 5,\n  \"fields\": [\n    {\n      \"column\": \"coupon\",\n      \"properties\": {\n        \"dtype\": \"string\",\n        \"num_unique_values\": 5,\n        \"samples\": [\n          \"Carry out & Take away\",\n          \"Restaurant(<20)\",\n          \"Coffee House\"\n        ],\n        \"semantic_type\": \"\",\n        \"description\": \"\"\n      }\n    },\n    {\n      \"column\": \"coupon_acceptance_rate\",\n      \"properties\": {\n        \"dtype\": \"number\",\n        \"std\": 0.1522846810431063,\n        \"min\": 0.41191845269210664,\n        \"max\": 0.737719298245614,\n        \"num_unique_values\": 5,\n        \"samples\": [\n          0.737719298245614,\n          0.7090086694308331,\n          0.49633123689727465\n        ],\n        \"semantic_type\": \"\",\n        \"description\": \"\"\n      }\n    }\n  ]\n}"
            }
          },
          "metadata": {},
          "execution_count": 158
        }
      ]
    },
    {
      "cell_type": "code",
      "source": [
        "acc_rate['coupon_acceptance_rate']"
      ],
      "metadata": {
        "colab": {
          "base_uri": "https://localhost:8080/",
          "height": 241
        },
        "id": "vkPmQhUS2j8n",
        "outputId": "cede42a5-5f31-4047-8771-62a3d387c937"
      },
      "execution_count": 206,
      "outputs": [
        {
          "output_type": "execute_result",
          "data": {
            "text/plain": [
              "0    0.411918\n",
              "1    0.737719\n",
              "2    0.496331\n",
              "3    0.446013\n",
              "4    0.709009\n",
              "Name: coupon_acceptance_rate, dtype: float64"
            ],
            "text/html": [
              "<div>\n",
              "<style scoped>\n",
              "    .dataframe tbody tr th:only-of-type {\n",
              "        vertical-align: middle;\n",
              "    }\n",
              "\n",
              "    .dataframe tbody tr th {\n",
              "        vertical-align: top;\n",
              "    }\n",
              "\n",
              "    .dataframe thead th {\n",
              "        text-align: right;\n",
              "    }\n",
              "</style>\n",
              "<table border=\"1\" class=\"dataframe\">\n",
              "  <thead>\n",
              "    <tr style=\"text-align: right;\">\n",
              "      <th></th>\n",
              "      <th>coupon_acceptance_rate</th>\n",
              "    </tr>\n",
              "  </thead>\n",
              "  <tbody>\n",
              "    <tr>\n",
              "      <th>0</th>\n",
              "      <td>0.411918</td>\n",
              "    </tr>\n",
              "    <tr>\n",
              "      <th>1</th>\n",
              "      <td>0.737719</td>\n",
              "    </tr>\n",
              "    <tr>\n",
              "      <th>2</th>\n",
              "      <td>0.496331</td>\n",
              "    </tr>\n",
              "    <tr>\n",
              "      <th>3</th>\n",
              "      <td>0.446013</td>\n",
              "    </tr>\n",
              "    <tr>\n",
              "      <th>4</th>\n",
              "      <td>0.709009</td>\n",
              "    </tr>\n",
              "  </tbody>\n",
              "</table>\n",
              "</div><br><label><b>dtype:</b> float64</label>"
            ]
          },
          "metadata": {},
          "execution_count": 206
        }
      ]
    },
    {
      "cell_type": "code",
      "source": [
        "sns.barplot(acc_rate, x='coupon', y = 'coupon_acceptance_rate', edgecolor='black')\n",
        "plt.title('Coupon Acceptance Rates by Type of Coupon')\n",
        "plt.xlabel('Type of coupon')\n",
        "plt.xticks([0,1,2,3,4],['Bar', 'Carry out & \\n Take away', 'Coffee House', 'Expensive Rest. \\n (\\$20-\\$50/person)', 'Cheap Rest. \\n (<$20/person)'],rotation = 30)\n",
        "plt.grid(axis = 'y')\n",
        "plt.savefig('accratebycoupontype.png')\n",
        "plt.show()"
      ],
      "metadata": {
        "id": "uHTU0G06oSX7",
        "colab": {
          "base_uri": "https://localhost:8080/",
          "height": 546
        },
        "outputId": "6d738adf-0896-43ba-b1d1-2c408408fee6"
      },
      "execution_count": 209,
      "outputs": [
        {
          "output_type": "display_data",
          "data": {
            "text/plain": [
              "<Figure size 640x480 with 1 Axes>"
            ],
            "image/png": "[encoded data removed]"
          },
          "metadata": {}
        }
      ]
    },
    {
      "cell_type": "markdown",
      "source": [
        "It can be appreciated that in terms of coupon acceptance rate, the most successful coupon category corresponds to \"Carry out & Take away\", followed closely by coupons for inexpensive restaurants (those with average expense per person below \\$20)."
      ],
      "metadata": {
        "id": "2FC0lNPQwsfk"
      }
    },
    {
      "cell_type": "code",
      "source": [],
      "metadata": {
        "id": "t2rLwBMiavBa"
      },
      "execution_count": null,
      "outputs": []
    },
    {
      "cell_type": "markdown",
      "metadata": {
        "id": "Qw4lCyx2_qRI"
      },
      "source": [
        "6. Use a histogram to visualize the temperature column."
      ]
    },
    {
      "cell_type": "code",
      "execution_count": 19,
      "metadata": {
        "id": "zLtOaJQk_qRI",
        "colab": {
          "base_uri": "https://localhost:8080/",
          "height": 209
        },
        "outputId": "98c95e7a-7330-4329-d81c-86496c7fdaef"
      },
      "outputs": [
        {
          "output_type": "execute_result",
          "data": {
            "text/plain": [
              "temperature\n",
              "80    6222\n",
              "55    3662\n",
              "30    2195\n",
              "Name: count, dtype: int64"
            ],
            "text/html": [
              "<div>\n",
              "<style scoped>\n",
              "    .dataframe tbody tr th:only-of-type {\n",
              "        vertical-align: middle;\n",
              "    }\n",
              "\n",
              "    .dataframe tbody tr th {\n",
              "        vertical-align: top;\n",
              "    }\n",
              "\n",
              "    .dataframe thead th {\n",
              "        text-align: right;\n",
              "    }\n",
              "</style>\n",
              "<table border=\"1\" class=\"dataframe\">\n",
              "  <thead>\n",
              "    <tr style=\"text-align: right;\">\n",
              "      <th></th>\n",
              "      <th>count</th>\n",
              "    </tr>\n",
              "    <tr>\n",
              "      <th>temperature</th>\n",
              "      <th></th>\n",
              "    </tr>\n",
              "  </thead>\n",
              "  <tbody>\n",
              "    <tr>\n",
              "      <th>80</th>\n",
              "      <td>6222</td>\n",
              "    </tr>\n",
              "    <tr>\n",
              "      <th>55</th>\n",
              "      <td>3662</td>\n",
              "    </tr>\n",
              "    <tr>\n",
              "      <th>30</th>\n",
              "      <td>2195</td>\n",
              "    </tr>\n",
              "  </tbody>\n",
              "</table>\n",
              "</div><br><label><b>dtype:</b> int64</label>"
            ]
          },
          "metadata": {},
          "execution_count": 19
        }
      ],
      "source": [
        "#Temperature is a numerical variable, but takes only three possible values\n",
        "cleandata['temperature'].value_counts()"
      ]
    },
    {
      "cell_type": "code",
      "execution_count": 20,
      "metadata": {
        "id": "7GBHZKBp_qRJ",
        "colab": {
          "base_uri": "https://localhost:8080/",
          "height": 472
        },
        "outputId": "c3482ef0-35cd-460a-a546-5796b68c8b1b"
      },
      "outputs": [
        {
          "output_type": "display_data",
          "data": {
            "text/plain": [
              "<Figure size 640x480 with 1 Axes>"
            ],
            "image/png": "[encoded data removed]"
          },
          "metadata": {}
        }
      ],
      "source": [
        "plt.title(\"Histogram of variable 'temperature'\")\n",
        "plt.hist(cleandata['temperature'], edgecolor = 'black')\n",
        "plt.xlabel('degrees')\n",
        "plt.ylabel('Frequency')\n",
        "plt.grid(True)\n",
        "plt.xticks([30,55,80],['30 F', '55 F', '80 F'])\n",
        "plt.savefig('temperature_histogram.png',bbox_inches = 'tight')\n",
        "plt.show()"
      ]
    },
    {
      "cell_type": "code",
      "source": [
        "#Explore the breakdown of drivers accepting coupons by temperature values\n",
        "twoway = pd.crosstab(cleandata['temperature'], cleandata['Y'],normalize = 'all')"
      ],
      "metadata": {
        "id": "J7cYziLyhLQL"
      },
      "execution_count": 210,
      "outputs": []
    },
    {
      "cell_type": "code",
      "source": [
        "print(twoway)"
      ],
      "metadata": {
        "colab": {
          "base_uri": "https://localhost:8080/"
        },
        "id": "BaL3nDFOhbA1",
        "outputId": "ec717edb-07cc-4387-ea75-bcd30bdc34e7"
      },
      "execution_count": 211,
      "outputs": [
        {
          "output_type": "stream",
          "name": "stdout",
          "text": [
            "Y                   0         1\n",
            "temperature                    \n",
            "30           0.084113  0.097607\n",
            "55           0.140326  0.162845\n",
            "80           0.206226  0.308883\n"
          ]
        }
      ]
    },
    {
      "cell_type": "code",
      "source": [
        "twoway.plot(kind='bar', stacked = True)\n",
        "plt.title(\"Histogram of variable 'temperature' by coupon acceptance\")\n",
        "plt.xlabel('degrees Fahrenheit')\n",
        "plt.ylabel('Relative Frequency')\n",
        "plt.grid(axis = 'y', linestyle = '--')\n",
        "plt.show()"
      ],
      "metadata": {
        "colab": {
          "base_uri": "https://localhost:8080/",
          "height": 475
        },
        "id": "TmenTwC4hhNe",
        "outputId": "8d8f3128-953f-448a-fd5c-efc4582cd18d"
      },
      "execution_count": 213,
      "outputs": [
        {
          "output_type": "display_data",
          "data": {
            "text/plain": [
              "<Figure size 640x480 with 1 Axes>"
            ],
            "image/png": "[encoded data removed]"
          },
          "metadata": {}
        }
      ]
    },
    {
      "cell_type": "code",
      "source": [],
      "metadata": {
        "id": "s6oiipLUZApw"
      },
      "execution_count": null,
      "outputs": []
    },
    {
      "cell_type": "markdown",
      "metadata": {
        "id": "FupfgeJk_qRJ"
      },
      "source": [
        "**Investigating the Bar Coupons**\n",
        "\n",
        "Now, we will lead you through an exploration of just the bar related coupons.  \n",
        "\n",
        "1. Create a new `DataFrame` that contains just the bar coupons.\n"
      ]
    },
    {
      "cell_type": "code",
      "execution_count": 25,
      "metadata": {
        "id": "tMBlWuGq_qRJ",
        "colab": {
          "base_uri": "https://localhost:8080/"
        },
        "outputId": "3b8cc901-f5db-40e2-d1c6-3889572dd5e4"
      },
      "outputs": [
        {
          "output_type": "stream",
          "name": "stdout",
          "text": [
            "<class 'pandas.core.frame.DataFrame'>\n",
            "Index: 1913 entries, 24 to 12682\n",
            "Data columns (total 25 columns):\n",
            " #   Column                Non-Null Count  Dtype \n",
            "---  ------                --------------  ----- \n",
            " 0   destination           1913 non-null   object\n",
            " 1   passenger             1913 non-null   object\n",
            " 2   weather               1913 non-null   object\n",
            " 3   temperature           1913 non-null   int64 \n",
            " 4   time                  1913 non-null   object\n",
            " 5   coupon                1913 non-null   object\n",
            " 6   expiration            1913 non-null   object\n",
            " 7   gender                1913 non-null   object\n",
            " 8   age                   1913 non-null   object\n",
            " 9   maritalStatus         1913 non-null   object\n",
            " 10  has_children          1913 non-null   int64 \n",
            " 11  education             1913 non-null   object\n",
            " 12  occupation            1913 non-null   object\n",
            " 13  income                1913 non-null   object\n",
            " 14  Bar                   1913 non-null   object\n",
            " 15  CoffeeHouse           1913 non-null   object\n",
            " 16  CarryAway             1913 non-null   object\n",
            " 17  RestaurantLessThan20  1913 non-null   object\n",
            " 18  Restaurant20To50      1913 non-null   object\n",
            " 19  toCoupon_GEQ5min      1913 non-null   int64 \n",
            " 20  toCoupon_GEQ15min     1913 non-null   int64 \n",
            " 21  toCoupon_GEQ25min     1913 non-null   int64 \n",
            " 22  direction_same        1913 non-null   int64 \n",
            " 23  direction_opp         1913 non-null   int64 \n",
            " 24  Y                     1913 non-null   int64 \n",
            "dtypes: int64(8), object(17)\n",
            "memory usage: 388.6+ KB\n"
          ]
        }
      ],
      "source": [
        "barcoupons = cleandata.query('coupon == \"Bar\"')\n",
        "barcoupons.info()"
      ]
    },
    {
      "cell_type": "code",
      "source": [],
      "metadata": {
        "id": "A_Nc81Vl7yZ2"
      },
      "execution_count": null,
      "outputs": []
    },
    {
      "cell_type": "markdown",
      "metadata": {
        "id": "8ue6uCqf_qRJ"
      },
      "source": [
        "2. What proportion of bar coupons were accepted?\n"
      ]
    },
    {
      "cell_type": "code",
      "execution_count": 26,
      "metadata": {
        "id": "hSdte8Mi_qRK",
        "colab": {
          "base_uri": "https://localhost:8080/",
          "height": 178
        },
        "outputId": "c51e1329-1cba-42f6-8162-37edeb709417"
      },
      "outputs": [
        {
          "output_type": "execute_result",
          "data": {
            "text/plain": [
              "Y\n",
              "0    0.588082\n",
              "1    0.411918\n",
              "Name: proportion, dtype: float64"
            ],
            "text/html": [
              "<div>\n",
              "<style scoped>\n",
              "    .dataframe tbody tr th:only-of-type {\n",
              "        vertical-align: middle;\n",
              "    }\n",
              "\n",
              "    .dataframe tbody tr th {\n",
              "        vertical-align: top;\n",
              "    }\n",
              "\n",
              "    .dataframe thead th {\n",
              "        text-align: right;\n",
              "    }\n",
              "</style>\n",
              "<table border=\"1\" class=\"dataframe\">\n",
              "  <thead>\n",
              "    <tr style=\"text-align: right;\">\n",
              "      <th></th>\n",
              "      <th>proportion</th>\n",
              "    </tr>\n",
              "    <tr>\n",
              "      <th>Y</th>\n",
              "      <th></th>\n",
              "    </tr>\n",
              "  </thead>\n",
              "  <tbody>\n",
              "    <tr>\n",
              "      <th>0</th>\n",
              "      <td>0.588082</td>\n",
              "    </tr>\n",
              "    <tr>\n",
              "      <th>1</th>\n",
              "      <td>0.411918</td>\n",
              "    </tr>\n",
              "  </tbody>\n",
              "</table>\n",
              "</div><br><label><b>dtype:</b> float64</label>"
            ]
          },
          "metadata": {},
          "execution_count": 26
        }
      ],
      "source": [
        "barcoupons['Y'].value_counts(normalize = True).sort_index()"
      ]
    },
    {
      "cell_type": "markdown",
      "source": [
        "We see that 41.1918\\% of bar-related coupons were accepted."
      ],
      "metadata": {
        "id": "AaP0mVz2sH-h"
      }
    },
    {
      "cell_type": "markdown",
      "metadata": {
        "id": "85nA_iEi_qRK"
      },
      "source": [
        "3. Compare the acceptance rate between those who went to a bar 3 or fewer times a month to those who went more.\n"
      ]
    },
    {
      "cell_type": "code",
      "execution_count": 37,
      "metadata": {
        "id": "LBOrN-XM_qRK"
      },
      "outputs": [],
      "source": [
        "#Create filtering lists\n",
        "#for how often users go to bars (or other establishments)\n",
        "low = ['never', 'less1', '1~3']\n",
        "high = ['4~8', 'gt8']"
      ]
    },
    {
      "cell_type": "code",
      "source": [
        "#Split the data\n",
        "bar_low = barcoupons.query('Bar in @low')\n",
        "bar_high = barcoupons.query('Bar in @high')"
      ],
      "metadata": {
        "id": "WCPDNJyZcTHK"
      },
      "execution_count": 38,
      "outputs": []
    },
    {
      "cell_type": "code",
      "source": [
        "#Coupon acceptance rate for users who go to bars 3 or fewer times per month\n",
        "bar_low['Y'].value_counts(normalize = True).sort_index()"
      ],
      "metadata": {
        "colab": {
          "base_uri": "https://localhost:8080/",
          "height": 178
        },
        "id": "fU4QWMfkcTOy",
        "outputId": "71b26e02-68e3-4300-f45d-13ac81cd883f"
      },
      "execution_count": 39,
      "outputs": [
        {
          "output_type": "execute_result",
          "data": {
            "text/plain": [
              "Y\n",
              "0    0.627326\n",
              "1    0.372674\n",
              "Name: proportion, dtype: float64"
            ],
            "text/html": [
              "<div>\n",
              "<style scoped>\n",
              "    .dataframe tbody tr th:only-of-type {\n",
              "        vertical-align: middle;\n",
              "    }\n",
              "\n",
              "    .dataframe tbody tr th {\n",
              "        vertical-align: top;\n",
              "    }\n",
              "\n",
              "    .dataframe thead th {\n",
              "        text-align: right;\n",
              "    }\n",
              "</style>\n",
              "<table border=\"1\" class=\"dataframe\">\n",
              "  <thead>\n",
              "    <tr style=\"text-align: right;\">\n",
              "      <th></th>\n",
              "      <th>proportion</th>\n",
              "    </tr>\n",
              "    <tr>\n",
              "      <th>Y</th>\n",
              "      <th></th>\n",
              "    </tr>\n",
              "  </thead>\n",
              "  <tbody>\n",
              "    <tr>\n",
              "      <th>0</th>\n",
              "      <td>0.627326</td>\n",
              "    </tr>\n",
              "    <tr>\n",
              "      <th>1</th>\n",
              "      <td>0.372674</td>\n",
              "    </tr>\n",
              "  </tbody>\n",
              "</table>\n",
              "</div><br><label><b>dtype:</b> float64</label>"
            ]
          },
          "metadata": {},
          "execution_count": 39
        }
      ]
    },
    {
      "cell_type": "code",
      "source": [
        "#Coupon acceptance rate for users who go to bars more than 3 times per month\n",
        "bar_high['Y'].value_counts(normalize = True).sort_index()"
      ],
      "metadata": {
        "colab": {
          "base_uri": "https://localhost:8080/",
          "height": 178
        },
        "id": "8CQmHBKOcTWa",
        "outputId": "9b4e9de6-c9f5-4c6c-ff70-bfb147cc67dd"
      },
      "execution_count": 40,
      "outputs": [
        {
          "output_type": "execute_result",
          "data": {
            "text/plain": [
              "Y\n",
              "0    0.238342\n",
              "1    0.761658\n",
              "Name: proportion, dtype: float64"
            ],
            "text/html": [
              "<div>\n",
              "<style scoped>\n",
              "    .dataframe tbody tr th:only-of-type {\n",
              "        vertical-align: middle;\n",
              "    }\n",
              "\n",
              "    .dataframe tbody tr th {\n",
              "        vertical-align: top;\n",
              "    }\n",
              "\n",
              "    .dataframe thead th {\n",
              "        text-align: right;\n",
              "    }\n",
              "</style>\n",
              "<table border=\"1\" class=\"dataframe\">\n",
              "  <thead>\n",
              "    <tr style=\"text-align: right;\">\n",
              "      <th></th>\n",
              "      <th>proportion</th>\n",
              "    </tr>\n",
              "    <tr>\n",
              "      <th>Y</th>\n",
              "      <th></th>\n",
              "    </tr>\n",
              "  </thead>\n",
              "  <tbody>\n",
              "    <tr>\n",
              "      <th>0</th>\n",
              "      <td>0.238342</td>\n",
              "    </tr>\n",
              "    <tr>\n",
              "      <th>1</th>\n",
              "      <td>0.761658</td>\n",
              "    </tr>\n",
              "  </tbody>\n",
              "</table>\n",
              "</div><br><label><b>dtype:</b> float64</label>"
            ]
          },
          "metadata": {},
          "execution_count": 40
        }
      ]
    },
    {
      "cell_type": "markdown",
      "source": [
        "The contrast in the coupon acceptance rates for each group of users is clear: 76.17\\% for those who go to bars more than 3 times per month versus only 37.27\\% for those who go fewer times."
      ],
      "metadata": {
        "id": "ynmmb7XzZQzS"
      }
    },
    {
      "cell_type": "code",
      "source": [],
      "metadata": {
        "id": "k6NGNlF8cTcx"
      },
      "execution_count": null,
      "outputs": []
    },
    {
      "cell_type": "markdown",
      "metadata": {
        "id": "RBgcQwH4_qRK"
      },
      "source": [
        "4. Compare the acceptance rate between drivers who go to a bar more than once a month and are over the age of 25 to the all others.  Is there a difference?\n"
      ]
    },
    {
      "cell_type": "code",
      "source": [
        "#Explore categories in variable 'age'\n",
        "barcoupons['age'].value_counts()"
      ],
      "metadata": {
        "colab": {
          "base_uri": "https://localhost:8080/",
          "height": 366
        },
        "id": "H_N5VNi-_0Vs",
        "outputId": "a28f4acc-32d0-4c12-c313-2d0851082dd9"
      },
      "execution_count": 41,
      "outputs": [
        {
          "output_type": "execute_result",
          "data": {
            "text/plain": [
              "age\n",
              "21         397\n",
              "26         368\n",
              "31         324\n",
              "50plus     273\n",
              "36         196\n",
              "41         171\n",
              "46         103\n",
              "below21     81\n",
              "Name: count, dtype: int64"
            ],
            "text/html": [
              "<div>\n",
              "<style scoped>\n",
              "    .dataframe tbody tr th:only-of-type {\n",
              "        vertical-align: middle;\n",
              "    }\n",
              "\n",
              "    .dataframe tbody tr th {\n",
              "        vertical-align: top;\n",
              "    }\n",
              "\n",
              "    .dataframe thead th {\n",
              "        text-align: right;\n",
              "    }\n",
              "</style>\n",
              "<table border=\"1\" class=\"dataframe\">\n",
              "  <thead>\n",
              "    <tr style=\"text-align: right;\">\n",
              "      <th></th>\n",
              "      <th>count</th>\n",
              "    </tr>\n",
              "    <tr>\n",
              "      <th>age</th>\n",
              "      <th></th>\n",
              "    </tr>\n",
              "  </thead>\n",
              "  <tbody>\n",
              "    <tr>\n",
              "      <th>21</th>\n",
              "      <td>397</td>\n",
              "    </tr>\n",
              "    <tr>\n",
              "      <th>26</th>\n",
              "      <td>368</td>\n",
              "    </tr>\n",
              "    <tr>\n",
              "      <th>31</th>\n",
              "      <td>324</td>\n",
              "    </tr>\n",
              "    <tr>\n",
              "      <th>50plus</th>\n",
              "      <td>273</td>\n",
              "    </tr>\n",
              "    <tr>\n",
              "      <th>36</th>\n",
              "      <td>196</td>\n",
              "    </tr>\n",
              "    <tr>\n",
              "      <th>41</th>\n",
              "      <td>171</td>\n",
              "    </tr>\n",
              "    <tr>\n",
              "      <th>46</th>\n",
              "      <td>103</td>\n",
              "    </tr>\n",
              "    <tr>\n",
              "      <th>below21</th>\n",
              "      <td>81</td>\n",
              "    </tr>\n",
              "  </tbody>\n",
              "</table>\n",
              "</div><br><label><b>dtype:</b> int64</label>"
            ]
          },
          "metadata": {},
          "execution_count": 41
        }
      ]
    },
    {
      "cell_type": "markdown",
      "source": [
        "####Note on auxiliary filters:\n",
        "I am taking the categories {“1\\~3”, “4\\~8”, “gt8”} to correspond to “going more than once a month”, and {“never”, “less1”} to be the complement of that."
      ],
      "metadata": {
        "id": "PCJ_QHYQM2mX"
      }
    },
    {
      "cell_type": "code",
      "execution_count": 42,
      "metadata": {
        "id": "bf28bbeX_qRK"
      },
      "outputs": [],
      "source": [
        "#Auxiliary filters\n",
        "ltoncemonth = ['never', 'less1']\n",
        "onceormore = ['1~3', '4~8', 'gt8']\n",
        "\n",
        "age25orless = ['below21', '21']\n",
        "ageover25 = ['26', '31', '36', '41', '46', '50plus']"
      ]
    },
    {
      "cell_type": "code",
      "source": [
        "#Drivers who are over the age of 25 and go to bars more than once a month (raw counts):\n",
        "barcoupons.query('age in @ageover25 and Bar in @onceormore')['Y'].value_counts().sort_index()"
      ],
      "metadata": {
        "colab": {
          "base_uri": "https://localhost:8080/",
          "height": 178
        },
        "id": "pXlk0xb8-6_O",
        "outputId": "dfec3481-ea75-490f-bb0b-8659281b06fb"
      },
      "execution_count": 43,
      "outputs": [
        {
          "output_type": "execute_result",
          "data": {
            "text/plain": [
              "Y\n",
              "0    125\n",
              "1    278\n",
              "Name: count, dtype: int64"
            ],
            "text/html": [
              "<div>\n",
              "<style scoped>\n",
              "    .dataframe tbody tr th:only-of-type {\n",
              "        vertical-align: middle;\n",
              "    }\n",
              "\n",
              "    .dataframe tbody tr th {\n",
              "        vertical-align: top;\n",
              "    }\n",
              "\n",
              "    .dataframe thead th {\n",
              "        text-align: right;\n",
              "    }\n",
              "</style>\n",
              "<table border=\"1\" class=\"dataframe\">\n",
              "  <thead>\n",
              "    <tr style=\"text-align: right;\">\n",
              "      <th></th>\n",
              "      <th>count</th>\n",
              "    </tr>\n",
              "    <tr>\n",
              "      <th>Y</th>\n",
              "      <th></th>\n",
              "    </tr>\n",
              "  </thead>\n",
              "  <tbody>\n",
              "    <tr>\n",
              "      <th>0</th>\n",
              "      <td>125</td>\n",
              "    </tr>\n",
              "    <tr>\n",
              "      <th>1</th>\n",
              "      <td>278</td>\n",
              "    </tr>\n",
              "  </tbody>\n",
              "</table>\n",
              "</div><br><label><b>dtype:</b> int64</label>"
            ]
          },
          "metadata": {},
          "execution_count": 43
        }
      ]
    },
    {
      "cell_type": "code",
      "source": [
        "#Drivers who are over the age of 25 and go to bars more than once a month --Coupon success rate:\n",
        "barcoupons.query('age in @ageover25 and Bar in @onceormore')['Y'].value_counts(normalize = True).sort_index()"
      ],
      "metadata": {
        "colab": {
          "base_uri": "https://localhost:8080/",
          "height": 178
        },
        "id": "qw6fK89NeY9I",
        "outputId": "5a770c64-ca91-4ca2-e91f-a4f7f9af6719"
      },
      "execution_count": 44,
      "outputs": [
        {
          "output_type": "execute_result",
          "data": {
            "text/plain": [
              "Y\n",
              "0    0.310174\n",
              "1    0.689826\n",
              "Name: proportion, dtype: float64"
            ],
            "text/html": [
              "<div>\n",
              "<style scoped>\n",
              "    .dataframe tbody tr th:only-of-type {\n",
              "        vertical-align: middle;\n",
              "    }\n",
              "\n",
              "    .dataframe tbody tr th {\n",
              "        vertical-align: top;\n",
              "    }\n",
              "\n",
              "    .dataframe thead th {\n",
              "        text-align: right;\n",
              "    }\n",
              "</style>\n",
              "<table border=\"1\" class=\"dataframe\">\n",
              "  <thead>\n",
              "    <tr style=\"text-align: right;\">\n",
              "      <th></th>\n",
              "      <th>proportion</th>\n",
              "    </tr>\n",
              "    <tr>\n",
              "      <th>Y</th>\n",
              "      <th></th>\n",
              "    </tr>\n",
              "  </thead>\n",
              "  <tbody>\n",
              "    <tr>\n",
              "      <th>0</th>\n",
              "      <td>0.310174</td>\n",
              "    </tr>\n",
              "    <tr>\n",
              "      <th>1</th>\n",
              "      <td>0.689826</td>\n",
              "    </tr>\n",
              "  </tbody>\n",
              "</table>\n",
              "</div><br><label><b>dtype:</b> float64</label>"
            ]
          },
          "metadata": {},
          "execution_count": 44
        }
      ]
    },
    {
      "cell_type": "code",
      "source": [
        "#Official query for \"everyone else\"\n",
        "# The complement of (A and B) is the union notA or notB\n",
        "barcoupons.query('age in @age25orless | Bar in @ltoncemonth')['Y'].value_counts().sort_index()\n"
      ],
      "metadata": {
        "colab": {
          "base_uri": "https://localhost:8080/",
          "height": 178
        },
        "id": "7oPq1Bbl-7Gw",
        "outputId": "fd7fffe1-df29-44d3-983f-cea5c5dbb5e8"
      },
      "execution_count": 45,
      "outputs": [
        {
          "output_type": "execute_result",
          "data": {
            "text/plain": [
              "Y\n",
              "0    1000\n",
              "1     510\n",
              "Name: count, dtype: int64"
            ],
            "text/html": [
              "<div>\n",
              "<style scoped>\n",
              "    .dataframe tbody tr th:only-of-type {\n",
              "        vertical-align: middle;\n",
              "    }\n",
              "\n",
              "    .dataframe tbody tr th {\n",
              "        vertical-align: top;\n",
              "    }\n",
              "\n",
              "    .dataframe thead th {\n",
              "        text-align: right;\n",
              "    }\n",
              "</style>\n",
              "<table border=\"1\" class=\"dataframe\">\n",
              "  <thead>\n",
              "    <tr style=\"text-align: right;\">\n",
              "      <th></th>\n",
              "      <th>count</th>\n",
              "    </tr>\n",
              "    <tr>\n",
              "      <th>Y</th>\n",
              "      <th></th>\n",
              "    </tr>\n",
              "  </thead>\n",
              "  <tbody>\n",
              "    <tr>\n",
              "      <th>0</th>\n",
              "      <td>1000</td>\n",
              "    </tr>\n",
              "    <tr>\n",
              "      <th>1</th>\n",
              "      <td>510</td>\n",
              "    </tr>\n",
              "  </tbody>\n",
              "</table>\n",
              "</div><br><label><b>dtype:</b> int64</label>"
            ]
          },
          "metadata": {},
          "execution_count": 45
        }
      ]
    },
    {
      "cell_type": "code",
      "source": [
        "#Everyone else : Coupon success rate\n",
        "barcoupons.query('age in @age25orless | Bar in @ltoncemonth')['Y'].value_counts(normalize=True).sort_index()"
      ],
      "metadata": {
        "colab": {
          "base_uri": "https://localhost:8080/",
          "height": 178
        },
        "id": "OArgE-UsRk48",
        "outputId": "b4169951-809c-47fc-f7e1-d3ccd7b24bd1"
      },
      "execution_count": 46,
      "outputs": [
        {
          "output_type": "execute_result",
          "data": {
            "text/plain": [
              "Y\n",
              "0    0.662252\n",
              "1    0.337748\n",
              "Name: proportion, dtype: float64"
            ],
            "text/html": [
              "<div>\n",
              "<style scoped>\n",
              "    .dataframe tbody tr th:only-of-type {\n",
              "        vertical-align: middle;\n",
              "    }\n",
              "\n",
              "    .dataframe tbody tr th {\n",
              "        vertical-align: top;\n",
              "    }\n",
              "\n",
              "    .dataframe thead th {\n",
              "        text-align: right;\n",
              "    }\n",
              "</style>\n",
              "<table border=\"1\" class=\"dataframe\">\n",
              "  <thead>\n",
              "    <tr style=\"text-align: right;\">\n",
              "      <th></th>\n",
              "      <th>proportion</th>\n",
              "    </tr>\n",
              "    <tr>\n",
              "      <th>Y</th>\n",
              "      <th></th>\n",
              "    </tr>\n",
              "  </thead>\n",
              "  <tbody>\n",
              "    <tr>\n",
              "      <th>0</th>\n",
              "      <td>0.662252</td>\n",
              "    </tr>\n",
              "    <tr>\n",
              "      <th>1</th>\n",
              "      <td>0.337748</td>\n",
              "    </tr>\n",
              "  </tbody>\n",
              "</table>\n",
              "</div><br><label><b>dtype:</b> float64</label>"
            ]
          },
          "metadata": {},
          "execution_count": 46
        }
      ]
    },
    {
      "cell_type": "markdown",
      "source": [
        "Once again, the contrast in the coupon acceptance rate is clear: 68.98\\% vs 33.77\\% for these two groups.\n"
      ],
      "metadata": {
        "id": "G1NM5TBiZoek"
      }
    },
    {
      "cell_type": "code",
      "source": [],
      "metadata": {
        "id": "OitjJkCm-7TA"
      },
      "execution_count": null,
      "outputs": []
    },
    {
      "cell_type": "markdown",
      "metadata": {
        "id": "S4RKT4PJ_qRK"
      },
      "source": [
        "5. Use the same process to compare the acceptance rate between drivers who go to bars more than once a month and had passengers that were not a kid and had occupations other than farming, fishing, or forestry.\n"
      ]
    },
    {
      "cell_type": "markdown",
      "source": [
        "A quick examination of the variable 'occupation' reveals that there is a single category label that contains farming, fishing and forestry."
      ],
      "metadata": {
        "id": "tHwHvwbvN2Lm"
      }
    },
    {
      "cell_type": "code",
      "source": [
        "#Will use the previous filter @onceormore and @ltoncemonth for the \"Bar\" variable\n",
        "\n",
        "#Multiple query: drivers who go to bars more than once a month, have passsengers that are not kids, AND\n",
        "# have occupations other than farming, fishing, or forestry.\n",
        "\n",
        "barcoupons.query('(Bar in @onceormore and passenger != \"Kid(s)\") and occupation != \"Farming Fishing & Forestry\"')['Y'].value_counts(normalize=True).sort_index()"
      ],
      "metadata": {
        "colab": {
          "base_uri": "https://localhost:8080/",
          "height": 178
        },
        "id": "O1is0KAUf2Ft",
        "outputId": "d6587a65-b29b-4540-aa44-c050c6bb7cb6"
      },
      "execution_count": 47,
      "outputs": [
        {
          "output_type": "execute_result",
          "data": {
            "text/plain": [
              "Y\n",
              "0    0.290566\n",
              "1    0.709434\n",
              "Name: proportion, dtype: float64"
            ],
            "text/html": [
              "<div>\n",
              "<style scoped>\n",
              "    .dataframe tbody tr th:only-of-type {\n",
              "        vertical-align: middle;\n",
              "    }\n",
              "\n",
              "    .dataframe tbody tr th {\n",
              "        vertical-align: top;\n",
              "    }\n",
              "\n",
              "    .dataframe thead th {\n",
              "        text-align: right;\n",
              "    }\n",
              "</style>\n",
              "<table border=\"1\" class=\"dataframe\">\n",
              "  <thead>\n",
              "    <tr style=\"text-align: right;\">\n",
              "      <th></th>\n",
              "      <th>proportion</th>\n",
              "    </tr>\n",
              "    <tr>\n",
              "      <th>Y</th>\n",
              "      <th></th>\n",
              "    </tr>\n",
              "  </thead>\n",
              "  <tbody>\n",
              "    <tr>\n",
              "      <th>0</th>\n",
              "      <td>0.290566</td>\n",
              "    </tr>\n",
              "    <tr>\n",
              "      <th>1</th>\n",
              "      <td>0.709434</td>\n",
              "    </tr>\n",
              "  </tbody>\n",
              "</table>\n",
              "</div><br><label><b>dtype:</b> float64</label>"
            ]
          },
          "metadata": {},
          "execution_count": 47
        }
      ]
    },
    {
      "cell_type": "code",
      "source": [
        "#Everyone else\n",
        "barcoupons.query('(Bar in @ltoncemonth | passenger == \"Kid(s)\") | occupation == \"Farming Fishing & Forestry\"')['Y'].value_counts(normalize=True).sort_index()"
      ],
      "metadata": {
        "colab": {
          "base_uri": "https://localhost:8080/",
          "height": 178
        },
        "id": "CN3C7O6Xf2Lx",
        "outputId": "14b10d2e-bc23-4f86-a4c3-5da74c069139"
      },
      "execution_count": 48,
      "outputs": [
        {
          "output_type": "execute_result",
          "data": {
            "text/plain": [
              "Y\n",
              "0    0.702097\n",
              "1    0.297903\n",
              "Name: proportion, dtype: float64"
            ],
            "text/html": [
              "<div>\n",
              "<style scoped>\n",
              "    .dataframe tbody tr th:only-of-type {\n",
              "        vertical-align: middle;\n",
              "    }\n",
              "\n",
              "    .dataframe tbody tr th {\n",
              "        vertical-align: top;\n",
              "    }\n",
              "\n",
              "    .dataframe thead th {\n",
              "        text-align: right;\n",
              "    }\n",
              "</style>\n",
              "<table border=\"1\" class=\"dataframe\">\n",
              "  <thead>\n",
              "    <tr style=\"text-align: right;\">\n",
              "      <th></th>\n",
              "      <th>proportion</th>\n",
              "    </tr>\n",
              "    <tr>\n",
              "      <th>Y</th>\n",
              "      <th></th>\n",
              "    </tr>\n",
              "  </thead>\n",
              "  <tbody>\n",
              "    <tr>\n",
              "      <th>0</th>\n",
              "      <td>0.702097</td>\n",
              "    </tr>\n",
              "    <tr>\n",
              "      <th>1</th>\n",
              "      <td>0.297903</td>\n",
              "    </tr>\n",
              "  </tbody>\n",
              "</table>\n",
              "</div><br><label><b>dtype:</b> float64</label>"
            ]
          },
          "metadata": {},
          "execution_count": 48
        }
      ]
    },
    {
      "cell_type": "markdown",
      "source": [
        "Coupon acceptance rate of 70.94\\% vs. 29.79\\% for this partition of the data."
      ],
      "metadata": {
        "id": "cEsu7GbRaGJ4"
      }
    },
    {
      "cell_type": "code",
      "source": [],
      "metadata": {
        "id": "LX79rtZof2Si"
      },
      "execution_count": null,
      "outputs": []
    },
    {
      "cell_type": "code",
      "source": [],
      "metadata": {
        "id": "bZWdrXRo8dba"
      },
      "execution_count": null,
      "outputs": []
    },
    {
      "cell_type": "code",
      "source": [],
      "metadata": {
        "id": "T-Te0Wgw8df0"
      },
      "execution_count": null,
      "outputs": []
    },
    {
      "cell_type": "code",
      "source": [],
      "metadata": {
        "id": "zi3WD7xH8dj5"
      },
      "execution_count": null,
      "outputs": []
    },
    {
      "cell_type": "markdown",
      "metadata": {
        "id": "n2LIUTil_qRK"
      },
      "source": [
        "6. Compare the acceptance rates between those drivers who:\n",
        "\n",
        "- go to bars more than once a month, had passengers that were not a kid, and were not widowed *OR*\n",
        "- go to bars more than once a month and are under the age of 30 *OR*\n",
        "- go to cheap restaurants more than 4 times a month and income is less than 50K.\n",
        "\n"
      ]
    },
    {
      "cell_type": "code",
      "execution_count": 49,
      "metadata": {
        "id": "aK_wEzx7_qRK",
        "colab": {
          "base_uri": "https://localhost:8080/",
          "height": 178
        },
        "outputId": "684ab85b-efab-4a95-8c0a-bdb4406fa5f0"
      },
      "outputs": [
        {
          "output_type": "execute_result",
          "data": {
            "text/plain": [
              "Y\n",
              "0    0.290566\n",
              "1    0.709434\n",
              "Name: proportion, dtype: float64"
            ],
            "text/html": [
              "<div>\n",
              "<style scoped>\n",
              "    .dataframe tbody tr th:only-of-type {\n",
              "        vertical-align: middle;\n",
              "    }\n",
              "\n",
              "    .dataframe tbody tr th {\n",
              "        vertical-align: top;\n",
              "    }\n",
              "\n",
              "    .dataframe thead th {\n",
              "        text-align: right;\n",
              "    }\n",
              "</style>\n",
              "<table border=\"1\" class=\"dataframe\">\n",
              "  <thead>\n",
              "    <tr style=\"text-align: right;\">\n",
              "      <th></th>\n",
              "      <th>proportion</th>\n",
              "    </tr>\n",
              "    <tr>\n",
              "      <th>Y</th>\n",
              "      <th></th>\n",
              "    </tr>\n",
              "  </thead>\n",
              "  <tbody>\n",
              "    <tr>\n",
              "      <th>0</th>\n",
              "      <td>0.290566</td>\n",
              "    </tr>\n",
              "    <tr>\n",
              "      <th>1</th>\n",
              "      <td>0.709434</td>\n",
              "    </tr>\n",
              "  </tbody>\n",
              "</table>\n",
              "</div><br><label><b>dtype:</b> float64</label>"
            ]
          },
          "metadata": {},
          "execution_count": 49
        }
      ],
      "source": [
        "#Multiple query: bars more than once a month AND passengers not a kid AND not widowed\n",
        "\n",
        "barcoupons.query('(Bar in @onceormore and passenger != \"Kid(s)\") and maritalStatus != \"widowed\"')['Y'].value_counts(normalize=True).sort_index()"
      ]
    },
    {
      "cell_type": "code",
      "source": [
        "#Multiple query: bars more than once a month AND aged under 30\n",
        "\n",
        "under30 = ['below21', '21', '26']\n",
        "\n",
        "barcoupons.query('Bar in @onceormore and age in @under30')['Y'].value_counts(normalize=True).sort_index()"
      ],
      "metadata": {
        "colab": {
          "base_uri": "https://localhost:8080/",
          "height": 178
        },
        "id": "qxkxJBjkkgDP",
        "outputId": "6d27168e-b948-4ef7-fec5-b212d0926cf7"
      },
      "execution_count": 51,
      "outputs": [
        {
          "output_type": "execute_result",
          "data": {
            "text/plain": [
              "Y\n",
              "0    0.280488\n",
              "1    0.719512\n",
              "Name: proportion, dtype: float64"
            ],
            "text/html": [
              "<div>\n",
              "<style scoped>\n",
              "    .dataframe tbody tr th:only-of-type {\n",
              "        vertical-align: middle;\n",
              "    }\n",
              "\n",
              "    .dataframe tbody tr th {\n",
              "        vertical-align: top;\n",
              "    }\n",
              "\n",
              "    .dataframe thead th {\n",
              "        text-align: right;\n",
              "    }\n",
              "</style>\n",
              "<table border=\"1\" class=\"dataframe\">\n",
              "  <thead>\n",
              "    <tr style=\"text-align: right;\">\n",
              "      <th></th>\n",
              "      <th>proportion</th>\n",
              "    </tr>\n",
              "    <tr>\n",
              "      <th>Y</th>\n",
              "      <th></th>\n",
              "    </tr>\n",
              "  </thead>\n",
              "  <tbody>\n",
              "    <tr>\n",
              "      <th>0</th>\n",
              "      <td>0.280488</td>\n",
              "    </tr>\n",
              "    <tr>\n",
              "      <th>1</th>\n",
              "      <td>0.719512</td>\n",
              "    </tr>\n",
              "  </tbody>\n",
              "</table>\n",
              "</div><br><label><b>dtype:</b> float64</label>"
            ]
          },
          "metadata": {},
          "execution_count": 51
        }
      ]
    },
    {
      "cell_type": "code",
      "source": [
        "#Multiple query: RestaurantLessThan20 more than 4 times/ month AND income < %50K\n",
        "\n",
        "morethan4permonth = ['4~8','gt8']\n",
        "incomeless50K = ['Less than $12500', '$12500 - $24999', '$25000 - $37499', '$37500 - $49999']\n",
        "\n",
        "barcoupons.query('RestaurantLessThan20 in @morethan4permonth and income in @incomeless50K')['Y'].value_counts(normalize=True).sort_index()"
      ],
      "metadata": {
        "colab": {
          "base_uri": "https://localhost:8080/",
          "height": 178
        },
        "id": "TGrKo2VKkgIJ",
        "outputId": "77eff2be-69e9-4fd0-857b-d46fcbd156e9"
      },
      "execution_count": 52,
      "outputs": [
        {
          "output_type": "execute_result",
          "data": {
            "text/plain": [
              "Y\n",
              "0    0.543544\n",
              "1    0.456456\n",
              "Name: proportion, dtype: float64"
            ],
            "text/html": [
              "<div>\n",
              "<style scoped>\n",
              "    .dataframe tbody tr th:only-of-type {\n",
              "        vertical-align: middle;\n",
              "    }\n",
              "\n",
              "    .dataframe tbody tr th {\n",
              "        vertical-align: top;\n",
              "    }\n",
              "\n",
              "    .dataframe thead th {\n",
              "        text-align: right;\n",
              "    }\n",
              "</style>\n",
              "<table border=\"1\" class=\"dataframe\">\n",
              "  <thead>\n",
              "    <tr style=\"text-align: right;\">\n",
              "      <th></th>\n",
              "      <th>proportion</th>\n",
              "    </tr>\n",
              "    <tr>\n",
              "      <th>Y</th>\n",
              "      <th></th>\n",
              "    </tr>\n",
              "  </thead>\n",
              "  <tbody>\n",
              "    <tr>\n",
              "      <th>0</th>\n",
              "      <td>0.543544</td>\n",
              "    </tr>\n",
              "    <tr>\n",
              "      <th>1</th>\n",
              "      <td>0.456456</td>\n",
              "    </tr>\n",
              "  </tbody>\n",
              "</table>\n",
              "</div><br><label><b>dtype:</b> float64</label>"
            ]
          },
          "metadata": {},
          "execution_count": 52
        }
      ]
    },
    {
      "cell_type": "markdown",
      "source": [
        "Acceptance rates for drivers who:\n",
        "\n",
        "- go to bars more than once a month, had passengers that were not a kid, and were not widowed: **70.9434\\%**\n",
        "- go to bars more than once a month and are under the age of 30: **71.9512\\%**\n",
        "- go to cheap restaurants more than 4 times a month and income is less than 50K: **45.6456\\%**"
      ],
      "metadata": {
        "id": "J3wNep2Nu6Zw"
      }
    },
    {
      "cell_type": "code",
      "source": [],
      "metadata": {
        "id": "YtbcvN1RkgMb"
      },
      "execution_count": null,
      "outputs": []
    },
    {
      "cell_type": "markdown",
      "metadata": {
        "id": "v3fL3QkO_qRK"
      },
      "source": [
        "7.  Based on these observations, what do you hypothesize about drivers who accepted the bar coupons?"
      ]
    },
    {
      "cell_type": "markdown",
      "source": [
        "**Response:**\n",
        "It seems clear that a big determinant of a driver accepting a coupon for a bar is whether they tend to go to bars (at least once per month, which may not necessarily be a lot to ask). A second element has to do with whether the driver has kids as passengers, which (understandably) lowers the coupon acceptance rate. This can also be loosely related to the driver's age, with younger drivers tending to accept the coupon at a higher rate than older ones (though this is not strictly true, as people in their 40s seem to accept the coupon at a higher rate than those in their 30s -- see table below). Finally, it appears that income (measured directly and through the number of times users go to \"cheap restaurants\") may be inversely related to the probability of a driver accepting a bar-related coupon.\n",
        "\n"
      ],
      "metadata": {
        "id": "2w3PN8qrbIBI"
      }
    },
    {
      "cell_type": "code",
      "source": [
        "#A focused look at the coupon acceptance rates broken down by age.\n",
        "barcoupons.groupby('age')['Y'].mean()"
      ],
      "metadata": {
        "colab": {
          "base_uri": "https://localhost:8080/",
          "height": 366
        },
        "id": "ee8VbGKgb4un",
        "outputId": "748b0807-1fe4-4365-be59-4dc26d220ef9"
      },
      "execution_count": 53,
      "outputs": [
        {
          "output_type": "execute_result",
          "data": {
            "text/plain": [
              "age\n",
              "21         0.503778\n",
              "26         0.486413\n",
              "31         0.376543\n",
              "36         0.306122\n",
              "41         0.438596\n",
              "46         0.368932\n",
              "50plus     0.293040\n",
              "below21    0.419753\n",
              "Name: Y, dtype: float64"
            ],
            "text/html": [
              "<div>\n",
              "<style scoped>\n",
              "    .dataframe tbody tr th:only-of-type {\n",
              "        vertical-align: middle;\n",
              "    }\n",
              "\n",
              "    .dataframe tbody tr th {\n",
              "        vertical-align: top;\n",
              "    }\n",
              "\n",
              "    .dataframe thead th {\n",
              "        text-align: right;\n",
              "    }\n",
              "</style>\n",
              "<table border=\"1\" class=\"dataframe\">\n",
              "  <thead>\n",
              "    <tr style=\"text-align: right;\">\n",
              "      <th></th>\n",
              "      <th>Y</th>\n",
              "    </tr>\n",
              "    <tr>\n",
              "      <th>age</th>\n",
              "      <th></th>\n",
              "    </tr>\n",
              "  </thead>\n",
              "  <tbody>\n",
              "    <tr>\n",
              "      <th>21</th>\n",
              "      <td>0.503778</td>\n",
              "    </tr>\n",
              "    <tr>\n",
              "      <th>26</th>\n",
              "      <td>0.486413</td>\n",
              "    </tr>\n",
              "    <tr>\n",
              "      <th>31</th>\n",
              "      <td>0.376543</td>\n",
              "    </tr>\n",
              "    <tr>\n",
              "      <th>36</th>\n",
              "      <td>0.306122</td>\n",
              "    </tr>\n",
              "    <tr>\n",
              "      <th>41</th>\n",
              "      <td>0.438596</td>\n",
              "    </tr>\n",
              "    <tr>\n",
              "      <th>46</th>\n",
              "      <td>0.368932</td>\n",
              "    </tr>\n",
              "    <tr>\n",
              "      <th>50plus</th>\n",
              "      <td>0.293040</td>\n",
              "    </tr>\n",
              "    <tr>\n",
              "      <th>below21</th>\n",
              "      <td>0.419753</td>\n",
              "    </tr>\n",
              "  </tbody>\n",
              "</table>\n",
              "</div><br><label><b>dtype:</b> float64</label>"
            ]
          },
          "metadata": {},
          "execution_count": 53
        }
      ]
    },
    {
      "cell_type": "markdown",
      "source": [
        "A final observation is that filtering the driver's occupation to restrict \"farming, fishing, or forestry\", or by the driver not being widowed does not really affect the coupon acceptance rate, as shown below:"
      ],
      "metadata": {
        "id": "rzlQRssLd7k4"
      }
    },
    {
      "cell_type": "code",
      "source": [
        "# Notice that since the variable 'Y' is binary (coupon accepted, Yes = 1 or No = 0),\n",
        "# the mean effectively represents the proportion of coupons accepted.\n",
        "# Will use this throughout the rest of the analysis!\n",
        "\n",
        "barcoupons.query('Bar in @onceormore and passenger != \"Kid(s)\"')['Y'].mean()"
      ],
      "metadata": {
        "colab": {
          "base_uri": "https://localhost:8080/"
        },
        "id": "oHMFOQpic0E4",
        "outputId": "cfece032-ff34-45a9-923f-076619a4490f"
      },
      "execution_count": 85,
      "outputs": [
        {
          "output_type": "execute_result",
          "data": {
            "text/plain": [
              "0.7094339622641509"
            ]
          },
          "metadata": {},
          "execution_count": 85
        }
      ]
    },
    {
      "cell_type": "code",
      "source": [
        "barcoupons.query('Bar in @ltoncemonth | passenger == \"Kid(s)\"')['Y'].mean()"
      ],
      "metadata": {
        "colab": {
          "base_uri": "https://localhost:8080/"
        },
        "id": "f-2QXwGedDmz",
        "outputId": "b1f1428e-24da-459e-ee22-d70338ed0a0a"
      },
      "execution_count": 86,
      "outputs": [
        {
          "output_type": "execute_result",
          "data": {
            "text/plain": [
              "0.29790310918293567"
            ]
          },
          "metadata": {},
          "execution_count": 86
        }
      ]
    },
    {
      "cell_type": "code",
      "source": [],
      "metadata": {
        "id": "zrQjiGIrb41j"
      },
      "execution_count": null,
      "outputs": []
    },
    {
      "cell_type": "markdown",
      "metadata": {
        "id": "r4Hu1zOb_qRL"
      },
      "source": [
        "### Independent Investigation\n",
        "\n",
        "Using the bar coupon example as motivation, you are to explore one of the other coupon groups and try to determine the characteristics of passengers who accept the coupons.  "
      ]
    },
    {
      "cell_type": "code",
      "source": [
        "#Create auxiliary 'distance' variable as the sum of the three \"toCoupon_GEQ\" columns;\n",
        "#This will create values of 0, 1, 2, or 3 for coupon destinations less than 5 minutes away,\n",
        "#between 5 and 15 minutes away, between 15 and 25 minutes away, or more than 25 minutes away/\n",
        "\n",
        "cleandata['distance'] = cleandata['toCoupon_GEQ5min'] + cleandata['toCoupon_GEQ15min'] + cleandata['toCoupon_GEQ25min']"
      ],
      "metadata": {
        "colab": {
          "base_uri": "https://localhost:8080/"
        },
        "id": "E2lrywc22myj",
        "outputId": "bce89fd6-9bf4-40f4-cb30-1bf14684fdb8"
      },
      "execution_count": 69,
      "outputs": [
        {
          "output_type": "stream",
          "name": "stderr",
          "text": [
            "<ipython-input-69-561f73f96c7a>:5: SettingWithCopyWarning: \n",
            "A value is trying to be set on a copy of a slice from a DataFrame.\n",
            "Try using .loc[row_indexer,col_indexer] = value instead\n",
            "\n",
            "See the caveats in the documentation: https://pandas.pydata.org/pandas-docs/stable/user_guide/indexing.html#returning-a-view-versus-a-copy\n",
            "  cleandata['distance'] = cleandata['toCoupon_GEQ5min'] + cleandata['toCoupon_GEQ15min'] + cleandata['toCoupon_GEQ25min']\n"
          ]
        }
      ]
    },
    {
      "cell_type": "markdown",
      "source": [
        "Note: I see that there is a warning here (since I eliminated a column and a number of rows with missing values from the original dataframe). The variable 'distance' is successfully created nonetheless."
      ],
      "metadata": {
        "id": "kHRowph53Smz"
      }
    },
    {
      "cell_type": "code",
      "source": [
        "cleandata.info()"
      ],
      "metadata": {
        "colab": {
          "base_uri": "https://localhost:8080/"
        },
        "id": "8zxDnHcN2msW",
        "outputId": "10403351-9e9e-4fef-dc63-1a3eedfb70a8"
      },
      "execution_count": 70,
      "outputs": [
        {
          "output_type": "stream",
          "name": "stdout",
          "text": [
            "<class 'pandas.core.frame.DataFrame'>\n",
            "Index: 12079 entries, 22 to 12683\n",
            "Data columns (total 26 columns):\n",
            " #   Column                Non-Null Count  Dtype \n",
            "---  ------                --------------  ----- \n",
            " 0   destination           12079 non-null  object\n",
            " 1   passenger             12079 non-null  object\n",
            " 2   weather               12079 non-null  object\n",
            " 3   temperature           12079 non-null  int64 \n",
            " 4   time                  12079 non-null  object\n",
            " 5   coupon                12079 non-null  object\n",
            " 6   expiration            12079 non-null  object\n",
            " 7   gender                12079 non-null  object\n",
            " 8   age                   12079 non-null  object\n",
            " 9   maritalStatus         12079 non-null  object\n",
            " 10  has_children          12079 non-null  int64 \n",
            " 11  education             12079 non-null  object\n",
            " 12  occupation            12079 non-null  object\n",
            " 13  income                12079 non-null  object\n",
            " 14  Bar                   12079 non-null  object\n",
            " 15  CoffeeHouse           12079 non-null  object\n",
            " 16  CarryAway             12079 non-null  object\n",
            " 17  RestaurantLessThan20  12079 non-null  object\n",
            " 18  Restaurant20To50      12079 non-null  object\n",
            " 19  toCoupon_GEQ5min      12079 non-null  int64 \n",
            " 20  toCoupon_GEQ15min     12079 non-null  int64 \n",
            " 21  toCoupon_GEQ25min     12079 non-null  int64 \n",
            " 22  direction_same        12079 non-null  int64 \n",
            " 23  direction_opp         12079 non-null  int64 \n",
            " 24  Y                     12079 non-null  int64 \n",
            " 25  distance              12079 non-null  int64 \n",
            "dtypes: int64(9), object(17)\n",
            "memory usage: 2.5+ MB\n"
          ]
        }
      ]
    },
    {
      "cell_type": "code",
      "execution_count": 59,
      "metadata": {
        "id": "0c71cQhu_qRL",
        "colab": {
          "base_uri": "https://localhost:8080/",
          "height": 272
        },
        "outputId": "3bc40434-b178-41af-dc09-8b84acec3c0e"
      },
      "outputs": [
        {
          "output_type": "execute_result",
          "data": {
            "text/plain": [
              "coupon\n",
              "Coffee House             0.315920\n",
              "Restaurant(<20)          0.219637\n",
              "Carry out & Take away    0.188757\n",
              "Bar                      0.158374\n",
              "Restaurant(20-50)        0.117311\n",
              "Name: proportion, dtype: float64"
            ],
            "text/html": [
              "<div>\n",
              "<style scoped>\n",
              "    .dataframe tbody tr th:only-of-type {\n",
              "        vertical-align: middle;\n",
              "    }\n",
              "\n",
              "    .dataframe tbody tr th {\n",
              "        vertical-align: top;\n",
              "    }\n",
              "\n",
              "    .dataframe thead th {\n",
              "        text-align: right;\n",
              "    }\n",
              "</style>\n",
              "<table border=\"1\" class=\"dataframe\">\n",
              "  <thead>\n",
              "    <tr style=\"text-align: right;\">\n",
              "      <th></th>\n",
              "      <th>proportion</th>\n",
              "    </tr>\n",
              "    <tr>\n",
              "      <th>coupon</th>\n",
              "      <th></th>\n",
              "    </tr>\n",
              "  </thead>\n",
              "  <tbody>\n",
              "    <tr>\n",
              "      <th>Coffee House</th>\n",
              "      <td>0.315920</td>\n",
              "    </tr>\n",
              "    <tr>\n",
              "      <th>Restaurant(&lt;20)</th>\n",
              "      <td>0.219637</td>\n",
              "    </tr>\n",
              "    <tr>\n",
              "      <th>Carry out &amp; Take away</th>\n",
              "      <td>0.188757</td>\n",
              "    </tr>\n",
              "    <tr>\n",
              "      <th>Bar</th>\n",
              "      <td>0.158374</td>\n",
              "    </tr>\n",
              "    <tr>\n",
              "      <th>Restaurant(20-50)</th>\n",
              "      <td>0.117311</td>\n",
              "    </tr>\n",
              "  </tbody>\n",
              "</table>\n",
              "</div><br><label><b>dtype:</b> float64</label>"
            ]
          },
          "metadata": {},
          "execution_count": 59
        }
      ],
      "source": [
        "#Explore distribution of coupons\n",
        "cleandata['coupon'].value_counts(normalize = True)"
      ]
    },
    {
      "cell_type": "code",
      "source": [
        "cleandata.groupby('coupon')['Y'].mean()"
      ],
      "metadata": {
        "colab": {
          "base_uri": "https://localhost:8080/",
          "height": 272
        },
        "id": "ns5w06Pr03qc",
        "outputId": "3e952dba-d0e4-401f-b4ce-74af29e31fa0"
      },
      "execution_count": 61,
      "outputs": [
        {
          "output_type": "execute_result",
          "data": {
            "text/plain": [
              "coupon\n",
              "Bar                      0.411918\n",
              "Carry out & Take away    0.737719\n",
              "Coffee House             0.496331\n",
              "Restaurant(20-50)        0.446013\n",
              "Restaurant(<20)          0.709009\n",
              "Name: Y, dtype: float64"
            ],
            "text/html": [
              "<div>\n",
              "<style scoped>\n",
              "    .dataframe tbody tr th:only-of-type {\n",
              "        vertical-align: middle;\n",
              "    }\n",
              "\n",
              "    .dataframe tbody tr th {\n",
              "        vertical-align: top;\n",
              "    }\n",
              "\n",
              "    .dataframe thead th {\n",
              "        text-align: right;\n",
              "    }\n",
              "</style>\n",
              "<table border=\"1\" class=\"dataframe\">\n",
              "  <thead>\n",
              "    <tr style=\"text-align: right;\">\n",
              "      <th></th>\n",
              "      <th>Y</th>\n",
              "    </tr>\n",
              "    <tr>\n",
              "      <th>coupon</th>\n",
              "      <th></th>\n",
              "    </tr>\n",
              "  </thead>\n",
              "  <tbody>\n",
              "    <tr>\n",
              "      <th>Bar</th>\n",
              "      <td>0.411918</td>\n",
              "    </tr>\n",
              "    <tr>\n",
              "      <th>Carry out &amp; Take away</th>\n",
              "      <td>0.737719</td>\n",
              "    </tr>\n",
              "    <tr>\n",
              "      <th>Coffee House</th>\n",
              "      <td>0.496331</td>\n",
              "    </tr>\n",
              "    <tr>\n",
              "      <th>Restaurant(20-50)</th>\n",
              "      <td>0.446013</td>\n",
              "    </tr>\n",
              "    <tr>\n",
              "      <th>Restaurant(&lt;20)</th>\n",
              "      <td>0.709009</td>\n",
              "    </tr>\n",
              "  </tbody>\n",
              "</table>\n",
              "</div><br><label><b>dtype:</b> float64</label>"
            ]
          },
          "metadata": {},
          "execution_count": 61
        }
      ]
    },
    {
      "cell_type": "code",
      "source": [],
      "metadata": {
        "id": "CMu2ugDfybp7"
      },
      "execution_count": null,
      "outputs": []
    },
    {
      "cell_type": "markdown",
      "source": [
        "I will focus on the coupons for \"Coffee House\" (cafes/coffee houses), which represent the largest share of coupons in the set. Notice that it does not have the highest acceptance rate, so I anticipate the analysis could suggest characteristics that make a difference in drivers accepting the coupon."
      ],
      "metadata": {
        "id": "Pf3mJ2xXxyOw"
      }
    },
    {
      "cell_type": "code",
      "execution_count": 83,
      "metadata": {
        "id": "QEsBkvIN_qRL",
        "colab": {
          "base_uri": "https://localhost:8080/"
        },
        "outputId": "c4c54f5e-37bb-458b-bffc-60a9ba5a11e8"
      },
      "outputs": [
        {
          "output_type": "stream",
          "name": "stdout",
          "text": [
            "<class 'pandas.core.frame.DataFrame'>\n",
            "Index: 3816 entries, 23 to 12681\n",
            "Data columns (total 26 columns):\n",
            " #   Column                Non-Null Count  Dtype \n",
            "---  ------                --------------  ----- \n",
            " 0   destination           3816 non-null   object\n",
            " 1   passenger             3816 non-null   object\n",
            " 2   weather               3816 non-null   object\n",
            " 3   temperature           3816 non-null   int64 \n",
            " 4   time                  3816 non-null   object\n",
            " 5   coupon                3816 non-null   object\n",
            " 6   expiration            3816 non-null   object\n",
            " 7   gender                3816 non-null   object\n",
            " 8   age                   3816 non-null   object\n",
            " 9   maritalStatus         3816 non-null   object\n",
            " 10  has_children          3816 non-null   int64 \n",
            " 11  education             3816 non-null   object\n",
            " 12  occupation            3816 non-null   object\n",
            " 13  income                3816 non-null   object\n",
            " 14  Bar                   3816 non-null   object\n",
            " 15  CoffeeHouse           3816 non-null   object\n",
            " 16  CarryAway             3816 non-null   object\n",
            " 17  RestaurantLessThan20  3816 non-null   object\n",
            " 18  Restaurant20To50      3816 non-null   object\n",
            " 19  toCoupon_GEQ5min      3816 non-null   int64 \n",
            " 20  toCoupon_GEQ15min     3816 non-null   int64 \n",
            " 21  toCoupon_GEQ25min     3816 non-null   int64 \n",
            " 22  direction_same        3816 non-null   int64 \n",
            " 23  direction_opp         3816 non-null   int64 \n",
            " 24  Y                     3816 non-null   int64 \n",
            " 25  distance              3816 non-null   int64 \n",
            "dtypes: int64(9), object(17)\n",
            "memory usage: 804.9+ KB\n"
          ]
        }
      ],
      "source": [
        "coffeecoupons = cleandata.query('coupon == \"Coffee House\"')\n",
        "coffeecoupons.info()"
      ]
    },
    {
      "cell_type": "markdown",
      "source": [
        "As mentioned earlier, since the 'Y' variable is coded as 0s and 1s, the mean is effectively a proportion (the coupon acceptance rate)."
      ],
      "metadata": {
        "id": "FTIeKFVQxONi"
      }
    },
    {
      "cell_type": "code",
      "source": [
        "#Explore coupon acceptance rate by response to \"CoffeeHouse\"\n",
        "coffeecoupons.groupby('CoffeeHouse')['Y'].mean()"
      ],
      "metadata": {
        "colab": {
          "base_uri": "https://localhost:8080/",
          "height": 272
        },
        "id": "T4ImvfV0u1p9",
        "outputId": "119353c3-0a4c-4cad-9e0f-77172b2bef0f"
      },
      "execution_count": null,
      "outputs": [
        {
          "output_type": "execute_result",
          "data": {
            "text/plain": [
              "CoffeeHouse\n",
              "1~3      0.647694\n",
              "4~8      0.682446\n",
              "gt8      0.657895\n",
              "less1    0.480989\n",
              "never    0.175223\n",
              "Name: Y, dtype: float64"
            ],
            "text/html": [
              "<div>\n",
              "<style scoped>\n",
              "    .dataframe tbody tr th:only-of-type {\n",
              "        vertical-align: middle;\n",
              "    }\n",
              "\n",
              "    .dataframe tbody tr th {\n",
              "        vertical-align: top;\n",
              "    }\n",
              "\n",
              "    .dataframe thead th {\n",
              "        text-align: right;\n",
              "    }\n",
              "</style>\n",
              "<table border=\"1\" class=\"dataframe\">\n",
              "  <thead>\n",
              "    <tr style=\"text-align: right;\">\n",
              "      <th></th>\n",
              "      <th>Y</th>\n",
              "    </tr>\n",
              "    <tr>\n",
              "      <th>CoffeeHouse</th>\n",
              "      <th></th>\n",
              "    </tr>\n",
              "  </thead>\n",
              "  <tbody>\n",
              "    <tr>\n",
              "      <th>1~3</th>\n",
              "      <td>0.647694</td>\n",
              "    </tr>\n",
              "    <tr>\n",
              "      <th>4~8</th>\n",
              "      <td>0.682446</td>\n",
              "    </tr>\n",
              "    <tr>\n",
              "      <th>gt8</th>\n",
              "      <td>0.657895</td>\n",
              "    </tr>\n",
              "    <tr>\n",
              "      <th>less1</th>\n",
              "      <td>0.480989</td>\n",
              "    </tr>\n",
              "    <tr>\n",
              "      <th>never</th>\n",
              "      <td>0.175223</td>\n",
              "    </tr>\n",
              "  </tbody>\n",
              "</table>\n",
              "</div><br><label><b>dtype:</b> float64</label>"
            ]
          },
          "metadata": {},
          "execution_count": 110
        }
      ]
    },
    {
      "cell_type": "markdown",
      "source": [
        "So it looks like the frequency with which the user visits cafes/coffee houses is directly related with the likelihood that they will accept the coupon."
      ],
      "metadata": {
        "id": "fx5LztVuvr2b"
      }
    },
    {
      "cell_type": "code",
      "source": [
        "#Will use existing filters for how often users visit a CoffeeHouse (ltoncemonth/onceormore)"
      ],
      "metadata": {
        "id": "5pqgzRaNu1uZ"
      },
      "execution_count": null,
      "outputs": []
    },
    {
      "cell_type": "code",
      "source": [
        "#Aggregating using \"onceormore\" and \"ltoncemonth\" lists\n",
        "print(\"Coupon acceptance rates for drivers who:\")\n",
        "print(\"go to coffee houses once a month or more: \", coffeecoupons.query('CoffeeHouse in @onceormore')['Y'].mean())\n",
        "print(\"go to coffee houses less than once a month: \",coffeecoupons.query('CoffeeHouse in @ltoncemonth')['Y'].mean())"
      ],
      "metadata": {
        "colab": {
          "base_uri": "https://localhost:8080/"
        },
        "id": "TtMpKX7su1yr",
        "outputId": "09c712f7-bedc-4071-db4d-50e318ff5a02"
      },
      "execution_count": 94,
      "outputs": [
        {
          "output_type": "stream",
          "name": "stdout",
          "text": [
            "Coupon acceptance rates for drivers who:\n",
            "go to coffee houses once a month or more:  0.6589935760171306\n",
            "go to coffee houses less than once a month:  0.34034907597535935\n"
          ]
        }
      ]
    },
    {
      "cell_type": "markdown",
      "source": [
        "This is already an important difference in the coupon acceptance rate. Although it may seem that the restriction \"going (to coffee houses) once a month or more\" is not that strict, it splits the dataset almost exactly in half (see table below)."
      ],
      "metadata": {
        "id": "FQmnAEWj9wTn"
      }
    },
    {
      "cell_type": "code",
      "source": [
        "coffeecoupons['CoffeeHouse'].value_counts(normalize = True)"
      ],
      "metadata": {
        "colab": {
          "base_uri": "https://localhost:8080/",
          "height": 272
        },
        "id": "beYHUvE9-KsT",
        "outputId": "9d19f189-6a96-4609-e06b-5503bc3aa942"
      },
      "execution_count": 95,
      "outputs": [
        {
          "output_type": "execute_result",
          "data": {
            "text/plain": [
              "CoffeeHouse\n",
              "less1    0.275681\n",
              "1~3      0.267034\n",
              "never    0.234801\n",
              "4~8      0.132862\n",
              "gt8      0.089623\n",
              "Name: proportion, dtype: float64"
            ],
            "text/html": [
              "<div>\n",
              "<style scoped>\n",
              "    .dataframe tbody tr th:only-of-type {\n",
              "        vertical-align: middle;\n",
              "    }\n",
              "\n",
              "    .dataframe tbody tr th {\n",
              "        vertical-align: top;\n",
              "    }\n",
              "\n",
              "    .dataframe thead th {\n",
              "        text-align: right;\n",
              "    }\n",
              "</style>\n",
              "<table border=\"1\" class=\"dataframe\">\n",
              "  <thead>\n",
              "    <tr style=\"text-align: right;\">\n",
              "      <th></th>\n",
              "      <th>proportion</th>\n",
              "    </tr>\n",
              "    <tr>\n",
              "      <th>CoffeeHouse</th>\n",
              "      <th></th>\n",
              "    </tr>\n",
              "  </thead>\n",
              "  <tbody>\n",
              "    <tr>\n",
              "      <th>less1</th>\n",
              "      <td>0.275681</td>\n",
              "    </tr>\n",
              "    <tr>\n",
              "      <th>1~3</th>\n",
              "      <td>0.267034</td>\n",
              "    </tr>\n",
              "    <tr>\n",
              "      <th>never</th>\n",
              "      <td>0.234801</td>\n",
              "    </tr>\n",
              "    <tr>\n",
              "      <th>4~8</th>\n",
              "      <td>0.132862</td>\n",
              "    </tr>\n",
              "    <tr>\n",
              "      <th>gt8</th>\n",
              "      <td>0.089623</td>\n",
              "    </tr>\n",
              "  </tbody>\n",
              "</table>\n",
              "</div><br><label><b>dtype:</b> float64</label>"
            ]
          },
          "metadata": {},
          "execution_count": 95
        }
      ]
    },
    {
      "cell_type": "markdown",
      "source": [
        "Now we can explore whether there is a noticeable relationship between the type of passenger and the coupon acceptance rate:"
      ],
      "metadata": {
        "id": "3czsgp2Xxgc_"
      }
    },
    {
      "cell_type": "code",
      "source": [
        "coffeecoupons.groupby('passenger')['Y'].mean()"
      ],
      "metadata": {
        "colab": {
          "base_uri": "https://localhost:8080/",
          "height": 241
        },
        "id": "0FJqg2eau16v",
        "outputId": "fc36d628-cf08-43bc-e44c-2fb1e98e2a09"
      },
      "execution_count": null,
      "outputs": [
        {
          "output_type": "execute_result",
          "data": {
            "text/plain": [
              "passenger\n",
              "Alone        0.433936\n",
              "Friend(s)    0.597447\n",
              "Kid(s)       0.471503\n",
              "Partner      0.567010\n",
              "Name: Y, dtype: float64"
            ],
            "text/html": [
              "<div>\n",
              "<style scoped>\n",
              "    .dataframe tbody tr th:only-of-type {\n",
              "        vertical-align: middle;\n",
              "    }\n",
              "\n",
              "    .dataframe tbody tr th {\n",
              "        vertical-align: top;\n",
              "    }\n",
              "\n",
              "    .dataframe thead th {\n",
              "        text-align: right;\n",
              "    }\n",
              "</style>\n",
              "<table border=\"1\" class=\"dataframe\">\n",
              "  <thead>\n",
              "    <tr style=\"text-align: right;\">\n",
              "      <th></th>\n",
              "      <th>Y</th>\n",
              "    </tr>\n",
              "    <tr>\n",
              "      <th>passenger</th>\n",
              "      <th></th>\n",
              "    </tr>\n",
              "  </thead>\n",
              "  <tbody>\n",
              "    <tr>\n",
              "      <th>Alone</th>\n",
              "      <td>0.433936</td>\n",
              "    </tr>\n",
              "    <tr>\n",
              "      <th>Friend(s)</th>\n",
              "      <td>0.597447</td>\n",
              "    </tr>\n",
              "    <tr>\n",
              "      <th>Kid(s)</th>\n",
              "      <td>0.471503</td>\n",
              "    </tr>\n",
              "    <tr>\n",
              "      <th>Partner</th>\n",
              "      <td>0.567010</td>\n",
              "    </tr>\n",
              "  </tbody>\n",
              "</table>\n",
              "</div><br><label><b>dtype:</b> float64</label>"
            ]
          },
          "metadata": {},
          "execution_count": 229
        }
      ]
    },
    {
      "cell_type": "markdown",
      "source": [
        "This doesn't look as distinctive as the previous exploration by frequency with which the user goes to coffee houses, though it seems like drivers with peer companions (friends and/or partner) tend to accept the coupon for a coffee house at a higher rate.\n",
        "\n"
      ],
      "metadata": {
        "id": "U9uUQ04nyMrs"
      }
    },
    {
      "cell_type": "code",
      "source": [
        "# Filtering lists\n",
        "peer = ['Friend(s)', 'Partner']\n",
        "notpeer = ['Alone', 'Kid(s)']"
      ],
      "metadata": {
        "id": "GAMvaBI9_gbR"
      },
      "execution_count": 103,
      "outputs": []
    },
    {
      "cell_type": "code",
      "source": [
        "#Combine type of passenger (peer/not peer) with frequency filter (onceormore/ltoncemonth)\n",
        "\n",
        "print(\"Coupon acceptance rates for drivers who:\")\n",
        "print(\"* go to coffee houses once a month or more AND have peer companions: \",\n",
        "      coffeecoupons.query('CoffeeHouse in @onceormore and passenger in @peer')['Y'].mean())\n",
        "print(\"* fail at least one of the conditions above:                         \",\n",
        "      coffeecoupons.query('CoffeeHouse in @ltoncemonth | passenger in @notpeer')['Y'].mean())"
      ],
      "metadata": {
        "colab": {
          "base_uri": "https://localhost:8080/"
        },
        "id": "8J4JePfA_gW6",
        "outputId": "1d785f37-90e2-4998-8129-0a758fa1fbde"
      },
      "execution_count": 104,
      "outputs": [
        {
          "output_type": "stream",
          "name": "stdout",
          "text": [
            "Coupon acceptance rates for drivers who:\n",
            "* go to coffee houses once a month or more AND have peer companions:  0.7673758865248227\n",
            "* fail at least one of the conditions above:                          0.43490838958534234\n"
          ]
        }
      ]
    },
    {
      "cell_type": "code",
      "source": [],
      "metadata": {
        "id": "uA03Vb5R_gSE"
      },
      "execution_count": null,
      "outputs": []
    },
    {
      "cell_type": "code",
      "source": [],
      "metadata": {
        "id": "RGOCVVDJCEmM"
      },
      "execution_count": null,
      "outputs": []
    },
    {
      "cell_type": "markdown",
      "source": [
        "**Exploring possible associations between coupon acceptance and other variables:**\n",
        "\n",
        "---\n",
        "\n"
      ],
      "metadata": {
        "id": "A9G7HlBdM9zr"
      }
    },
    {
      "cell_type": "code",
      "source": [
        "#Explore possible associations between coupon acceptance and other variables:\n",
        "coffeecoupons.groupby('distance')['Y'].mean()"
      ],
      "metadata": {
        "colab": {
          "base_uri": "https://localhost:8080/",
          "height": 209
        },
        "id": "mdzFG7jWu1-G",
        "outputId": "77a6ac2c-b185-4c71-b4fe-72de66b074bb"
      },
      "execution_count": null,
      "outputs": [
        {
          "output_type": "execute_result",
          "data": {
            "text/plain": [
              "distance\n",
              "1    0.545256\n",
              "2    0.470309\n",
              "3    0.342282\n",
              "Name: Y, dtype: float64"
            ],
            "text/html": [
              "<div>\n",
              "<style scoped>\n",
              "    .dataframe tbody tr th:only-of-type {\n",
              "        vertical-align: middle;\n",
              "    }\n",
              "\n",
              "    .dataframe tbody tr th {\n",
              "        vertical-align: top;\n",
              "    }\n",
              "\n",
              "    .dataframe thead th {\n",
              "        text-align: right;\n",
              "    }\n",
              "</style>\n",
              "<table border=\"1\" class=\"dataframe\">\n",
              "  <thead>\n",
              "    <tr style=\"text-align: right;\">\n",
              "      <th></th>\n",
              "      <th>Y</th>\n",
              "    </tr>\n",
              "    <tr>\n",
              "      <th>distance</th>\n",
              "      <th></th>\n",
              "    </tr>\n",
              "  </thead>\n",
              "  <tbody>\n",
              "    <tr>\n",
              "      <th>1</th>\n",
              "      <td>0.545256</td>\n",
              "    </tr>\n",
              "    <tr>\n",
              "      <th>2</th>\n",
              "      <td>0.470309</td>\n",
              "    </tr>\n",
              "    <tr>\n",
              "      <th>3</th>\n",
              "      <td>0.342282</td>\n",
              "    </tr>\n",
              "  </tbody>\n",
              "</table>\n",
              "</div><br><label><b>dtype:</b> float64</label>"
            ]
          },
          "metadata": {},
          "execution_count": 232
        }
      ]
    },
    {
      "cell_type": "code",
      "source": [
        "coffeecoupons.groupby('destination')['Y'].mean()"
      ],
      "metadata": {
        "colab": {
          "base_uri": "https://localhost:8080/",
          "height": 209
        },
        "id": "AUnkR_vCxruW",
        "outputId": "06591191-3cef-4e0d-d755-b487787ff12c"
      },
      "execution_count": null,
      "outputs": [
        {
          "output_type": "execute_result",
          "data": {
            "text/plain": [
              "destination\n",
              "Home               0.362613\n",
              "No Urgent Place    0.578178\n",
              "Work               0.440000\n",
              "Name: Y, dtype: float64"
            ],
            "text/html": [
              "<div>\n",
              "<style scoped>\n",
              "    .dataframe tbody tr th:only-of-type {\n",
              "        vertical-align: middle;\n",
              "    }\n",
              "\n",
              "    .dataframe tbody tr th {\n",
              "        vertical-align: top;\n",
              "    }\n",
              "\n",
              "    .dataframe thead th {\n",
              "        text-align: right;\n",
              "    }\n",
              "</style>\n",
              "<table border=\"1\" class=\"dataframe\">\n",
              "  <thead>\n",
              "    <tr style=\"text-align: right;\">\n",
              "      <th></th>\n",
              "      <th>Y</th>\n",
              "    </tr>\n",
              "    <tr>\n",
              "      <th>destination</th>\n",
              "      <th></th>\n",
              "    </tr>\n",
              "  </thead>\n",
              "  <tbody>\n",
              "    <tr>\n",
              "      <th>Home</th>\n",
              "      <td>0.362613</td>\n",
              "    </tr>\n",
              "    <tr>\n",
              "      <th>No Urgent Place</th>\n",
              "      <td>0.578178</td>\n",
              "    </tr>\n",
              "    <tr>\n",
              "      <th>Work</th>\n",
              "      <td>0.440000</td>\n",
              "    </tr>\n",
              "  </tbody>\n",
              "</table>\n",
              "</div><br><label><b>dtype:</b> float64</label>"
            ]
          },
          "metadata": {},
          "execution_count": 234
        }
      ]
    },
    {
      "cell_type": "code",
      "source": [
        "#Adding combination of contextual characteristics: destination and distance\n",
        "\n",
        "print(\"Coupon acceptance rates for drivers who:\")\n",
        "print(\"* go to coffee houses once a month or more,  have peer companions, are driving\")\n",
        "print(\" to 'No Urgent Place' AND are less than 15 minutes from destination: \",\n",
        "      coffeecoupons.query('(CoffeeHouse in @onceormore and passenger in @peer) and (destination == \"No Urgent Place\" and distance == 1)')['Y'].mean())\n",
        "print(\"* fail at least one of the conditions above:                         \",\n",
        "      coffeecoupons.query('(CoffeeHouse in @ltoncemonth | passenger in @notpeer) | (destination != \"No Urgent Place\" | distance != 1)')\n",
        "      ['Y'].mean())\n"
      ],
      "metadata": {
        "colab": {
          "base_uri": "https://localhost:8080/"
        },
        "id": "5cVNwErlCEg0",
        "outputId": "a1a75cbd-8386-49ef-c2d0-80a5e8dd3805"
      },
      "execution_count": 125,
      "outputs": [
        {
          "output_type": "stream",
          "name": "stdout",
          "text": [
            "Coupon acceptance rates for drivers who:\n",
            "* go to coffee houses once a month or more,  have peer companions, are driving\n",
            " to 'No Urgent Place' AND are less than 15 minutes from destination:  0.8093922651933702\n",
            "* fail at least one of the conditions above:                          0.4635205558772438\n"
          ]
        }
      ]
    },
    {
      "cell_type": "code",
      "source": [
        "coffeecoupons.groupby('time')['Y'].mean()"
      ],
      "metadata": {
        "colab": {
          "base_uri": "https://localhost:8080/",
          "height": 272
        },
        "id": "INyKsQ_Jxrw5",
        "outputId": "dac82579-b1ac-4480-e41f-505660560a68"
      },
      "execution_count": null,
      "outputs": [
        {
          "output_type": "execute_result",
          "data": {
            "text/plain": [
              "time\n",
              "10AM    0.634772\n",
              "10PM    0.429078\n",
              "2PM     0.545455\n",
              "6PM     0.412272\n",
              "7AM     0.440000\n",
              "Name: Y, dtype: float64"
            ],
            "text/html": [
              "<div>\n",
              "<style scoped>\n",
              "    .dataframe tbody tr th:only-of-type {\n",
              "        vertical-align: middle;\n",
              "    }\n",
              "\n",
              "    .dataframe tbody tr th {\n",
              "        vertical-align: top;\n",
              "    }\n",
              "\n",
              "    .dataframe thead th {\n",
              "        text-align: right;\n",
              "    }\n",
              "</style>\n",
              "<table border=\"1\" class=\"dataframe\">\n",
              "  <thead>\n",
              "    <tr style=\"text-align: right;\">\n",
              "      <th></th>\n",
              "      <th>Y</th>\n",
              "    </tr>\n",
              "    <tr>\n",
              "      <th>time</th>\n",
              "      <th></th>\n",
              "    </tr>\n",
              "  </thead>\n",
              "  <tbody>\n",
              "    <tr>\n",
              "      <th>10AM</th>\n",
              "      <td>0.634772</td>\n",
              "    </tr>\n",
              "    <tr>\n",
              "      <th>10PM</th>\n",
              "      <td>0.429078</td>\n",
              "    </tr>\n",
              "    <tr>\n",
              "      <th>2PM</th>\n",
              "      <td>0.545455</td>\n",
              "    </tr>\n",
              "    <tr>\n",
              "      <th>6PM</th>\n",
              "      <td>0.412272</td>\n",
              "    </tr>\n",
              "    <tr>\n",
              "      <th>7AM</th>\n",
              "      <td>0.440000</td>\n",
              "    </tr>\n",
              "  </tbody>\n",
              "</table>\n",
              "</div><br><label><b>dtype:</b> float64</label>"
            ]
          },
          "metadata": {},
          "execution_count": 235
        }
      ]
    },
    {
      "cell_type": "code",
      "execution_count": 118,
      "metadata": {
        "id": "RrqUWn7d_qRL"
      },
      "outputs": [],
      "source": [
        "#Filter time as \"midday\" vs early vs late\n",
        "midday = ['10AM', '2PM']\n",
        "early = ['7AM']\n",
        "late = ['6PM', '10PM']\n",
        "\n"
      ]
    },
    {
      "cell_type": "code",
      "source": [
        "#Include filtering whether drive takes place during \"midday\" (10 am to 2 pm) and explore taking out the \"peer companion\":\n",
        "\n",
        "print(\"Coupon acceptance rates for drivers who:\")\n",
        "print(\"* are 25 years old or younger, go to coffee houses once a month or more, are driving\")\n",
        "print(\" to 'No Urgent Place', in the middle of the day AND are less than 15 minutes from destination: \",\n",
        "coffeecoupons.query('(age in @age25orless and CoffeeHouse in @onceormore) and (destination == \"No Urgent Place\" and time in @midday) and distance == 1')['Y'].mean())\n",
        "\n",
        "print(\"* fail at least one of the conditions above:                                                   \",\n",
        "      coffeecoupons.query('(age in @ageover25 | CoffeeHouse in @ltoncemonth) | (destination != \"No Urgent Place\" | time in @early) | (time in @late | distance >1)')['Y'].mean())"
      ],
      "metadata": {
        "colab": {
          "base_uri": "https://localhost:8080/"
        },
        "id": "xPmVan_f1LsI",
        "outputId": "7ccf5cc8-6339-4e19-cb83-d7c360ed4eb5"
      },
      "execution_count": 154,
      "outputs": [
        {
          "output_type": "stream",
          "name": "stdout",
          "text": [
            "Coupon acceptance rates for drivers who:\n",
            "* are 25 years old or younger, go to coffee houses once a month or more, are driving\n",
            " to 'No Urgent Place', in the middle of the day AND are less than 15 minutes from destination:  0.8761904761904762\n",
            "* fail at least one of the conditions above:                                                    0.4855834007006198\n"
          ]
        }
      ]
    },
    {
      "cell_type": "code",
      "source": [
        "#Bring back the peer companion for comparison purposes:\n",
        "print(\"Coupon acceptance rates for drivers who:\")\n",
        "print(\"* are 25 years old or younger, go to coffee houses once a month or more,  have peer companions,\")\n",
        "print(\"  are driving in the middle of the day (10 am to 2 pm), to 'No Urgent Place' AND are \")\n",
        "print(\"  less than 15 minutes from destination:                                                          \",\n",
        "      coffeecoupons.query('(CoffeeHouse in @onceormore and passenger in @peer) and (destination == \"No Urgent Place\" and distance == 1) and (age in @age25orless and time in @midday )')\n",
        "      ['Y'].mean())\n",
        "print(\"* fail at least one of the conditions above:                                                      \",\n",
        "      coffeecoupons.query('(CoffeeHouse in @ltoncemonth | passenger in @notpeer) | (destination != \"No Urgent Place\" | distance != 1) | age in @ageover25 | (time in @early | time in @late) ')\n",
        "      ['Y'].mean())\n",
        "\n"
      ],
      "metadata": {
        "colab": {
          "base_uri": "https://localhost:8080/"
        },
        "id": "uXgbvLpJCErq",
        "outputId": "30340c06-72b4-440e-b644-fde4be7f284f"
      },
      "execution_count": 149,
      "outputs": [
        {
          "output_type": "stream",
          "name": "stdout",
          "text": [
            "Coupon acceptance rates for drivers who:\n",
            "* are 25 years old or younger, go to coffee houses once a month or more,  have peer companions,\n",
            "  are driving in the middle of the day (10 am to 2 pm), to 'No Urgent Place' AND are \n",
            "  less than 15 minutes from destination:                                                           0.875\n",
            "* fail at least one of the conditions above:                                                       0.48822269807280516\n"
          ]
        }
      ]
    },
    {
      "cell_type": "code",
      "source": [
        "# Additional age filters\n",
        "under30 = ['below21', '21', '26']\n",
        "over30 = ['31', '36', '41', '46', '50plus']"
      ],
      "metadata": {
        "id": "KwWOXsmZ3bbv"
      },
      "execution_count": 146,
      "outputs": []
    },
    {
      "cell_type": "code",
      "source": [
        "#Modify query to filter age as under30 or over30\n",
        "\n",
        "print(\"Coupon acceptance rates for drivers who:\")\n",
        "print(\"* are 30 years old or younger, go to coffee houses once a month or more,  have peer companions,\")\n",
        "print(\"  are driving in the middle of the day (10 am to 2 pm), to 'No Urgent Place' AND are \")\n",
        "print(\"  less than 15 minutes from destination:                                                          \",\n",
        "      coffeecoupons.query('(CoffeeHouse in @onceormore and passenger in @peer) and (destination == \"No Urgent Place\" and distance == 1) and (age in @under30 and time in @midday )')\n",
        "      ['Y'].mean())\n",
        "print(\"* fail at least one of the conditions above:                                                      \",\n",
        "      coffeecoupons.query('(CoffeeHouse in @ltoncemonth | passenger in @notpeer) | (destination != \"No Urgent Place\" | distance != 1) | age in @over30 | (time in @early | time in @late) ')\n",
        "      ['Y'].mean())\n",
        "\n"
      ],
      "metadata": {
        "colab": {
          "base_uri": "https://localhost:8080/"
        },
        "outputId": "3c34b666-9891-48a0-fcd0-a3c51e3c04a6",
        "id": "8ZYrSKkmSF-D"
      },
      "execution_count": 150,
      "outputs": [
        {
          "output_type": "stream",
          "name": "stdout",
          "text": [
            "Coupon acceptance rates for drivers who:\n",
            "* are 30 years old or younger, go to coffee houses once a month or more,  have peer companions,\n",
            "  are driving in the middle of the day (10 am to 2 pm), to 'No Urgent Place' AND are \n",
            "  less than 15 minutes from destination:                                                           0.8441558441558441\n",
            "* fail at least one of the conditions above:                                                       0.4817039868924085\n"
          ]
        }
      ]
    },
    {
      "cell_type": "code",
      "source": [],
      "metadata": {
        "id": "40qPuPxhG_YC"
      },
      "execution_count": null,
      "outputs": []
    },
    {
      "cell_type": "code",
      "source": [
        "accepted = coffeecoupons.query('Y == 1')\n",
        "accepted.info()"
      ],
      "metadata": {
        "colab": {
          "base_uri": "https://localhost:8080/"
        },
        "id": "6CJo524kG_Ra",
        "outputId": "0917b0b1-5056-400b-d22d-bf7066f963ad"
      },
      "execution_count": 226,
      "outputs": [
        {
          "output_type": "stream",
          "name": "stdout",
          "text": [
            "<class 'pandas.core.frame.DataFrame'>\n",
            "Index: 1894 entries, 45 to 12631\n",
            "Data columns (total 26 columns):\n",
            " #   Column                Non-Null Count  Dtype \n",
            "---  ------                --------------  ----- \n",
            " 0   destination           1894 non-null   object\n",
            " 1   passenger             1894 non-null   object\n",
            " 2   weather               1894 non-null   object\n",
            " 3   temperature           1894 non-null   int64 \n",
            " 4   time                  1894 non-null   object\n",
            " 5   coupon                1894 non-null   object\n",
            " 6   expiration            1894 non-null   object\n",
            " 7   gender                1894 non-null   object\n",
            " 8   age                   1894 non-null   object\n",
            " 9   maritalStatus         1894 non-null   object\n",
            " 10  has_children          1894 non-null   int64 \n",
            " 11  education             1894 non-null   object\n",
            " 12  occupation            1894 non-null   object\n",
            " 13  income                1894 non-null   object\n",
            " 14  Bar                   1894 non-null   object\n",
            " 15  CoffeeHouse           1894 non-null   object\n",
            " 16  CarryAway             1894 non-null   object\n",
            " 17  RestaurantLessThan20  1894 non-null   object\n",
            " 18  Restaurant20To50      1894 non-null   object\n",
            " 19  toCoupon_GEQ5min      1894 non-null   int64 \n",
            " 20  toCoupon_GEQ15min     1894 non-null   int64 \n",
            " 21  toCoupon_GEQ25min     1894 non-null   int64 \n",
            " 22  direction_same        1894 non-null   int64 \n",
            " 23  direction_opp         1894 non-null   int64 \n",
            " 24  Y                     1894 non-null   int64 \n",
            " 25  distance              1894 non-null   int64 \n",
            "dtypes: int64(9), object(17)\n",
            "memory usage: 399.5+ KB\n"
          ]
        }
      ]
    },
    {
      "cell_type": "code",
      "source": [
        "accepted['weather'].value_counts()"
      ],
      "metadata": {
        "colab": {
          "base_uri": "https://localhost:8080/",
          "height": 209
        },
        "id": "ZfaL54uaG-05",
        "outputId": "72b466a5-f7bd-4cb9-ac5a-56b490036873"
      },
      "execution_count": 227,
      "outputs": [
        {
          "output_type": "execute_result",
          "data": {
            "text/plain": [
              "weather\n",
              "Sunny    1661\n",
              "Snowy     122\n",
              "Rainy     111\n",
              "Name: count, dtype: int64"
            ],
            "text/html": [
              "<div>\n",
              "<style scoped>\n",
              "    .dataframe tbody tr th:only-of-type {\n",
              "        vertical-align: middle;\n",
              "    }\n",
              "\n",
              "    .dataframe tbody tr th {\n",
              "        vertical-align: top;\n",
              "    }\n",
              "\n",
              "    .dataframe thead th {\n",
              "        text-align: right;\n",
              "    }\n",
              "</style>\n",
              "<table border=\"1\" class=\"dataframe\">\n",
              "  <thead>\n",
              "    <tr style=\"text-align: right;\">\n",
              "      <th></th>\n",
              "      <th>count</th>\n",
              "    </tr>\n",
              "    <tr>\n",
              "      <th>weather</th>\n",
              "      <th></th>\n",
              "    </tr>\n",
              "  </thead>\n",
              "  <tbody>\n",
              "    <tr>\n",
              "      <th>Sunny</th>\n",
              "      <td>1661</td>\n",
              "    </tr>\n",
              "    <tr>\n",
              "      <th>Snowy</th>\n",
              "      <td>122</td>\n",
              "    </tr>\n",
              "    <tr>\n",
              "      <th>Rainy</th>\n",
              "      <td>111</td>\n",
              "    </tr>\n",
              "  </tbody>\n",
              "</table>\n",
              "</div><br><label><b>dtype:</b> int64</label>"
            ]
          },
          "metadata": {},
          "execution_count": 227
        }
      ]
    },
    {
      "cell_type": "code",
      "source": [
        "#Pie chart breaking down weather conditions for accepted coffee house coupons\n",
        "cts = [122, 1161, 111]\n",
        "labels = ['Snowy','Sunny', 'Rainy']\n",
        "colors = sns.color_palette('bright')[7:10]\n",
        "plt.title('Accepted CoffeeHouse Coupons: Weather Conditions')\n",
        "plt.pie(cts,labels = labels, colors = colors, autopct = '%1.1f%%')\n",
        "plt.show()"
      ],
      "metadata": {
        "colab": {
          "base_uri": "https://localhost:8080/",
          "height": 428
        },
        "id": "AzOTFMnWIt47",
        "outputId": "56213e04-6d3b-4b5f-8830-dafd85cb639a"
      },
      "execution_count": 247,
      "outputs": [
        {
          "output_type": "display_data",
          "data": {
            "text/plain": [
              "<Figure size 640x480 with 1 Axes>"
            ],
            "image/png": "[encoded data removed]"
          },
          "metadata": {}
        }
      ]
    },
    {
      "cell_type": "code",
      "source": [
        "cleandata.groupby('weather')['Y'].mean()"
      ],
      "metadata": {
        "colab": {
          "base_uri": "https://localhost:8080/",
          "height": 209
        },
        "id": "D7IbVea0GUdO",
        "outputId": "c085f28e-73d2-491e-99dd-f81d918577ff"
      },
      "execution_count": 228,
      "outputs": [
        {
          "output_type": "execute_result",
          "data": {
            "text/plain": [
              "weather\n",
              "Rainy    0.462075\n",
              "Snowy    0.476334\n",
              "Sunny    0.595042\n",
              "Name: Y, dtype: float64"
            ],
            "text/html": [
              "<div>\n",
              "<style scoped>\n",
              "    .dataframe tbody tr th:only-of-type {\n",
              "        vertical-align: middle;\n",
              "    }\n",
              "\n",
              "    .dataframe tbody tr th {\n",
              "        vertical-align: top;\n",
              "    }\n",
              "\n",
              "    .dataframe thead th {\n",
              "        text-align: right;\n",
              "    }\n",
              "</style>\n",
              "<table border=\"1\" class=\"dataframe\">\n",
              "  <thead>\n",
              "    <tr style=\"text-align: right;\">\n",
              "      <th></th>\n",
              "      <th>Y</th>\n",
              "    </tr>\n",
              "    <tr>\n",
              "      <th>weather</th>\n",
              "      <th></th>\n",
              "    </tr>\n",
              "  </thead>\n",
              "  <tbody>\n",
              "    <tr>\n",
              "      <th>Rainy</th>\n",
              "      <td>0.462075</td>\n",
              "    </tr>\n",
              "    <tr>\n",
              "      <th>Snowy</th>\n",
              "      <td>0.476334</td>\n",
              "    </tr>\n",
              "    <tr>\n",
              "      <th>Sunny</th>\n",
              "      <td>0.595042</td>\n",
              "    </tr>\n",
              "  </tbody>\n",
              "</table>\n",
              "</div><br><label><b>dtype:</b> float64</label>"
            ]
          },
          "metadata": {},
          "execution_count": 228
        }
      ]
    },
    {
      "cell_type": "markdown",
      "source": [
        "##Findings:\n",
        "This last query shows a rather specific combination of variable values that characterize drivers who are most likely to accept a coupon for a coffee house. These drivers are:\n",
        "\n",
        "\n",
        "*   young (25 or younger);\n",
        "*   go to coffee houses at least once a month;\n",
        "*   are driving in the middle of the day (10 am to 2 pm);\n",
        "*   are not in a hurry (destination is \"No Urgent Place\"); and\n",
        "*   are located less than a 15-minute drive away from the establishment offering the coupon; and\n",
        "*   (possibly) are driving with peer companions --a partner or friends.\n",
        "\n",
        "\n"
      ],
      "metadata": {
        "id": "hyZpAgfVRROi"
      }
    },
    {
      "cell_type": "code",
      "source": [],
      "metadata": {
        "id": "ZcMyyM-TGUhb"
      },
      "execution_count": null,
      "outputs": []
    },
    {
      "cell_type": "code",
      "source": [],
      "metadata": {
        "id": "l_xOynPDGUlB"
      },
      "execution_count": null,
      "outputs": []
    },
    {
      "cell_type": "markdown",
      "source": [
        "**End of notebook.**"
      ],
      "metadata": {
        "id": "yq2o-I-_76ZM"
      }
    },
    {
      "cell_type": "markdown",
      "source": [
        "\n",
        "\n",
        "---\n",
        "\n",
        "\n",
        "##APPENDIX: Extra explorations"
      ],
      "metadata": {
        "id": "ozNewK-470YW"
      }
    },
    {
      "cell_type": "markdown",
      "source": [
        "Other ways of slicing the data do not seem to shed light on characteristics that differentiate the likelihood that drivers will accept the coffee house coupon. Some of these are presented below, and include: by income, by education level, and even by whether the establishment offering the coupon is in the same direction they are already on."
      ],
      "metadata": {
        "id": "oYsOCXiVMHUv"
      }
    },
    {
      "cell_type": "code",
      "source": [
        "coffeecoupons.groupby('income')['Y'].mean()"
      ],
      "metadata": {
        "colab": {
          "base_uri": "https://localhost:8080/",
          "height": 397
        },
        "id": "NvOrYZHRxrpf",
        "outputId": "a3c5a1d3-774b-42cb-f53b-78a793878976"
      },
      "execution_count": null,
      "outputs": [
        {
          "output_type": "execute_result",
          "data": {
            "text/plain": [
              "income\n",
              "$100000 or More     0.489524\n",
              "$12500 - $24999     0.552212\n",
              "$25000 - $37499     0.465154\n",
              "$37500 - $49999     0.547406\n",
              "$50000 - $62499     0.498047\n",
              "$62500 - $74999     0.435424\n",
              "$75000 - $87499     0.298246\n",
              "$87500 - $99999     0.539419\n",
              "Less than $12500    0.540268\n",
              "Name: Y, dtype: float64"
            ],
            "text/html": [
              "<div>\n",
              "<style scoped>\n",
              "    .dataframe tbody tr th:only-of-type {\n",
              "        vertical-align: middle;\n",
              "    }\n",
              "\n",
              "    .dataframe tbody tr th {\n",
              "        vertical-align: top;\n",
              "    }\n",
              "\n",
              "    .dataframe thead th {\n",
              "        text-align: right;\n",
              "    }\n",
              "</style>\n",
              "<table border=\"1\" class=\"dataframe\">\n",
              "  <thead>\n",
              "    <tr style=\"text-align: right;\">\n",
              "      <th></th>\n",
              "      <th>Y</th>\n",
              "    </tr>\n",
              "    <tr>\n",
              "      <th>income</th>\n",
              "      <th></th>\n",
              "    </tr>\n",
              "  </thead>\n",
              "  <tbody>\n",
              "    <tr>\n",
              "      <th>$100000 or More</th>\n",
              "      <td>0.489524</td>\n",
              "    </tr>\n",
              "    <tr>\n",
              "      <th>$12500 - $24999</th>\n",
              "      <td>0.552212</td>\n",
              "    </tr>\n",
              "    <tr>\n",
              "      <th>$25000 - $37499</th>\n",
              "      <td>0.465154</td>\n",
              "    </tr>\n",
              "    <tr>\n",
              "      <th>$37500 - $49999</th>\n",
              "      <td>0.547406</td>\n",
              "    </tr>\n",
              "    <tr>\n",
              "      <th>$50000 - $62499</th>\n",
              "      <td>0.498047</td>\n",
              "    </tr>\n",
              "    <tr>\n",
              "      <th>$62500 - $74999</th>\n",
              "      <td>0.435424</td>\n",
              "    </tr>\n",
              "    <tr>\n",
              "      <th>$75000 - $87499</th>\n",
              "      <td>0.298246</td>\n",
              "    </tr>\n",
              "    <tr>\n",
              "      <th>$87500 - $99999</th>\n",
              "      <td>0.539419</td>\n",
              "    </tr>\n",
              "    <tr>\n",
              "      <th>Less than $12500</th>\n",
              "      <td>0.540268</td>\n",
              "    </tr>\n",
              "  </tbody>\n",
              "</table>\n",
              "</div><br><label><b>dtype:</b> float64</label>"
            ]
          },
          "metadata": {},
          "execution_count": 233
        }
      ]
    },
    {
      "cell_type": "code",
      "source": [
        "coffeecoupons.groupby('direction_same')['Y'].mean()"
      ],
      "metadata": {
        "colab": {
          "base_uri": "https://localhost:8080/",
          "height": 178
        },
        "id": "6V8g_OhYxr0V",
        "outputId": "6dc96620-da90-4988-9110-a44b0983ce71"
      },
      "execution_count": null,
      "outputs": [
        {
          "output_type": "execute_result",
          "data": {
            "text/plain": [
              "direction_same\n",
              "0    0.489355\n",
              "1    0.526536\n",
              "Name: Y, dtype: float64"
            ],
            "text/html": [
              "<div>\n",
              "<style scoped>\n",
              "    .dataframe tbody tr th:only-of-type {\n",
              "        vertical-align: middle;\n",
              "    }\n",
              "\n",
              "    .dataframe tbody tr th {\n",
              "        vertical-align: top;\n",
              "    }\n",
              "\n",
              "    .dataframe thead th {\n",
              "        text-align: right;\n",
              "    }\n",
              "</style>\n",
              "<table border=\"1\" class=\"dataframe\">\n",
              "  <thead>\n",
              "    <tr style=\"text-align: right;\">\n",
              "      <th></th>\n",
              "      <th>Y</th>\n",
              "    </tr>\n",
              "    <tr>\n",
              "      <th>direction_same</th>\n",
              "      <th></th>\n",
              "    </tr>\n",
              "  </thead>\n",
              "  <tbody>\n",
              "    <tr>\n",
              "      <th>0</th>\n",
              "      <td>0.489355</td>\n",
              "    </tr>\n",
              "    <tr>\n",
              "      <th>1</th>\n",
              "      <td>0.526536</td>\n",
              "    </tr>\n",
              "  </tbody>\n",
              "</table>\n",
              "</div><br><label><b>dtype:</b> float64</label>"
            ]
          },
          "metadata": {},
          "execution_count": 236
        }
      ]
    },
    {
      "cell_type": "code",
      "source": [
        "coffeecoupons.groupby('education')['Y'].mean()"
      ],
      "metadata": {
        "id": "t25wmChuEeqs",
        "colab": {
          "base_uri": "https://localhost:8080/",
          "height": 303
        },
        "outputId": "c60f17d8-f2bc-4f47-8110-a2e037fe7f7d"
      },
      "execution_count": 141,
      "outputs": [
        {
          "output_type": "execute_result",
          "data": {
            "text/plain": [
              "education\n",
              "Associates degree                         0.513846\n",
              "Bachelors degree                          0.456113\n",
              "Graduate degree (Masters or Doctorate)    0.507666\n",
              "High School Graduate                      0.540441\n",
              "Some High School                          0.607143\n",
              "Some college - no degree                  0.514307\n",
              "Name: Y, dtype: float64"
            ],
            "text/html": [
              "<div>\n",
              "<style scoped>\n",
              "    .dataframe tbody tr th:only-of-type {\n",
              "        vertical-align: middle;\n",
              "    }\n",
              "\n",
              "    .dataframe tbody tr th {\n",
              "        vertical-align: top;\n",
              "    }\n",
              "\n",
              "    .dataframe thead th {\n",
              "        text-align: right;\n",
              "    }\n",
              "</style>\n",
              "<table border=\"1\" class=\"dataframe\">\n",
              "  <thead>\n",
              "    <tr style=\"text-align: right;\">\n",
              "      <th></th>\n",
              "      <th>Y</th>\n",
              "    </tr>\n",
              "    <tr>\n",
              "      <th>education</th>\n",
              "      <th></th>\n",
              "    </tr>\n",
              "  </thead>\n",
              "  <tbody>\n",
              "    <tr>\n",
              "      <th>Associates degree</th>\n",
              "      <td>0.513846</td>\n",
              "    </tr>\n",
              "    <tr>\n",
              "      <th>Bachelors degree</th>\n",
              "      <td>0.456113</td>\n",
              "    </tr>\n",
              "    <tr>\n",
              "      <th>Graduate degree (Masters or Doctorate)</th>\n",
              "      <td>0.507666</td>\n",
              "    </tr>\n",
              "    <tr>\n",
              "      <th>High School Graduate</th>\n",
              "      <td>0.540441</td>\n",
              "    </tr>\n",
              "    <tr>\n",
              "      <th>Some High School</th>\n",
              "      <td>0.607143</td>\n",
              "    </tr>\n",
              "    <tr>\n",
              "      <th>Some college - no degree</th>\n",
              "      <td>0.514307</td>\n",
              "    </tr>\n",
              "  </tbody>\n",
              "</table>\n",
              "</div><br><label><b>dtype:</b> float64</label>"
            ]
          },
          "metadata": {},
          "execution_count": 141
        }
      ]
    },
    {
      "cell_type": "code",
      "source": [
        "cleandata.groupby('gender')['Y'].mean()"
      ],
      "metadata": {
        "id": "WpzK_Ev7DZQA",
        "colab": {
          "base_uri": "https://localhost:8080/",
          "height": 178
        },
        "outputId": "e23ae843-cfdf-42de-ce56-8f0a9bcbbb6f"
      },
      "execution_count": 216,
      "outputs": [
        {
          "output_type": "execute_result",
          "data": {
            "text/plain": [
              "gender\n",
              "Female    0.547508\n",
              "Male      0.592347\n",
              "Name: Y, dtype: float64"
            ],
            "text/html": [
              "<div>\n",
              "<style scoped>\n",
              "    .dataframe tbody tr th:only-of-type {\n",
              "        vertical-align: middle;\n",
              "    }\n",
              "\n",
              "    .dataframe tbody tr th {\n",
              "        vertical-align: top;\n",
              "    }\n",
              "\n",
              "    .dataframe thead th {\n",
              "        text-align: right;\n",
              "    }\n",
              "</style>\n",
              "<table border=\"1\" class=\"dataframe\">\n",
              "  <thead>\n",
              "    <tr style=\"text-align: right;\">\n",
              "      <th></th>\n",
              "      <th>Y</th>\n",
              "    </tr>\n",
              "    <tr>\n",
              "      <th>gender</th>\n",
              "      <th></th>\n",
              "    </tr>\n",
              "  </thead>\n",
              "  <tbody>\n",
              "    <tr>\n",
              "      <th>Female</th>\n",
              "      <td>0.547508</td>\n",
              "    </tr>\n",
              "    <tr>\n",
              "      <th>Male</th>\n",
              "      <td>0.592347</td>\n",
              "    </tr>\n",
              "  </tbody>\n",
              "</table>\n",
              "</div><br><label><b>dtype:</b> float64</label>"
            ]
          },
          "metadata": {},
          "execution_count": 216
        }
      ]
    },
    {
      "cell_type": "code",
      "source": [
        "cleandata.groupby('income')['Y'].mean()"
      ],
      "metadata": {
        "colab": {
          "base_uri": "https://localhost:8080/",
          "height": 397
        },
        "id": "9JCjxi4ustC-",
        "outputId": "3ba553b3-d4be-4e14-a0c3-fe645ed5eb04"
      },
      "execution_count": 217,
      "outputs": [
        {
          "output_type": "execute_result",
          "data": {
            "text/plain": [
              "income\n",
              "$100000 or More     0.578014\n",
              "$12500 - $24999     0.577546\n",
              "$25000 - $37499     0.597186\n",
              "$37500 - $49999     0.570752\n",
              "$50000 - $62499     0.589776\n",
              "$62500 - $74999     0.527381\n",
              "$75000 - $87499     0.492629\n",
              "$87500 - $99999     0.523227\n",
              "Less than $12500    0.587771\n",
              "Name: Y, dtype: float64"
            ],
            "text/html": [
              "<div>\n",
              "<style scoped>\n",
              "    .dataframe tbody tr th:only-of-type {\n",
              "        vertical-align: middle;\n",
              "    }\n",
              "\n",
              "    .dataframe tbody tr th {\n",
              "        vertical-align: top;\n",
              "    }\n",
              "\n",
              "    .dataframe thead th {\n",
              "        text-align: right;\n",
              "    }\n",
              "</style>\n",
              "<table border=\"1\" class=\"dataframe\">\n",
              "  <thead>\n",
              "    <tr style=\"text-align: right;\">\n",
              "      <th></th>\n",
              "      <th>Y</th>\n",
              "    </tr>\n",
              "    <tr>\n",
              "      <th>income</th>\n",
              "      <th></th>\n",
              "    </tr>\n",
              "  </thead>\n",
              "  <tbody>\n",
              "    <tr>\n",
              "      <th>$100000 or More</th>\n",
              "      <td>0.578014</td>\n",
              "    </tr>\n",
              "    <tr>\n",
              "      <th>$12500 - $24999</th>\n",
              "      <td>0.577546</td>\n",
              "    </tr>\n",
              "    <tr>\n",
              "      <th>$25000 - $37499</th>\n",
              "      <td>0.597186</td>\n",
              "    </tr>\n",
              "    <tr>\n",
              "      <th>$37500 - $49999</th>\n",
              "      <td>0.570752</td>\n",
              "    </tr>\n",
              "    <tr>\n",
              "      <th>$50000 - $62499</th>\n",
              "      <td>0.589776</td>\n",
              "    </tr>\n",
              "    <tr>\n",
              "      <th>$62500 - $74999</th>\n",
              "      <td>0.527381</td>\n",
              "    </tr>\n",
              "    <tr>\n",
              "      <th>$75000 - $87499</th>\n",
              "      <td>0.492629</td>\n",
              "    </tr>\n",
              "    <tr>\n",
              "      <th>$87500 - $99999</th>\n",
              "      <td>0.523227</td>\n",
              "    </tr>\n",
              "    <tr>\n",
              "      <th>Less than $12500</th>\n",
              "      <td>0.587771</td>\n",
              "    </tr>\n",
              "  </tbody>\n",
              "</table>\n",
              "</div><br><label><b>dtype:</b> float64</label>"
            ]
          },
          "metadata": {},
          "execution_count": 217
        }
      ]
    },
    {
      "cell_type": "code",
      "source": [
        "cleandata.groupby('maritalStatus')['Y'].mean()"
      ],
      "metadata": {
        "colab": {
          "base_uri": "https://localhost:8080/",
          "height": 272
        },
        "id": "sibDq5blE_D9",
        "outputId": "7b46c142-f62f-48b0-8633-8f41089c3dee"
      },
      "execution_count": 219,
      "outputs": [
        {
          "output_type": "execute_result",
          "data": {
            "text/plain": [
              "maritalStatus\n",
              "Divorced             0.525794\n",
              "Married partner      0.542952\n",
              "Single               0.610288\n",
              "Unmarried partner    0.555664\n",
              "Widowed              0.472222\n",
              "Name: Y, dtype: float64"
            ],
            "text/html": [
              "<div>\n",
              "<style scoped>\n",
              "    .dataframe tbody tr th:only-of-type {\n",
              "        vertical-align: middle;\n",
              "    }\n",
              "\n",
              "    .dataframe tbody tr th {\n",
              "        vertical-align: top;\n",
              "    }\n",
              "\n",
              "    .dataframe thead th {\n",
              "        text-align: right;\n",
              "    }\n",
              "</style>\n",
              "<table border=\"1\" class=\"dataframe\">\n",
              "  <thead>\n",
              "    <tr style=\"text-align: right;\">\n",
              "      <th></th>\n",
              "      <th>Y</th>\n",
              "    </tr>\n",
              "    <tr>\n",
              "      <th>maritalStatus</th>\n",
              "      <th></th>\n",
              "    </tr>\n",
              "  </thead>\n",
              "  <tbody>\n",
              "    <tr>\n",
              "      <th>Divorced</th>\n",
              "      <td>0.525794</td>\n",
              "    </tr>\n",
              "    <tr>\n",
              "      <th>Married partner</th>\n",
              "      <td>0.542952</td>\n",
              "    </tr>\n",
              "    <tr>\n",
              "      <th>Single</th>\n",
              "      <td>0.610288</td>\n",
              "    </tr>\n",
              "    <tr>\n",
              "      <th>Unmarried partner</th>\n",
              "      <td>0.555664</td>\n",
              "    </tr>\n",
              "    <tr>\n",
              "      <th>Widowed</th>\n",
              "      <td>0.472222</td>\n",
              "    </tr>\n",
              "  </tbody>\n",
              "</table>\n",
              "</div><br><label><b>dtype:</b> float64</label>"
            ]
          },
          "metadata": {},
          "execution_count": 219
        }
      ]
    },
    {
      "cell_type": "code",
      "source": [
        "cleandata.groupby('occupation')['Y'].mean()"
      ],
      "metadata": {
        "colab": {
          "base_uri": "https://localhost:8080/",
          "height": 899
        },
        "id": "6wbAXsRxE_Iu",
        "outputId": "0b1db488-657f-4715-bf6d-2607e2324fe4"
      },
      "execution_count": 220,
      "outputs": [
        {
          "output_type": "execute_result",
          "data": {
            "text/plain": [
              "occupation\n",
              "Architecture & Engineering                   0.634286\n",
              "Arts Design Entertainment Sports & Media     0.533688\n",
              "Building & Grounds Cleaning & Maintenance    0.590909\n",
              "Business & Financial                         0.569767\n",
              "Community & Social Services                  0.497717\n",
              "Computer & Mathematical                      0.563596\n",
              "Construction & Extraction                    0.688312\n",
              "Education&Training&Library                   0.513450\n",
              "Farming Fishing & Forestry                   0.534884\n",
              "Food Preparation & Serving Related           0.565217\n",
              "Healthcare Practitioners & Technical         0.716216\n",
              "Healthcare Support                           0.698347\n",
              "Installation Maintenance & Repair            0.533835\n",
              "Legal                                        0.470320\n",
              "Life Physical Social Science                 0.576471\n",
              "Management                                   0.593264\n",
              "Office & Administrative Support              0.602917\n",
              "Personal Care & Service                      0.555556\n",
              "Production Occupations                       0.704545\n",
              "Protective Service                           0.645714\n",
              "Retired                                      0.456660\n",
              "Sales & Related                              0.563433\n",
              "Student                                      0.608550\n",
              "Transportation & Material Moving             0.596330\n",
              "Unemployed                                   0.545755\n",
              "Name: Y, dtype: float64"
            ],
            "text/html": [
              "<div>\n",
              "<style scoped>\n",
              "    .dataframe tbody tr th:only-of-type {\n",
              "        vertical-align: middle;\n",
              "    }\n",
              "\n",
              "    .dataframe tbody tr th {\n",
              "        vertical-align: top;\n",
              "    }\n",
              "\n",
              "    .dataframe thead th {\n",
              "        text-align: right;\n",
              "    }\n",
              "</style>\n",
              "<table border=\"1\" class=\"dataframe\">\n",
              "  <thead>\n",
              "    <tr style=\"text-align: right;\">\n",
              "      <th></th>\n",
              "      <th>Y</th>\n",
              "    </tr>\n",
              "    <tr>\n",
              "      <th>occupation</th>\n",
              "      <th></th>\n",
              "    </tr>\n",
              "  </thead>\n",
              "  <tbody>\n",
              "    <tr>\n",
              "      <th>Architecture &amp; Engineering</th>\n",
              "      <td>0.634286</td>\n",
              "    </tr>\n",
              "    <tr>\n",
              "      <th>Arts Design Entertainment Sports &amp; Media</th>\n",
              "      <td>0.533688</td>\n",
              "    </tr>\n",
              "    <tr>\n",
              "      <th>Building &amp; Grounds Cleaning &amp; Maintenance</th>\n",
              "      <td>0.590909</td>\n",
              "    </tr>\n",
              "    <tr>\n",
              "      <th>Business &amp; Financial</th>\n",
              "      <td>0.569767</td>\n",
              "    </tr>\n",
              "    <tr>\n",
              "      <th>Community &amp; Social Services</th>\n",
              "      <td>0.497717</td>\n",
              "    </tr>\n",
              "    <tr>\n",
              "      <th>Computer &amp; Mathematical</th>\n",
              "      <td>0.563596</td>\n",
              "    </tr>\n",
              "    <tr>\n",
              "      <th>Construction &amp; Extraction</th>\n",
              "      <td>0.688312</td>\n",
              "    </tr>\n",
              "    <tr>\n",
              "      <th>Education&amp;Training&amp;Library</th>\n",
              "      <td>0.513450</td>\n",
              "    </tr>\n",
              "    <tr>\n",
              "      <th>Farming Fishing &amp; Forestry</th>\n",
              "      <td>0.534884</td>\n",
              "    </tr>\n",
              "    <tr>\n",
              "      <th>Food Preparation &amp; Serving Related</th>\n",
              "      <td>0.565217</td>\n",
              "    </tr>\n",
              "    <tr>\n",
              "      <th>Healthcare Practitioners &amp; Technical</th>\n",
              "      <td>0.716216</td>\n",
              "    </tr>\n",
              "    <tr>\n",
              "      <th>Healthcare Support</th>\n",
              "      <td>0.698347</td>\n",
              "    </tr>\n",
              "    <tr>\n",
              "      <th>Installation Maintenance &amp; Repair</th>\n",
              "      <td>0.533835</td>\n",
              "    </tr>\n",
              "    <tr>\n",
              "      <th>Legal</th>\n",
              "      <td>0.470320</td>\n",
              "    </tr>\n",
              "    <tr>\n",
              "      <th>Life Physical Social Science</th>\n",
              "      <td>0.576471</td>\n",
              "    </tr>\n",
              "    <tr>\n",
              "      <th>Management</th>\n",
              "      <td>0.593264</td>\n",
              "    </tr>\n",
              "    <tr>\n",
              "      <th>Office &amp; Administrative Support</th>\n",
              "      <td>0.602917</td>\n",
              "    </tr>\n",
              "    <tr>\n",
              "      <th>Personal Care &amp; Service</th>\n",
              "      <td>0.555556</td>\n",
              "    </tr>\n",
              "    <tr>\n",
              "      <th>Production Occupations</th>\n",
              "      <td>0.704545</td>\n",
              "    </tr>\n",
              "    <tr>\n",
              "      <th>Protective Service</th>\n",
              "      <td>0.645714</td>\n",
              "    </tr>\n",
              "    <tr>\n",
              "      <th>Retired</th>\n",
              "      <td>0.456660</td>\n",
              "    </tr>\n",
              "    <tr>\n",
              "      <th>Sales &amp; Related</th>\n",
              "      <td>0.563433</td>\n",
              "    </tr>\n",
              "    <tr>\n",
              "      <th>Student</th>\n",
              "      <td>0.608550</td>\n",
              "    </tr>\n",
              "    <tr>\n",
              "      <th>Transportation &amp; Material Moving</th>\n",
              "      <td>0.596330</td>\n",
              "    </tr>\n",
              "    <tr>\n",
              "      <th>Unemployed</th>\n",
              "      <td>0.545755</td>\n",
              "    </tr>\n",
              "  </tbody>\n",
              "</table>\n",
              "</div><br><label><b>dtype:</b> float64</label>"
            ]
          },
          "metadata": {},
          "execution_count": 220
        }
      ]
    },
    {
      "cell_type": "code",
      "source": [
        "cleandata.groupby('has_children')['Y'].mean()"
      ],
      "metadata": {
        "colab": {
          "base_uri": "https://localhost:8080/",
          "height": 178
        },
        "id": "EDVjRHWUE_NC",
        "outputId": "6ebc8c03-0e11-4444-d107-f8ada753d8f6"
      },
      "execution_count": 221,
      "outputs": [
        {
          "output_type": "execute_result",
          "data": {
            "text/plain": [
              "has_children\n",
              "0    0.589223\n",
              "1    0.540535\n",
              "Name: Y, dtype: float64"
            ],
            "text/html": [
              "<div>\n",
              "<style scoped>\n",
              "    .dataframe tbody tr th:only-of-type {\n",
              "        vertical-align: middle;\n",
              "    }\n",
              "\n",
              "    .dataframe tbody tr th {\n",
              "        vertical-align: top;\n",
              "    }\n",
              "\n",
              "    .dataframe thead th {\n",
              "        text-align: right;\n",
              "    }\n",
              "</style>\n",
              "<table border=\"1\" class=\"dataframe\">\n",
              "  <thead>\n",
              "    <tr style=\"text-align: right;\">\n",
              "      <th></th>\n",
              "      <th>Y</th>\n",
              "    </tr>\n",
              "    <tr>\n",
              "      <th>has_children</th>\n",
              "      <th></th>\n",
              "    </tr>\n",
              "  </thead>\n",
              "  <tbody>\n",
              "    <tr>\n",
              "      <th>0</th>\n",
              "      <td>0.589223</td>\n",
              "    </tr>\n",
              "    <tr>\n",
              "      <th>1</th>\n",
              "      <td>0.540535</td>\n",
              "    </tr>\n",
              "  </tbody>\n",
              "</table>\n",
              "</div><br><label><b>dtype:</b> float64</label>"
            ]
          },
          "metadata": {},
          "execution_count": 221
        }
      ]
    },
    {
      "cell_type": "code",
      "source": [
        "cleandata.groupby('age')['Y'].mean()"
      ],
      "metadata": {
        "colab": {
          "base_uri": "https://localhost:8080/",
          "height": 366
        },
        "id": "IZZuGfbGE_RV",
        "outputId": "3f2d2a21-2b76-4abe-f675-521143917df2"
      },
      "execution_count": 222,
      "outputs": [
        {
          "output_type": "execute_result",
          "data": {
            "text/plain": [
              "age\n",
              "21         0.594009\n",
              "26         0.599833\n",
              "31         0.552208\n",
              "36         0.538707\n",
              "41         0.574648\n",
              "46         0.576807\n",
              "50plus     0.507506\n",
              "below21    0.632937\n",
              "Name: Y, dtype: float64"
            ],
            "text/html": [
              "<div>\n",
              "<style scoped>\n",
              "    .dataframe tbody tr th:only-of-type {\n",
              "        vertical-align: middle;\n",
              "    }\n",
              "\n",
              "    .dataframe tbody tr th {\n",
              "        vertical-align: top;\n",
              "    }\n",
              "\n",
              "    .dataframe thead th {\n",
              "        text-align: right;\n",
              "    }\n",
              "</style>\n",
              "<table border=\"1\" class=\"dataframe\">\n",
              "  <thead>\n",
              "    <tr style=\"text-align: right;\">\n",
              "      <th></th>\n",
              "      <th>Y</th>\n",
              "    </tr>\n",
              "    <tr>\n",
              "      <th>age</th>\n",
              "      <th></th>\n",
              "    </tr>\n",
              "  </thead>\n",
              "  <tbody>\n",
              "    <tr>\n",
              "      <th>21</th>\n",
              "      <td>0.594009</td>\n",
              "    </tr>\n",
              "    <tr>\n",
              "      <th>26</th>\n",
              "      <td>0.599833</td>\n",
              "    </tr>\n",
              "    <tr>\n",
              "      <th>31</th>\n",
              "      <td>0.552208</td>\n",
              "    </tr>\n",
              "    <tr>\n",
              "      <th>36</th>\n",
              "      <td>0.538707</td>\n",
              "    </tr>\n",
              "    <tr>\n",
              "      <th>41</th>\n",
              "      <td>0.574648</td>\n",
              "    </tr>\n",
              "    <tr>\n",
              "      <th>46</th>\n",
              "      <td>0.576807</td>\n",
              "    </tr>\n",
              "    <tr>\n",
              "      <th>50plus</th>\n",
              "      <td>0.507506</td>\n",
              "    </tr>\n",
              "    <tr>\n",
              "      <th>below21</th>\n",
              "      <td>0.632937</td>\n",
              "    </tr>\n",
              "  </tbody>\n",
              "</table>\n",
              "</div><br><label><b>dtype:</b> float64</label>"
            ]
          },
          "metadata": {},
          "execution_count": 222
        }
      ]
    },
    {
      "cell_type": "code",
      "source": [
        "cleandata.groupby('weather')['Y'].mean()"
      ],
      "metadata": {
        "colab": {
          "base_uri": "https://localhost:8080/",
          "height": 209
        },
        "id": "HIXrgu51E_VP",
        "outputId": "0a01ce06-db2f-4b89-9213-8b843ed0235e"
      },
      "execution_count": 224,
      "outputs": [
        {
          "output_type": "execute_result",
          "data": {
            "text/plain": [
              "weather\n",
              "Rainy    0.462075\n",
              "Snowy    0.476334\n",
              "Sunny    0.595042\n",
              "Name: Y, dtype: float64"
            ],
            "text/html": [
              "<div>\n",
              "<style scoped>\n",
              "    .dataframe tbody tr th:only-of-type {\n",
              "        vertical-align: middle;\n",
              "    }\n",
              "\n",
              "    .dataframe tbody tr th {\n",
              "        vertical-align: top;\n",
              "    }\n",
              "\n",
              "    .dataframe thead th {\n",
              "        text-align: right;\n",
              "    }\n",
              "</style>\n",
              "<table border=\"1\" class=\"dataframe\">\n",
              "  <thead>\n",
              "    <tr style=\"text-align: right;\">\n",
              "      <th></th>\n",
              "      <th>Y</th>\n",
              "    </tr>\n",
              "    <tr>\n",
              "      <th>weather</th>\n",
              "      <th></th>\n",
              "    </tr>\n",
              "  </thead>\n",
              "  <tbody>\n",
              "    <tr>\n",
              "      <th>Rainy</th>\n",
              "      <td>0.462075</td>\n",
              "    </tr>\n",
              "    <tr>\n",
              "      <th>Snowy</th>\n",
              "      <td>0.476334</td>\n",
              "    </tr>\n",
              "    <tr>\n",
              "      <th>Sunny</th>\n",
              "      <td>0.595042</td>\n",
              "    </tr>\n",
              "  </tbody>\n",
              "</table>\n",
              "</div><br><label><b>dtype:</b> float64</label>"
            ]
          },
          "metadata": {},
          "execution_count": 224
        }
      ]
    },
    {
      "cell_type": "code",
      "source": [],
      "metadata": {
        "id": "KiVO-3iVE_ZL"
      },
      "execution_count": null,
      "outputs": []
    },
    {
      "cell_type": "code",
      "source": [],
      "metadata": {
        "id": "pk_I6OLRE_c3"
      },
      "execution_count": null,
      "outputs": []
    }
  ],
  "metadata": {
    "kernelspec": {
      "display_name": "Python 3 (ipykernel)",
      "language": "python",
      "name": "python3"
    },
    "language_info": {
      "codemirror_mode": {
        "name": "ipython",
        "version": 3
      },
      "file_extension": ".py",
      "mimetype": "text/x-python",
      "name": "python",
      "nbconvert_exporter": "python",
      "pygments_lexer": "ipython3",
      "version": "3.12.1"
    },
    "colab": {
      "provenance": []
    }
  },
  "nbformat": 4,
  "nbformat_minor": 0
}